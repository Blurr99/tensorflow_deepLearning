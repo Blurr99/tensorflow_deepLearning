{
  "nbformat": 4,
  "nbformat_minor": 0,
  "metadata": {
    "colab": {
      "provenance": [],
      "authorship_tag": "ABX9TyM9uZP+FqQ+47fJC5wJUF4W",
      "include_colab_link": true
    },
    "kernelspec": {
      "name": "python3",
      "display_name": "Python 3"
    },
    "language_info": {
      "name": "python"
    }
  },
  "cells": [
    {
      "cell_type": "markdown",
      "metadata": {
        "id": "view-in-github",
        "colab_type": "text"
      },
      "source": [
        "<a href=\"https://colab.research.google.com/github/Blurr99/tensorflow_deepLearning/blob/main/01_neural_network_regression_with_tensorflow.ipynb\" target=\"_parent\"><img src=\"https://colab.research.google.com/assets/colab-badge.svg\" alt=\"Open In Colab\"/></a>"
      ]
    },
    {
      "cell_type": "markdown",
      "source": [
        "# Introduction to Regression with Neural Networks in TensorFlow"
      ],
      "metadata": {
        "id": "6sKrM5EjGvAi"
      }
    },
    {
      "cell_type": "code",
      "source": [
        "# Import TensorFlow\n",
        "import tensorflow as tf\n",
        "print(tf.__version__)"
      ],
      "metadata": {
        "colab": {
          "base_uri": "https://localhost:8080/"
        },
        "id": "TEoNxNiHHDeX",
        "outputId": "aaf109a9-1e5a-4e4f-b43a-830548b1e68e"
      },
      "execution_count": 1,
      "outputs": [
        {
          "output_type": "stream",
          "name": "stdout",
          "text": [
            "2.14.0\n"
          ]
        }
      ]
    },
    {
      "cell_type": "code",
      "source": [
        "## Creating Data to view and fit\n",
        "import numpy as np\n",
        "import matplotlib.pyplot as plt\n",
        "\n",
        "# Create features\n",
        "X = np.array([-7.0, -4.0, -1.0, 2.0, 5.0, 8.0, 11.0, 14.0])\n",
        "\n",
        "# Create Labels\n",
        "y = np.array([3.0, 6.0, 9.0, 12.0, 15.0, 18.0, 21.0, 24.0])\n",
        "\n",
        "# Visualizing it\n",
        "plt.scatter(X, y)"
      ],
      "metadata": {
        "colab": {
          "base_uri": "https://localhost:8080/",
          "height": 452
        },
        "id": "yPHJHT3KHPMM",
        "outputId": "e3e9fe71-fe1a-4316-d843-1294dbf7dcc6"
      },
      "execution_count": 2,
      "outputs": [
        {
          "output_type": "execute_result",
          "data": {
            "text/plain": [
              "<matplotlib.collections.PathCollection at 0x7e42ff45aef0>"
            ]
          },
          "metadata": {},
          "execution_count": 2
        },
        {
          "output_type": "display_data",
          "data": {
            "text/plain": [
              "<Figure size 640x480 with 1 Axes>"
            ],
            "image/png": "[encoded data removed]"
          },
          "metadata": {}
        }
      ]
    },
    {
      "cell_type": "markdown",
      "source": [
        "## Input and output shapes"
      ],
      "metadata": {
        "id": "ZfZgi4p3HvMB"
      }
    },
    {
      "cell_type": "code",
      "source": [
        "# Create a demo tensor for our housing price prediction problem\n",
        "house_info = tf.constant([\"bedroom\",\"bathroom\",\"garage\"])\n",
        "house_price = tf.constant([939700])\n",
        "house_info, house_price"
      ],
      "metadata": {
        "colab": {
          "base_uri": "https://localhost:8080/"
        },
        "id": "b2CSNwnfIA6O",
        "outputId": "6d4894ed-d219-417e-f500-7211da3a8261"
      },
      "execution_count": 3,
      "outputs": [
        {
          "output_type": "execute_result",
          "data": {
            "text/plain": [
              "(<tf.Tensor: shape=(3,), dtype=string, numpy=array([b'bedroom', b'bathroom', b'garage'], dtype=object)>,\n",
              " <tf.Tensor: shape=(1,), dtype=int32, numpy=array([939700], dtype=int32)>)"
            ]
          },
          "metadata": {},
          "execution_count": 3
        }
      ]
    },
    {
      "cell_type": "code",
      "source": [
        "input_shape = X.shape,\n",
        "output_shape = y.shape\n",
        "input_shape, output_shape"
      ],
      "metadata": {
        "colab": {
          "base_uri": "https://localhost:8080/"
        },
        "id": "H-lvKKGYIbcu",
        "outputId": "ac0e40e9-bf13-40ce-e39f-6367840b6890"
      },
      "execution_count": 4,
      "outputs": [
        {
          "output_type": "execute_result",
          "data": {
            "text/plain": [
              "(((8,),), (8,))"
            ]
          },
          "metadata": {},
          "execution_count": 4
        }
      ]
    },
    {
      "cell_type": "code",
      "source": [
        "X = tf.cast(tf.constant(X), dtype = tf.float32)\n",
        "y = tf.cast(tf.constant(y), dtype = tf.float32)"
      ],
      "metadata": {
        "id": "wf-n30QIIm-s"
      },
      "execution_count": 5,
      "outputs": []
    },
    {
      "cell_type": "code",
      "source": [
        "input_shape = X[0].shape\n",
        "output_shape = y[0].shape"
      ],
      "metadata": {
        "id": "w1ftH-VKJiIq"
      },
      "execution_count": 6,
      "outputs": []
    },
    {
      "cell_type": "code",
      "source": [
        "input_shape, output_shape"
      ],
      "metadata": {
        "colab": {
          "base_uri": "https://localhost:8080/"
        },
        "id": "-FWxE87-Jmyj",
        "outputId": "bb69425b-dbbf-4c6d-a3a3-34ed17d90459"
      },
      "execution_count": 7,
      "outputs": [
        {
          "output_type": "execute_result",
          "data": {
            "text/plain": [
              "(TensorShape([]), TensorShape([]))"
            ]
          },
          "metadata": {},
          "execution_count": 7
        }
      ]
    },
    {
      "cell_type": "markdown",
      "source": [
        "## Steps in modelling with TensorFlow\n",
        "\n",
        "1. **Creating a model**- defining the input and output layers, as well as the hidden layersof a deep learing model.\n",
        "2. **Compiling the model**- define the loss function and the optimizer and evaluating metrics.\n",
        "3. **Fitting the model**- letting the model find patterns between x and y"
      ],
      "metadata": {
        "id": "crD05visJoh5"
      }
    },
    {
      "cell_type": "code",
      "source": [
        "# Set the random seed\n",
        "tf.random.set_seed(42)\n",
        "\n",
        "#1. Create a model with Sequential API\n",
        "model = tf.keras.Sequential([\n",
        "    tf.keras.layers.Dense(1)\n",
        "])\n",
        "\n",
        "#2. Compile the model\n",
        "model.compile(loss = tf.keras.losses.mae,\n",
        "              optimizer = tf.keras.optimizers.SGD(),\n",
        "              metrics = [\"mae\"])\n",
        "\n",
        "# 3. Fit the model\n",
        "model.fit(tf.expand_dims(X, axis = 1), y, epochs=5)"
      ],
      "metadata": {
        "colab": {
          "base_uri": "https://localhost:8080/"
        },
        "id": "4CLL36dsJsqr",
        "outputId": "dd40b440-d3a8-4a9a-9ffb-39b9ad4cdfed"
      },
      "execution_count": 8,
      "outputs": [
        {
          "output_type": "stream",
          "name": "stdout",
          "text": [
            "Epoch 1/5\n",
            "1/1 [==============================] - 0s 457ms/step - loss: 12.8836 - mae: 12.8836\n",
            "Epoch 2/5\n",
            "1/1 [==============================] - 0s 12ms/step - loss: 12.7511 - mae: 12.7511\n",
            "Epoch 3/5\n",
            "1/1 [==============================] - 0s 14ms/step - loss: 12.6186 - mae: 12.6186\n",
            "Epoch 4/5\n",
            "1/1 [==============================] - 0s 16ms/step - loss: 12.4861 - mae: 12.4861\n",
            "Epoch 5/5\n",
            "1/1 [==============================] - 0s 14ms/step - loss: 12.3536 - mae: 12.3536\n"
          ]
        },
        {
          "output_type": "execute_result",
          "data": {
            "text/plain": [
              "<keras.src.callbacks.History at 0x7e42fc0727d0>"
            ]
          },
          "metadata": {},
          "execution_count": 8
        }
      ]
    },
    {
      "cell_type": "code",
      "source": [
        "X, y"
      ],
      "metadata": {
        "id": "DHEzverZMOFj",
        "colab": {
          "base_uri": "https://localhost:8080/"
        },
        "outputId": "aa0987fa-d15a-43b8-eb5c-62b11d6f3f84"
      },
      "execution_count": 9,
      "outputs": [
        {
          "output_type": "execute_result",
          "data": {
            "text/plain": [
              "(<tf.Tensor: shape=(8,), dtype=float32, numpy=array([-7., -4., -1.,  2.,  5.,  8., 11., 14.], dtype=float32)>,\n",
              " <tf.Tensor: shape=(8,), dtype=float32, numpy=array([ 3.,  6.,  9., 12., 15., 18., 21., 24.], dtype=float32)>)"
            ]
          },
          "metadata": {},
          "execution_count": 9
        }
      ]
    },
    {
      "cell_type": "code",
      "source": [
        "model.predict([17.0])"
      ],
      "metadata": {
        "id": "Ng0EovJ3Mo8d",
        "colab": {
          "base_uri": "https://localhost:8080/"
        },
        "outputId": "8530e751-3636-4954-fd24-56ab22374457"
      },
      "execution_count": 10,
      "outputs": [
        {
          "output_type": "stream",
          "name": "stdout",
          "text": [
            "1/1 [==============================] - 0s 92ms/step\n"
          ]
        },
        {
          "output_type": "execute_result",
          "data": {
            "text/plain": [
              "array([[6.0190325]], dtype=float32)"
            ]
          },
          "metadata": {},
          "execution_count": 10
        }
      ]
    },
    {
      "cell_type": "markdown",
      "source": [
        "## Improving our model\n",
        "\n",
        "The model can be improved by altering the steps taken to create the model:\n",
        "\n",
        "1. **Creating a model**- Adding more layers, increase the number of hidden neurons, changing the activation function of each layer etc.\n",
        "\n",
        "2. **Compiling a model**- Changing the optimization function, **learning rate** of the said function.\n",
        "\n",
        "3. **Fitting a model**- Increasing the number of epochs or the data."
      ],
      "metadata": {
        "id": "E4wzdfuQ7_uW"
      }
    },
    {
      "cell_type": "code",
      "source": [
        "# Rebuilding the model\n",
        "\n",
        "#1. Creating the model\n",
        "model = tf.keras.Sequential([\n",
        "    tf.keras.layers.Dense(1)\n",
        "])\n",
        "\n",
        "# 2. Compiling the model\n",
        "model.compile(loss = tf.keras.losses.mae,\n",
        "              optimizer = tf.keras.optimizers.SGD(),\n",
        "              metrics = [\"mae\"])\n",
        "\n",
        "# 3. Fitting the model\n",
        "model.fit(tf.expand_dims(X, axis = -1), y, epochs = 100)"
      ],
      "metadata": {
        "colab": {
          "base_uri": "https://localhost:8080/"
        },
        "id": "OOHGpgYl8StE",
        "outputId": "b20fad21-ca6d-4776-fefb-f76bc3f9ce34"
      },
      "execution_count": 11,
      "outputs": [
        {
          "output_type": "stream",
          "name": "stdout",
          "text": [
            "Epoch 1/100\n",
            "1/1 [==============================] - 0s 333ms/step - loss: 19.7897 - mae: 19.7897\n",
            "Epoch 2/100\n",
            "1/1 [==============================] - 0s 11ms/step - loss: 19.5085 - mae: 19.5085\n",
            "Epoch 3/100\n",
            "1/1 [==============================] - 0s 9ms/step - loss: 19.2272 - mae: 19.2272\n",
            "Epoch 4/100\n",
            "1/1 [==============================] - 0s 9ms/step - loss: 18.9460 - mae: 18.9460\n",
            "Epoch 5/100\n",
            "1/1 [==============================] - 0s 9ms/step - loss: 18.6647 - mae: 18.6647\n",
            "Epoch 6/100\n",
            "1/1 [==============================] - 0s 9ms/step - loss: 18.3835 - mae: 18.3835\n",
            "Epoch 7/100\n",
            "1/1 [==============================] - 0s 9ms/step - loss: 18.1022 - mae: 18.1022\n",
            "Epoch 8/100\n",
            "1/1 [==============================] - 0s 10ms/step - loss: 17.8210 - mae: 17.8210\n",
            "Epoch 9/100\n",
            "1/1 [==============================] - 0s 11ms/step - loss: 17.5397 - mae: 17.5397\n",
            "Epoch 10/100\n",
            "1/1 [==============================] - 0s 10ms/step - loss: 17.2585 - mae: 17.2585\n",
            "Epoch 11/100\n",
            "1/1 [==============================] - 0s 10ms/step - loss: 16.9772 - mae: 16.9772\n",
            "Epoch 12/100\n",
            "1/1 [==============================] - 0s 10ms/step - loss: 16.6960 - mae: 16.6960\n",
            "Epoch 13/100\n",
            "1/1 [==============================] - 0s 10ms/step - loss: 16.4147 - mae: 16.4147\n",
            "Epoch 14/100\n",
            "1/1 [==============================] - 0s 11ms/step - loss: 16.1335 - mae: 16.1335\n",
            "Epoch 15/100\n",
            "1/1 [==============================] - 0s 10ms/step - loss: 15.8522 - mae: 15.8522\n",
            "Epoch 16/100\n",
            "1/1 [==============================] - 0s 10ms/step - loss: 15.5710 - mae: 15.5710\n",
            "Epoch 17/100\n",
            "1/1 [==============================] - 0s 10ms/step - loss: 15.2897 - mae: 15.2897\n",
            "Epoch 18/100\n",
            "1/1 [==============================] - 0s 10ms/step - loss: 15.0085 - mae: 15.0085\n",
            "Epoch 19/100\n",
            "1/1 [==============================] - 0s 11ms/step - loss: 14.7507 - mae: 14.7507\n",
            "Epoch 20/100\n",
            "1/1 [==============================] - 0s 10ms/step - loss: 14.6182 - mae: 14.6182\n",
            "Epoch 21/100\n",
            "1/1 [==============================] - 0s 10ms/step - loss: 14.4857 - mae: 14.4857\n",
            "Epoch 22/100\n",
            "1/1 [==============================] - 0s 9ms/step - loss: 14.3532 - mae: 14.3532\n",
            "Epoch 23/100\n",
            "1/1 [==============================] - 0s 11ms/step - loss: 14.2207 - mae: 14.2207\n",
            "Epoch 24/100\n",
            "1/1 [==============================] - 0s 10ms/step - loss: 14.0882 - mae: 14.0882\n",
            "Epoch 25/100\n",
            "1/1 [==============================] - 0s 13ms/step - loss: 13.9557 - mae: 13.9557\n",
            "Epoch 26/100\n",
            "1/1 [==============================] - 0s 13ms/step - loss: 13.8232 - mae: 13.8232\n",
            "Epoch 27/100\n",
            "1/1 [==============================] - 0s 12ms/step - loss: 13.6907 - mae: 13.6907\n",
            "Epoch 28/100\n",
            "1/1 [==============================] - 0s 14ms/step - loss: 13.5582 - mae: 13.5582\n",
            "Epoch 29/100\n",
            "1/1 [==============================] - 0s 9ms/step - loss: 13.4257 - mae: 13.4257\n",
            "Epoch 30/100\n",
            "1/1 [==============================] - 0s 17ms/step - loss: 13.2932 - mae: 13.2932\n",
            "Epoch 31/100\n",
            "1/1 [==============================] - 0s 10ms/step - loss: 13.1607 - mae: 13.1607\n",
            "Epoch 32/100\n",
            "1/1 [==============================] - 0s 10ms/step - loss: 13.0282 - mae: 13.0282\n",
            "Epoch 33/100\n",
            "1/1 [==============================] - 0s 9ms/step - loss: 12.8957 - mae: 12.8957\n",
            "Epoch 34/100\n",
            "1/1 [==============================] - 0s 10ms/step - loss: 12.7632 - mae: 12.7632\n",
            "Epoch 35/100\n",
            "1/1 [==============================] - 0s 10ms/step - loss: 12.6307 - mae: 12.6307\n",
            "Epoch 36/100\n",
            "1/1 [==============================] - 0s 10ms/step - loss: 12.4982 - mae: 12.4982\n",
            "Epoch 37/100\n",
            "1/1 [==============================] - 0s 10ms/step - loss: 12.3657 - mae: 12.3657\n",
            "Epoch 38/100\n",
            "1/1 [==============================] - 0s 10ms/step - loss: 12.2332 - mae: 12.2332\n",
            "Epoch 39/100\n",
            "1/1 [==============================] - 0s 9ms/step - loss: 12.1007 - mae: 12.1007\n",
            "Epoch 40/100\n",
            "1/1 [==============================] - 0s 10ms/step - loss: 11.9682 - mae: 11.9682\n",
            "Epoch 41/100\n",
            "1/1 [==============================] - 0s 10ms/step - loss: 11.8357 - mae: 11.8357\n",
            "Epoch 42/100\n",
            "1/1 [==============================] - 0s 10ms/step - loss: 11.7032 - mae: 11.7032\n",
            "Epoch 43/100\n",
            "1/1 [==============================] - 0s 10ms/step - loss: 11.5707 - mae: 11.5707\n",
            "Epoch 44/100\n",
            "1/1 [==============================] - 0s 10ms/step - loss: 11.4382 - mae: 11.4382\n",
            "Epoch 45/100\n",
            "1/1 [==============================] - 0s 10ms/step - loss: 11.3057 - mae: 11.3057\n",
            "Epoch 46/100\n",
            "1/1 [==============================] - 0s 10ms/step - loss: 11.1732 - mae: 11.1732\n",
            "Epoch 47/100\n",
            "1/1 [==============================] - 0s 10ms/step - loss: 11.0407 - mae: 11.0407\n",
            "Epoch 48/100\n",
            "1/1 [==============================] - 0s 17ms/step - loss: 10.9082 - mae: 10.9082\n",
            "Epoch 49/100\n",
            "1/1 [==============================] - 0s 10ms/step - loss: 10.7757 - mae: 10.7757\n",
            "Epoch 50/100\n",
            "1/1 [==============================] - 0s 11ms/step - loss: 10.6432 - mae: 10.6432\n",
            "Epoch 51/100\n",
            "1/1 [==============================] - 0s 10ms/step - loss: 10.5107 - mae: 10.5107\n",
            "Epoch 52/100\n",
            "1/1 [==============================] - 0s 10ms/step - loss: 10.3782 - mae: 10.3782\n",
            "Epoch 53/100\n",
            "1/1 [==============================] - 0s 10ms/step - loss: 10.2457 - mae: 10.2457\n",
            "Epoch 54/100\n",
            "1/1 [==============================] - 0s 9ms/step - loss: 10.1132 - mae: 10.1132\n",
            "Epoch 55/100\n",
            "1/1 [==============================] - 0s 10ms/step - loss: 9.9807 - mae: 9.9807\n",
            "Epoch 56/100\n",
            "1/1 [==============================] - 0s 13ms/step - loss: 9.8482 - mae: 9.8482\n",
            "Epoch 57/100\n",
            "1/1 [==============================] - 0s 10ms/step - loss: 9.7157 - mae: 9.7157\n",
            "Epoch 58/100\n",
            "1/1 [==============================] - 0s 12ms/step - loss: 9.5832 - mae: 9.5832\n",
            "Epoch 59/100\n",
            "1/1 [==============================] - 0s 10ms/step - loss: 9.4507 - mae: 9.4507\n",
            "Epoch 60/100\n",
            "1/1 [==============================] - 0s 10ms/step - loss: 9.3182 - mae: 9.3182\n",
            "Epoch 61/100\n",
            "1/1 [==============================] - 0s 11ms/step - loss: 9.1857 - mae: 9.1857\n",
            "Epoch 62/100\n",
            "1/1 [==============================] - 0s 10ms/step - loss: 9.0532 - mae: 9.0532\n",
            "Epoch 63/100\n",
            "1/1 [==============================] - 0s 11ms/step - loss: 8.9207 - mae: 8.9207\n",
            "Epoch 64/100\n",
            "1/1 [==============================] - 0s 10ms/step - loss: 8.7882 - mae: 8.7882\n",
            "Epoch 65/100\n",
            "1/1 [==============================] - 0s 10ms/step - loss: 8.6557 - mae: 8.6557\n",
            "Epoch 66/100\n",
            "1/1 [==============================] - 0s 10ms/step - loss: 8.5232 - mae: 8.5232\n",
            "Epoch 67/100\n",
            "1/1 [==============================] - 0s 12ms/step - loss: 8.3907 - mae: 8.3907\n",
            "Epoch 68/100\n",
            "1/1 [==============================] - 0s 11ms/step - loss: 8.2582 - mae: 8.2582\n",
            "Epoch 69/100\n",
            "1/1 [==============================] - 0s 12ms/step - loss: 8.1257 - mae: 8.1257\n",
            "Epoch 70/100\n",
            "1/1 [==============================] - 0s 9ms/step - loss: 7.9932 - mae: 7.9932\n",
            "Epoch 71/100\n",
            "1/1 [==============================] - 0s 10ms/step - loss: 7.8607 - mae: 7.8607\n",
            "Epoch 72/100\n",
            "1/1 [==============================] - 0s 10ms/step - loss: 7.7282 - mae: 7.7282\n",
            "Epoch 73/100\n",
            "1/1 [==============================] - 0s 10ms/step - loss: 7.5957 - mae: 7.5957\n",
            "Epoch 74/100\n",
            "1/1 [==============================] - 0s 10ms/step - loss: 7.4632 - mae: 7.4632\n",
            "Epoch 75/100\n",
            "1/1 [==============================] - 0s 11ms/step - loss: 7.3307 - mae: 7.3307\n",
            "Epoch 76/100\n",
            "1/1 [==============================] - 0s 10ms/step - loss: 7.1982 - mae: 7.1982\n",
            "Epoch 77/100\n",
            "1/1 [==============================] - 0s 10ms/step - loss: 7.0657 - mae: 7.0657\n",
            "Epoch 78/100\n",
            "1/1 [==============================] - 0s 10ms/step - loss: 6.9563 - mae: 6.9563\n",
            "Epoch 79/100\n",
            "1/1 [==============================] - 0s 10ms/step - loss: 6.9506 - mae: 6.9506\n",
            "Epoch 80/100\n",
            "1/1 [==============================] - 0s 10ms/step - loss: 6.9450 - mae: 6.9450\n",
            "Epoch 81/100\n",
            "1/1 [==============================] - 0s 10ms/step - loss: 6.9394 - mae: 6.9394\n",
            "Epoch 82/100\n",
            "1/1 [==============================] - 0s 10ms/step - loss: 6.9338 - mae: 6.9338\n",
            "Epoch 83/100\n",
            "1/1 [==============================] - 0s 10ms/step - loss: 6.9281 - mae: 6.9281\n",
            "Epoch 84/100\n",
            "1/1 [==============================] - 0s 10ms/step - loss: 6.9225 - mae: 6.9225\n",
            "Epoch 85/100\n",
            "1/1 [==============================] - 0s 10ms/step - loss: 6.9169 - mae: 6.9169\n",
            "Epoch 86/100\n",
            "1/1 [==============================] - 0s 10ms/step - loss: 6.9113 - mae: 6.9113\n",
            "Epoch 87/100\n",
            "1/1 [==============================] - 0s 10ms/step - loss: 6.9056 - mae: 6.9056\n",
            "Epoch 88/100\n",
            "1/1 [==============================] - 0s 13ms/step - loss: 6.9000 - mae: 6.9000\n",
            "Epoch 89/100\n",
            "1/1 [==============================] - 0s 12ms/step - loss: 6.8944 - mae: 6.8944\n",
            "Epoch 90/100\n",
            "1/1 [==============================] - 0s 11ms/step - loss: 6.8888 - mae: 6.8888\n",
            "Epoch 91/100\n",
            "1/1 [==============================] - 0s 10ms/step - loss: 6.8831 - mae: 6.8831\n",
            "Epoch 92/100\n",
            "1/1 [==============================] - 0s 10ms/step - loss: 6.8775 - mae: 6.8775\n",
            "Epoch 93/100\n",
            "1/1 [==============================] - 0s 9ms/step - loss: 6.8719 - mae: 6.8719\n",
            "Epoch 94/100\n",
            "1/1 [==============================] - 0s 10ms/step - loss: 6.8663 - mae: 6.8663\n",
            "Epoch 95/100\n",
            "1/1 [==============================] - 0s 10ms/step - loss: 6.8606 - mae: 6.8606\n",
            "Epoch 96/100\n",
            "1/1 [==============================] - 0s 10ms/step - loss: 6.8550 - mae: 6.8550\n",
            "Epoch 97/100\n",
            "1/1 [==============================] - 0s 10ms/step - loss: 6.8494 - mae: 6.8494\n",
            "Epoch 98/100\n",
            "1/1 [==============================] - 0s 9ms/step - loss: 6.8438 - mae: 6.8438\n",
            "Epoch 99/100\n",
            "1/1 [==============================] - 0s 9ms/step - loss: 6.8381 - mae: 6.8381\n",
            "Epoch 100/100\n",
            "1/1 [==============================] - 0s 9ms/step - loss: 6.8325 - mae: 6.8325\n"
          ]
        },
        {
          "output_type": "execute_result",
          "data": {
            "text/plain": [
              "<keras.src.callbacks.History at 0x7e42f56cda20>"
            ]
          },
          "metadata": {},
          "execution_count": 11
        }
      ]
    },
    {
      "cell_type": "code",
      "source": [
        "X, y"
      ],
      "metadata": {
        "colab": {
          "base_uri": "https://localhost:8080/"
        },
        "id": "9O_3wlQy_MMG",
        "outputId": "b22683bb-06e9-476a-b2a0-bfb76b66b8e8"
      },
      "execution_count": 12,
      "outputs": [
        {
          "output_type": "execute_result",
          "data": {
            "text/plain": [
              "(<tf.Tensor: shape=(8,), dtype=float32, numpy=array([-7., -4., -1.,  2.,  5.,  8., 11., 14.], dtype=float32)>,\n",
              " <tf.Tensor: shape=(8,), dtype=float32, numpy=array([ 3.,  6.,  9., 12., 15., 18., 21., 24.], dtype=float32)>)"
            ]
          },
          "metadata": {},
          "execution_count": 12
        }
      ]
    },
    {
      "cell_type": "code",
      "source": [
        "# Checking the model's prediction\n",
        "model.predict([17.])"
      ],
      "metadata": {
        "colab": {
          "base_uri": "https://localhost:8080/"
        },
        "id": "RrwdovVy_zw-",
        "outputId": "8b7ef2c6-8812-41f2-82cc-be4484fd88ef"
      },
      "execution_count": 13,
      "outputs": [
        {
          "output_type": "stream",
          "name": "stdout",
          "text": [
            "1/1 [==============================] - 0s 60ms/step\n"
          ]
        },
        {
          "output_type": "execute_result",
          "data": {
            "text/plain": [
              "array([[29.272121]], dtype=float32)"
            ]
          },
          "metadata": {},
          "execution_count": 13
        }
      ]
    },
    {
      "cell_type": "code",
      "source": [
        "#1. Creating the model (with another hidden layer and a 100 neurons)\n",
        "model = tf.keras.Sequential([\n",
        "    tf.keras.layers.Dense(50),\n",
        "    tf.keras.layers.Dense(1)\n",
        "])\n",
        "\n",
        "# 2. Compiling the model\n",
        "model.compile(loss = tf.keras.losses.mae,\n",
        "              optimizer = tf.keras.optimizers.Adam(lr = 0.001),\n",
        "              metrics = [\"mae\"])\n",
        "\n",
        "# 3. Fitting the model\n",
        "model.fit(tf.expand_dims(X, axis = -1), y, epochs = 90)"
      ],
      "metadata": {
        "colab": {
          "base_uri": "https://localhost:8080/"
        },
        "id": "76ndW47B_4md",
        "outputId": "079c1eac-d48e-4252-84cb-779f31a60665"
      },
      "execution_count": 14,
      "outputs": [
        {
          "output_type": "stream",
          "name": "stderr",
          "text": [
            "WARNING:absl:`lr` is deprecated in Keras optimizer, please use `learning_rate` or use the legacy optimizer, e.g.,tf.keras.optimizers.legacy.Adam.\n"
          ]
        },
        {
          "output_type": "stream",
          "name": "stdout",
          "text": [
            "Epoch 1/90\n",
            "1/1 [==============================] - 1s 598ms/step - loss: 12.7731 - mae: 12.7731\n",
            "Epoch 2/90\n",
            "1/1 [==============================] - 0s 11ms/step - loss: 12.7035 - mae: 12.7035\n",
            "Epoch 3/90\n",
            "1/1 [==============================] - 0s 11ms/step - loss: 12.6340 - mae: 12.6340\n",
            "Epoch 4/90\n",
            "1/1 [==============================] - 0s 10ms/step - loss: 12.5644 - mae: 12.5644\n",
            "Epoch 5/90\n",
            "1/1 [==============================] - 0s 12ms/step - loss: 12.4947 - mae: 12.4947\n",
            "Epoch 6/90\n",
            "1/1 [==============================] - 0s 12ms/step - loss: 12.4251 - mae: 12.4251\n",
            "Epoch 7/90\n",
            "1/1 [==============================] - 0s 11ms/step - loss: 12.3554 - mae: 12.3554\n",
            "Epoch 8/90\n",
            "1/1 [==============================] - 0s 16ms/step - loss: 12.2858 - mae: 12.2858\n",
            "Epoch 9/90\n",
            "1/1 [==============================] - 0s 16ms/step - loss: 12.2160 - mae: 12.2160\n",
            "Epoch 10/90\n",
            "1/1 [==============================] - 0s 11ms/step - loss: 12.1463 - mae: 12.1463\n",
            "Epoch 11/90\n",
            "1/1 [==============================] - 0s 11ms/step - loss: 12.0765 - mae: 12.0765\n",
            "Epoch 12/90\n",
            "1/1 [==============================] - 0s 11ms/step - loss: 12.0067 - mae: 12.0067\n",
            "Epoch 13/90\n",
            "1/1 [==============================] - 0s 10ms/step - loss: 11.9368 - mae: 11.9368\n",
            "Epoch 14/90\n",
            "1/1 [==============================] - 0s 16ms/step - loss: 11.8669 - mae: 11.8669\n",
            "Epoch 15/90\n",
            "1/1 [==============================] - 0s 12ms/step - loss: 11.7969 - mae: 11.7969\n",
            "Epoch 16/90\n",
            "1/1 [==============================] - 0s 12ms/step - loss: 11.7269 - mae: 11.7269\n",
            "Epoch 17/90\n",
            "1/1 [==============================] - 0s 13ms/step - loss: 11.6567 - mae: 11.6567\n",
            "Epoch 18/90\n",
            "1/1 [==============================] - 0s 15ms/step - loss: 11.5865 - mae: 11.5865\n",
            "Epoch 19/90\n",
            "1/1 [==============================] - 0s 10ms/step - loss: 11.5162 - mae: 11.5162\n",
            "Epoch 20/90\n",
            "1/1 [==============================] - 0s 11ms/step - loss: 11.4458 - mae: 11.4458\n",
            "Epoch 21/90\n",
            "1/1 [==============================] - 0s 10ms/step - loss: 11.3754 - mae: 11.3754\n",
            "Epoch 22/90\n",
            "1/1 [==============================] - 0s 11ms/step - loss: 11.3048 - mae: 11.3048\n",
            "Epoch 23/90\n",
            "1/1 [==============================] - 0s 11ms/step - loss: 11.2341 - mae: 11.2341\n",
            "Epoch 24/90\n",
            "1/1 [==============================] - 0s 9ms/step - loss: 11.1633 - mae: 11.1633\n",
            "Epoch 25/90\n",
            "1/1 [==============================] - 0s 11ms/step - loss: 11.0924 - mae: 11.0924\n",
            "Epoch 26/90\n",
            "1/1 [==============================] - 0s 9ms/step - loss: 11.0213 - mae: 11.0213\n",
            "Epoch 27/90\n",
            "1/1 [==============================] - 0s 10ms/step - loss: 10.9501 - mae: 10.9501\n",
            "Epoch 28/90\n",
            "1/1 [==============================] - 0s 10ms/step - loss: 10.8788 - mae: 10.8788\n",
            "Epoch 29/90\n",
            "1/1 [==============================] - 0s 12ms/step - loss: 10.8074 - mae: 10.8074\n",
            "Epoch 30/90\n",
            "1/1 [==============================] - 0s 10ms/step - loss: 10.7358 - mae: 10.7358\n",
            "Epoch 31/90\n",
            "1/1 [==============================] - 0s 10ms/step - loss: 10.6640 - mae: 10.6640\n",
            "Epoch 32/90\n",
            "1/1 [==============================] - 0s 10ms/step - loss: 10.5921 - mae: 10.5921\n",
            "Epoch 33/90\n",
            "1/1 [==============================] - 0s 11ms/step - loss: 10.5200 - mae: 10.5200\n",
            "Epoch 34/90\n",
            "1/1 [==============================] - 0s 11ms/step - loss: 10.4477 - mae: 10.4477\n",
            "Epoch 35/90\n",
            "1/1 [==============================] - 0s 11ms/step - loss: 10.3753 - mae: 10.3753\n",
            "Epoch 36/90\n",
            "1/1 [==============================] - 0s 11ms/step - loss: 10.3026 - mae: 10.3026\n",
            "Epoch 37/90\n",
            "1/1 [==============================] - 0s 11ms/step - loss: 10.2298 - mae: 10.2298\n",
            "Epoch 38/90\n",
            "1/1 [==============================] - 0s 10ms/step - loss: 10.1568 - mae: 10.1568\n",
            "Epoch 39/90\n",
            "1/1 [==============================] - 0s 10ms/step - loss: 10.0836 - mae: 10.0836\n",
            "Epoch 40/90\n",
            "1/1 [==============================] - 0s 10ms/step - loss: 10.0101 - mae: 10.0101\n",
            "Epoch 41/90\n",
            "1/1 [==============================] - 0s 11ms/step - loss: 9.9365 - mae: 9.9365\n",
            "Epoch 42/90\n",
            "1/1 [==============================] - 0s 11ms/step - loss: 9.8626 - mae: 9.8626\n",
            "Epoch 43/90\n",
            "1/1 [==============================] - 0s 11ms/step - loss: 9.7885 - mae: 9.7885\n",
            "Epoch 44/90\n",
            "1/1 [==============================] - 0s 10ms/step - loss: 9.7142 - mae: 9.7142\n",
            "Epoch 45/90\n",
            "1/1 [==============================] - 0s 11ms/step - loss: 9.6396 - mae: 9.6396\n",
            "Epoch 46/90\n",
            "1/1 [==============================] - 0s 10ms/step - loss: 9.5647 - mae: 9.5647\n",
            "Epoch 47/90\n",
            "1/1 [==============================] - 0s 10ms/step - loss: 9.4897 - mae: 9.4897\n",
            "Epoch 48/90\n",
            "1/1 [==============================] - 0s 11ms/step - loss: 9.4143 - mae: 9.4143\n",
            "Epoch 49/90\n",
            "1/1 [==============================] - 0s 10ms/step - loss: 9.3387 - mae: 9.3387\n",
            "Epoch 50/90\n",
            "1/1 [==============================] - 0s 11ms/step - loss: 9.2628 - mae: 9.2628\n",
            "Epoch 51/90\n",
            "1/1 [==============================] - 0s 10ms/step - loss: 9.1866 - mae: 9.1866\n",
            "Epoch 52/90\n",
            "1/1 [==============================] - 0s 10ms/step - loss: 9.1102 - mae: 9.1102\n",
            "Epoch 53/90\n",
            "1/1 [==============================] - 0s 11ms/step - loss: 9.0334 - mae: 9.0334\n",
            "Epoch 54/90\n",
            "1/1 [==============================] - 0s 12ms/step - loss: 8.9564 - mae: 8.9564\n",
            "Epoch 55/90\n",
            "1/1 [==============================] - 0s 11ms/step - loss: 8.8790 - mae: 8.8790\n",
            "Epoch 56/90\n",
            "1/1 [==============================] - 0s 9ms/step - loss: 8.8014 - mae: 8.8014\n",
            "Epoch 57/90\n",
            "1/1 [==============================] - 0s 9ms/step - loss: 8.7234 - mae: 8.7234\n",
            "Epoch 58/90\n",
            "1/1 [==============================] - 0s 9ms/step - loss: 8.6451 - mae: 8.6451\n",
            "Epoch 59/90\n",
            "1/1 [==============================] - 0s 9ms/step - loss: 8.5665 - mae: 8.5665\n",
            "Epoch 60/90\n",
            "1/1 [==============================] - 0s 10ms/step - loss: 8.4875 - mae: 8.4875\n",
            "Epoch 61/90\n",
            "1/1 [==============================] - 0s 12ms/step - loss: 8.4082 - mae: 8.4082\n",
            "Epoch 62/90\n",
            "1/1 [==============================] - 0s 10ms/step - loss: 8.3286 - mae: 8.3286\n",
            "Epoch 63/90\n",
            "1/1 [==============================] - 0s 10ms/step - loss: 8.2486 - mae: 8.2486\n",
            "Epoch 64/90\n",
            "1/1 [==============================] - 0s 10ms/step - loss: 8.1683 - mae: 8.1683\n",
            "Epoch 65/90\n",
            "1/1 [==============================] - 0s 11ms/step - loss: 8.0876 - mae: 8.0876\n",
            "Epoch 66/90\n",
            "1/1 [==============================] - 0s 11ms/step - loss: 8.0065 - mae: 8.0065\n",
            "Epoch 67/90\n",
            "1/1 [==============================] - 0s 10ms/step - loss: 7.9251 - mae: 7.9251\n",
            "Epoch 68/90\n",
            "1/1 [==============================] - 0s 11ms/step - loss: 7.8433 - mae: 7.8433\n",
            "Epoch 69/90\n",
            "1/1 [==============================] - 0s 10ms/step - loss: 7.7611 - mae: 7.7611\n",
            "Epoch 70/90\n",
            "1/1 [==============================] - 0s 11ms/step - loss: 7.6785 - mae: 7.6785\n",
            "Epoch 71/90\n",
            "1/1 [==============================] - 0s 10ms/step - loss: 7.5955 - mae: 7.5955\n",
            "Epoch 72/90\n",
            "1/1 [==============================] - 0s 10ms/step - loss: 7.5121 - mae: 7.5121\n",
            "Epoch 73/90\n",
            "1/1 [==============================] - 0s 10ms/step - loss: 7.4283 - mae: 7.4283\n",
            "Epoch 74/90\n",
            "1/1 [==============================] - 0s 10ms/step - loss: 7.3441 - mae: 7.3441\n",
            "Epoch 75/90\n",
            "1/1 [==============================] - 0s 10ms/step - loss: 7.2595 - mae: 7.2595\n",
            "Epoch 76/90\n",
            "1/1 [==============================] - 0s 10ms/step - loss: 7.1745 - mae: 7.1745\n",
            "Epoch 77/90\n",
            "1/1 [==============================] - 0s 15ms/step - loss: 7.0891 - mae: 7.0891\n",
            "Epoch 78/90\n",
            "1/1 [==============================] - 0s 13ms/step - loss: 7.0032 - mae: 7.0032\n",
            "Epoch 79/90\n",
            "1/1 [==============================] - 0s 14ms/step - loss: 6.9169 - mae: 6.9169\n",
            "Epoch 80/90\n",
            "1/1 [==============================] - 0s 11ms/step - loss: 6.8301 - mae: 6.8301\n",
            "Epoch 81/90\n",
            "1/1 [==============================] - 0s 10ms/step - loss: 6.8091 - mae: 6.8091\n",
            "Epoch 82/90\n",
            "1/1 [==============================] - 0s 10ms/step - loss: 6.7985 - mae: 6.7985\n",
            "Epoch 83/90\n",
            "1/1 [==============================] - 0s 10ms/step - loss: 6.7882 - mae: 6.7882\n",
            "Epoch 84/90\n",
            "1/1 [==============================] - 0s 10ms/step - loss: 6.7781 - mae: 6.7781\n",
            "Epoch 85/90\n",
            "1/1 [==============================] - 0s 10ms/step - loss: 6.7681 - mae: 6.7681\n",
            "Epoch 86/90\n",
            "1/1 [==============================] - 0s 10ms/step - loss: 6.7584 - mae: 6.7584\n",
            "Epoch 87/90\n",
            "1/1 [==============================] - 0s 10ms/step - loss: 6.7488 - mae: 6.7488\n",
            "Epoch 88/90\n",
            "1/1 [==============================] - 0s 10ms/step - loss: 6.7393 - mae: 6.7393\n",
            "Epoch 89/90\n",
            "1/1 [==============================] - 0s 11ms/step - loss: 6.7299 - mae: 6.7299\n",
            "Epoch 90/90\n",
            "1/1 [==============================] - 0s 10ms/step - loss: 6.7207 - mae: 6.7207\n"
          ]
        },
        {
          "output_type": "execute_result",
          "data": {
            "text/plain": [
              "<keras.src.callbacks.History at 0x7e42f4d59960>"
            ]
          },
          "metadata": {},
          "execution_count": 14
        }
      ]
    },
    {
      "cell_type": "code",
      "source": [
        "X, y"
      ],
      "metadata": {
        "colab": {
          "base_uri": "https://localhost:8080/"
        },
        "id": "bOgyAPeBAVeJ",
        "outputId": "fab782ea-5b9f-4ce5-e1ec-e0e24b483a8f"
      },
      "execution_count": 15,
      "outputs": [
        {
          "output_type": "execute_result",
          "data": {
            "text/plain": [
              "(<tf.Tensor: shape=(8,), dtype=float32, numpy=array([-7., -4., -1.,  2.,  5.,  8., 11., 14.], dtype=float32)>,\n",
              " <tf.Tensor: shape=(8,), dtype=float32, numpy=array([ 3.,  6.,  9., 12., 15., 18., 21., 24.], dtype=float32)>)"
            ]
          },
          "metadata": {},
          "execution_count": 15
        }
      ]
    },
    {
      "cell_type": "code",
      "source": [
        "# Trying to make a prediction again\n",
        "model.predict([17.])"
      ],
      "metadata": {
        "colab": {
          "base_uri": "https://localhost:8080/"
        },
        "id": "gCo2BbHyBD4y",
        "outputId": "5005cad7-6502-4e63-a041-d2f397a107a6"
      },
      "execution_count": 16,
      "outputs": [
        {
          "output_type": "stream",
          "name": "stdout",
          "text": [
            "1/1 [==============================] - 0s 71ms/step\n"
          ]
        },
        {
          "output_type": "execute_result",
          "data": {
            "text/plain": [
              "array([[31.59443]], dtype=float32)"
            ]
          },
          "metadata": {},
          "execution_count": 16
        }
      ]
    },
    {
      "cell_type": "markdown",
      "source": [
        "## Evaluating the model\n",
        "\n",
        "To evaluate a model, its a good idea to visualize:\n",
        "* The data - What does the data look like?\n",
        "* The model - What does the model look like?\n",
        "* The training of the model - How does the model perform while it learns\n",
        "* The predictions of the model - How do the predictions of a model line up against the ground truth?"
      ],
      "metadata": {
        "id": "XJ5oQUIwBGw_"
      }
    },
    {
      "cell_type": "code",
      "source": [
        "# Make a bigger dataset\n",
        "X = tf.range(-100, 100, 4)\n",
        "X"
      ],
      "metadata": {
        "colab": {
          "base_uri": "https://localhost:8080/"
        },
        "id": "sBzPhYGkCwCU",
        "outputId": "b57e933b-d930-418b-c1df-f63012f6f932"
      },
      "execution_count": 17,
      "outputs": [
        {
          "output_type": "execute_result",
          "data": {
            "text/plain": [
              "<tf.Tensor: shape=(50,), dtype=int32, numpy=\n",
              "array([-100,  -96,  -92,  -88,  -84,  -80,  -76,  -72,  -68,  -64,  -60,\n",
              "        -56,  -52,  -48,  -44,  -40,  -36,  -32,  -28,  -24,  -20,  -16,\n",
              "        -12,   -8,   -4,    0,    4,    8,   12,   16,   20,   24,   28,\n",
              "         32,   36,   40,   44,   48,   52,   56,   60,   64,   68,   72,\n",
              "         76,   80,   84,   88,   92,   96], dtype=int32)>"
            ]
          },
          "metadata": {},
          "execution_count": 17
        }
      ]
    },
    {
      "cell_type": "code",
      "source": [
        "# Make labels for the dataset\n",
        "y = X + 10\n",
        "y"
      ],
      "metadata": {
        "colab": {
          "base_uri": "https://localhost:8080/"
        },
        "id": "WqO4DfXFD2o6",
        "outputId": "1c0692a9-4f62-4446-9dd0-2b218f8e5dad"
      },
      "execution_count": 18,
      "outputs": [
        {
          "output_type": "execute_result",
          "data": {
            "text/plain": [
              "<tf.Tensor: shape=(50,), dtype=int32, numpy=\n",
              "array([-90, -86, -82, -78, -74, -70, -66, -62, -58, -54, -50, -46, -42,\n",
              "       -38, -34, -30, -26, -22, -18, -14, -10,  -6,  -2,   2,   6,  10,\n",
              "        14,  18,  22,  26,  30,  34,  38,  42,  46,  50,  54,  58,  62,\n",
              "        66,  70,  74,  78,  82,  86,  90,  94,  98, 102, 106], dtype=int32)>"
            ]
          },
          "metadata": {},
          "execution_count": 18
        }
      ]
    },
    {
      "cell_type": "code",
      "source": [
        "# Visualize the data\n",
        "import matplotlib.pyplot as plt\n",
        "\n",
        "plt.scatter(X, y)"
      ],
      "metadata": {
        "colab": {
          "base_uri": "https://localhost:8080/",
          "height": 447
        },
        "id": "Fc4H8bxJD6Yi",
        "outputId": "bf780f8d-e7ea-4926-a794-bff9508f06d0"
      },
      "execution_count": 19,
      "outputs": [
        {
          "output_type": "execute_result",
          "data": {
            "text/plain": [
              "<matplotlib.collections.PathCollection at 0x7e42f4d66dd0>"
            ]
          },
          "metadata": {},
          "execution_count": 19
        },
        {
          "output_type": "display_data",
          "data": {
            "text/plain": [
              "<Figure size 640x480 with 1 Axes>"
            ],
            "image/png": "[encoded data removed]"
          },
          "metadata": {}
        }
      ]
    },
    {
      "cell_type": "code",
      "source": [
        "X_train = X[:40]\n",
        "X_test = X[40:]\n",
        "\n",
        "y_train = y[:40]\n",
        "y_test = y[40:]\n",
        "\n",
        "len(X_train), len(X_test), len(y_train), len(y_test)"
      ],
      "metadata": {
        "colab": {
          "base_uri": "https://localhost:8080/"
        },
        "id": "5SL7q3kGEAY9",
        "outputId": "a3b0a63a-1ab3-4968-e13a-0f21d03e0b21"
      },
      "execution_count": 20,
      "outputs": [
        {
          "output_type": "execute_result",
          "data": {
            "text/plain": [
              "(40, 10, 40, 10)"
            ]
          },
          "metadata": {},
          "execution_count": 20
        }
      ]
    },
    {
      "cell_type": "markdown",
      "source": [
        "### Visualize the data"
      ],
      "metadata": {
        "id": "1i7c1_9iEWnA"
      }
    },
    {
      "cell_type": "code",
      "source": [
        "plt.figure(figsize = (10, 7))\n",
        "# Plotting the training data in blue\n",
        "plt.scatter(X_train, y_train, c = \"b\", label = \"Training Data\")\n",
        "\n",
        "# Plotting the testing data in green\n",
        "plt.scatter(X_test, y_test, c = \"g\", label = \"Testing Data\")\n",
        "\n",
        "# Show a legend\n",
        "plt.legend();"
      ],
      "metadata": {
        "colab": {
          "base_uri": "https://localhost:8080/",
          "height": 599
        },
        "id": "9JOxRYMjFSPP",
        "outputId": "46969554-8132-4bc4-8b88-da86aa5f3903"
      },
      "execution_count": 21,
      "outputs": [
        {
          "output_type": "display_data",
          "data": {
            "text/plain": [
              "<Figure size 1000x700 with 1 Axes>"
            ],
            "image/png": "[encoded data removed]"
          },
          "metadata": {}
        }
      ]
    },
    {
      "cell_type": "code",
      "source": [
        "# Building a neural network for the new data\n",
        "\n",
        "# 1. Create a model\n",
        "model = tf.keras.Sequential([\n",
        "    tf.keras.layers.Dense(1)\n",
        "])\n",
        "\n",
        "# 2. Compile the model\n",
        "model.compile(loss = tf.keras.losses.mae,\n",
        "              optimizer = tf.keras.optimizers.SGD(),\n",
        "              metrics = [\"mae\"])\n",
        "\n",
        "# 3. Fitting the model\n",
        "#model.fit(X_train, y_train, epochs = 100)"
      ],
      "metadata": {
        "id": "cpDC0iciF5-T"
      },
      "execution_count": 22,
      "outputs": []
    },
    {
      "cell_type": "code",
      "source": [
        "X[0], y[0]"
      ],
      "metadata": {
        "colab": {
          "base_uri": "https://localhost:8080/"
        },
        "id": "mFym62QcJ62Q",
        "outputId": "9423ab20-a471-447a-90ca-5e081bc6eaa7"
      },
      "execution_count": 23,
      "outputs": [
        {
          "output_type": "execute_result",
          "data": {
            "text/plain": [
              "(<tf.Tensor: shape=(), dtype=int32, numpy=-100>,\n",
              " <tf.Tensor: shape=(), dtype=int32, numpy=-90>)"
            ]
          },
          "metadata": {},
          "execution_count": 23
        }
      ]
    },
    {
      "cell_type": "code",
      "source": [
        "# Creating a model that builds automatically by defining the input_shape argument\n",
        "tf.random.set_seed(42)\n",
        "\n",
        "# Creating a model same as above\n",
        "model = tf.keras.Sequential([\n",
        "    tf.keras.layers.Dense(10, input_shape = [1], name = \"input_layer\"),\n",
        "    tf.keras.layers.Dense(1, name = \"output_layer\")\n",
        "], name = \"a_model\")\n",
        "\n",
        "# Compile the model\n",
        "model.compile(loss = tf.keras.losses.mae,\n",
        "              optimizer = tf.keras.optimizers.SGD(),\n",
        "              metrics = [\"mae\"])"
      ],
      "metadata": {
        "id": "r3ZyvZaXHl1P"
      },
      "execution_count": 24,
      "outputs": []
    },
    {
      "cell_type": "code",
      "source": [
        "model.summary()"
      ],
      "metadata": {
        "colab": {
          "base_uri": "https://localhost:8080/"
        },
        "id": "otT1_UxJKH4-",
        "outputId": "48fc36c7-b51e-4e88-ac66-ee28f4bc1292"
      },
      "execution_count": 25,
      "outputs": [
        {
          "output_type": "stream",
          "name": "stdout",
          "text": [
            "Model: \"a_model\"\n",
            "_________________________________________________________________\n",
            " Layer (type)                Output Shape              Param #   \n",
            "=================================================================\n",
            " input_layer (Dense)         (None, 10)                20        \n",
            "                                                                 \n",
            " output_layer (Dense)        (None, 1)                 11        \n",
            "                                                                 \n",
            "=================================================================\n",
            "Total params: 31 (124.00 Byte)\n",
            "Trainable params: 31 (124.00 Byte)\n",
            "Non-trainable params: 0 (0.00 Byte)\n",
            "_________________________________________________________________\n"
          ]
        }
      ]
    },
    {
      "cell_type": "markdown",
      "source": [
        "* Total params - total number of parameters\n",
        "* Trainable params - the parameters the model can update as it trains\n",
        "* Non-trainable params - parameters that arent updated when training. Typical when bringing in already learnt patterns or parameters from other models during transfer learning"
      ],
      "metadata": {
        "id": "tBSrFM-JKJjw"
      }
    },
    {
      "cell_type": "code",
      "source": [
        "model.fit(X_train, y_train, epochs = 100, verbose = 0)"
      ],
      "metadata": {
        "colab": {
          "base_uri": "https://localhost:8080/"
        },
        "id": "CtPcdgH_K-m6",
        "outputId": "b7f60268-252c-4380-ef81-98c92f4b4a86"
      },
      "execution_count": 26,
      "outputs": [
        {
          "output_type": "execute_result",
          "data": {
            "text/plain": [
              "<keras.src.callbacks.History at 0x7e42f46bace0>"
            ]
          },
          "metadata": {},
          "execution_count": 26
        }
      ]
    },
    {
      "cell_type": "code",
      "source": [
        "model.summary()"
      ],
      "metadata": {
        "colab": {
          "base_uri": "https://localhost:8080/"
        },
        "id": "ffBtRsA0MWU1",
        "outputId": "432e5f26-5fee-4de5-a950-c4a15ad125c5"
      },
      "execution_count": 27,
      "outputs": [
        {
          "output_type": "stream",
          "name": "stdout",
          "text": [
            "Model: \"a_model\"\n",
            "_________________________________________________________________\n",
            " Layer (type)                Output Shape              Param #   \n",
            "=================================================================\n",
            " input_layer (Dense)         (None, 10)                20        \n",
            "                                                                 \n",
            " output_layer (Dense)        (None, 1)                 11        \n",
            "                                                                 \n",
            "=================================================================\n",
            "Total params: 31 (124.00 Byte)\n",
            "Trainable params: 31 (124.00 Byte)\n",
            "Non-trainable params: 0 (0.00 Byte)\n",
            "_________________________________________________________________\n"
          ]
        }
      ]
    },
    {
      "cell_type": "code",
      "source": [
        "from tensorflow.keras.utils import plot_model\n",
        "\n",
        "plot_model(model=model, show_shapes = True)"
      ],
      "metadata": {
        "colab": {
          "base_uri": "https://localhost:8080/",
          "height": 312
        },
        "id": "LEh_WtgYMrvL",
        "outputId": "d2af743b-f6a6-44e6-b004-cf9f367d326f"
      },
      "execution_count": 28,
      "outputs": [
        {
          "output_type": "execute_result",
          "data": {
            "image/png": "[encoded data removed]",
            "text/plain": [
              "<IPython.core.display.Image object>"
            ]
          },
          "metadata": {},
          "execution_count": 28
        }
      ]
    },
    {
      "cell_type": "markdown",
      "source": [
        "### Visualizing the model's predictions\n",
        "\n",
        "To visualize predictions, its a good idea to plot them against the ground truth labels."
      ],
      "metadata": {
        "id": "zLGB2xSZNJPB"
      }
    },
    {
      "cell_type": "code",
      "source": [
        "# Make some predictions\n",
        "y_pred = model.predict(X_test)\n",
        "y_pred"
      ],
      "metadata": {
        "colab": {
          "base_uri": "https://localhost:8080/"
        },
        "id": "9HoYfJwCOP5H",
        "outputId": "afe372ab-e13f-4e86-85d4-7514a1f2cce7"
      },
      "execution_count": 29,
      "outputs": [
        {
          "output_type": "stream",
          "name": "stdout",
          "text": [
            "1/1 [==============================] - 0s 51ms/step\n"
          ]
        },
        {
          "output_type": "execute_result",
          "data": {
            "text/plain": [
              "array([[ 90.99371 ],\n",
              "       [ 96.936104],\n",
              "       [102.87851 ],\n",
              "       [108.82091 ],\n",
              "       [114.7633  ],\n",
              "       [120.705696],\n",
              "       [126.648094],\n",
              "       [132.5905  ],\n",
              "       [138.5329  ],\n",
              "       [144.4753  ]], dtype=float32)"
            ]
          },
          "metadata": {},
          "execution_count": 29
        }
      ]
    },
    {
      "cell_type": "code",
      "source": [
        "y_test"
      ],
      "metadata": {
        "colab": {
          "base_uri": "https://localhost:8080/"
        },
        "id": "lyDBrnO3OXFG",
        "outputId": "f36a189b-0363-4827-9e6e-7dbd047430c9"
      },
      "execution_count": 30,
      "outputs": [
        {
          "output_type": "execute_result",
          "data": {
            "text/plain": [
              "<tf.Tensor: shape=(10,), dtype=int32, numpy=array([ 70,  74,  78,  82,  86,  90,  94,  98, 102, 106], dtype=int32)>"
            ]
          },
          "metadata": {},
          "execution_count": 30
        }
      ]
    },
    {
      "cell_type": "code",
      "source": [
        "# Creating a plotting function\n",
        "def plot_predictions(train_data = X_train,\n",
        "                     train_labels = y_train,\n",
        "                     test_data = X_test,\n",
        "                     test_labels = y_test,\n",
        "                     predictions = y_pred):\n",
        "  \"\"\"\n",
        "    Plots training data, test data and compares predictions to ground truth labels.\n",
        "  \"\"\"\n",
        "\n",
        "  plt.figure(figsize = (10,7))\n",
        "  # Plot the training data in blue\n",
        "  plt.scatter(train_data, train_labels, c = \"b\", label = \"Training data\")\n",
        "  # Plot the testing data in green\n",
        "  plt.scatter(test_data, test_labels, c = \"g\", label = \"Testing data\")\n",
        "  # Plot model's predictions in red\n",
        "  plt.scatter(test_data, predictions, c=\"r\", label = \"Predictions\")\n",
        "  # Show the legend\n",
        "  plt.legend();"
      ],
      "metadata": {
        "id": "2iGRcUBiOZhe"
      },
      "execution_count": 31,
      "outputs": []
    },
    {
      "cell_type": "code",
      "source": [
        "plot_predictions()"
      ],
      "metadata": {
        "colab": {
          "base_uri": "https://localhost:8080/",
          "height": 599
        },
        "id": "h_hW1Kn8PajA",
        "outputId": "f9173be6-3f9f-464c-8cbd-1780a4a07caa"
      },
      "execution_count": 32,
      "outputs": [
        {
          "output_type": "display_data",
          "data": {
            "text/plain": [
              "<Figure size 1000x700 with 1 Axes>"
            ],
            "image/png": "[encoded data removed]"
          },
          "metadata": {}
        }
      ]
    },
    {
      "cell_type": "markdown",
      "source": [
        "### Evaluating the model's predictions with regression evaluation metrics\n",
        "\n",
        "Depending on the problem, there will be different evaluation metrics to evaluate the model's performance.\n",
        "\n",
        "For a regression problem, Two of the main metrices are:\n",
        "* MAE - Mean Absolute Error, how wrong is each of the model's prediction (Great Starter metric)\n",
        "* MSE - Mean Square Error (When larger errors are more significant than smaller errors)\n",
        "* Huber - Combination of MSE and MAE. Less sensitive to outliers than MSE"
      ],
      "metadata": {
        "id": "3C7jA5SSPcyq"
      }
    },
    {
      "cell_type": "code",
      "source": [
        "# Evaluate the model on test set\n",
        "model.evaluate(X_test, y_test)"
      ],
      "metadata": {
        "colab": {
          "base_uri": "https://localhost:8080/"
        },
        "id": "VAlo58mgPxDn",
        "outputId": "e42bab11-6a1e-4736-8166-f7895de0f9e4"
      },
      "execution_count": 33,
      "outputs": [
        {
          "output_type": "stream",
          "name": "stdout",
          "text": [
            "1/1 [==============================] - 0s 330ms/step - loss: 29.7345 - mae: 29.7345\n"
          ]
        },
        {
          "output_type": "execute_result",
          "data": {
            "text/plain": [
              "[29.734500885009766, 29.734500885009766]"
            ]
          },
          "metadata": {},
          "execution_count": 33
        }
      ]
    },
    {
      "cell_type": "code",
      "source": [
        "# Calculate the Mean Absolute Error\n",
        "tf.metrics.mean_absolute_error(y_test, tf.constant(y_pred))"
      ],
      "metadata": {
        "colab": {
          "base_uri": "https://localhost:8080/"
        },
        "id": "b8C7WXuCSx2o",
        "outputId": "a8894529-aa5f-4180-9e5b-4480860a0ce6"
      },
      "execution_count": 34,
      "outputs": [
        {
          "output_type": "execute_result",
          "data": {
            "text/plain": [
              "<tf.Tensor: shape=(10,), dtype=float32, numpy=\n",
              "array([10.198743, 11.974442, 15.502808, 20.820908, 26.7633  , 32.705696,\n",
              "       38.648094, 44.5905  , 50.532898, 56.475292], dtype=float32)>"
            ]
          },
          "metadata": {},
          "execution_count": 34
        }
      ]
    },
    {
      "cell_type": "code",
      "source": [
        "tf.constant(y_pred)"
      ],
      "metadata": {
        "colab": {
          "base_uri": "https://localhost:8080/"
        },
        "id": "-6auVSxkTIHf",
        "outputId": "28b74322-671a-42df-e742-0ad4687543c1"
      },
      "execution_count": 35,
      "outputs": [
        {
          "output_type": "execute_result",
          "data": {
            "text/plain": [
              "<tf.Tensor: shape=(10, 1), dtype=float32, numpy=\n",
              "array([[ 90.99371 ],\n",
              "       [ 96.936104],\n",
              "       [102.87851 ],\n",
              "       [108.82091 ],\n",
              "       [114.7633  ],\n",
              "       [120.705696],\n",
              "       [126.648094],\n",
              "       [132.5905  ],\n",
              "       [138.5329  ],\n",
              "       [144.4753  ]], dtype=float32)>"
            ]
          },
          "metadata": {},
          "execution_count": 35
        }
      ]
    },
    {
      "cell_type": "code",
      "source": [
        "y_test"
      ],
      "metadata": {
        "colab": {
          "base_uri": "https://localhost:8080/"
        },
        "id": "MpBRqg3QTtO_",
        "outputId": "55ceb6ad-1a6b-4921-98d2-a514224449cd"
      },
      "execution_count": 36,
      "outputs": [
        {
          "output_type": "execute_result",
          "data": {
            "text/plain": [
              "<tf.Tensor: shape=(10,), dtype=int32, numpy=array([ 70,  74,  78,  82,  86,  90,  94,  98, 102, 106], dtype=int32)>"
            ]
          },
          "metadata": {},
          "execution_count": 36
        }
      ]
    },
    {
      "cell_type": "code",
      "source": [
        "tf.squeeze(y_pred)"
      ],
      "metadata": {
        "colab": {
          "base_uri": "https://localhost:8080/"
        },
        "id": "DqQBMyyVTt8I",
        "outputId": "86368417-8d31-453c-aac4-aecde4064fdd"
      },
      "execution_count": 37,
      "outputs": [
        {
          "output_type": "execute_result",
          "data": {
            "text/plain": [
              "<tf.Tensor: shape=(10,), dtype=float32, numpy=\n",
              "array([ 90.99371 ,  96.936104, 102.87851 , 108.82091 , 114.7633  ,\n",
              "       120.705696, 126.648094, 132.5905  , 138.5329  , 144.4753  ],\n",
              "      dtype=float32)>"
            ]
          },
          "metadata": {},
          "execution_count": 37
        }
      ]
    },
    {
      "cell_type": "code",
      "source": [
        "# Calculate the Mean Absolute Error\n",
        "tf.metrics.mean_absolute_error(y_test, tf.squeeze(y_pred))"
      ],
      "metadata": {
        "colab": {
          "base_uri": "https://localhost:8080/"
        },
        "id": "s-3StuRqTwWu",
        "outputId": "a54d9e3b-bf77-4b5e-97a3-f007f336f364"
      },
      "execution_count": 38,
      "outputs": [
        {
          "output_type": "execute_result",
          "data": {
            "text/plain": [
              "<tf.Tensor: shape=(), dtype=float32, numpy=29.734503>"
            ]
          },
          "metadata": {},
          "execution_count": 38
        }
      ]
    },
    {
      "cell_type": "code",
      "source": [
        "# Calculate the Mean Absolute Error by expanding the test vector (doesnt work as intended)\n",
        "tf.metrics.mean_absolute_error(tf.expand_dims(y_test, axis = -1), y_pred)"
      ],
      "metadata": {
        "colab": {
          "base_uri": "https://localhost:8080/"
        },
        "id": "vt6Bx5GCT0Dc",
        "outputId": "4187425b-d541-443e-da94-be8b0bffb75e"
      },
      "execution_count": 39,
      "outputs": [
        {
          "output_type": "execute_result",
          "data": {
            "text/plain": [
              "<tf.Tensor: shape=(10,), dtype=float32, numpy=\n",
              "array([20.993713, 22.936104, 24.87851 , 26.820908, 28.763298, 30.705696,\n",
              "       32.648094, 34.5905  , 36.532898, 38.475296], dtype=float32)>"
            ]
          },
          "metadata": {},
          "execution_count": 39
        }
      ]
    },
    {
      "cell_type": "code",
      "source": [
        "tf.expand_dims(y_test, axis = -1)"
      ],
      "metadata": {
        "colab": {
          "base_uri": "https://localhost:8080/"
        },
        "id": "XdKFZBOQUFPZ",
        "outputId": "7cb75e67-9417-40d4-dcdb-ef117ddb4e85"
      },
      "execution_count": 40,
      "outputs": [
        {
          "output_type": "execute_result",
          "data": {
            "text/plain": [
              "<tf.Tensor: shape=(10, 1), dtype=int32, numpy=\n",
              "array([[ 70],\n",
              "       [ 74],\n",
              "       [ 78],\n",
              "       [ 82],\n",
              "       [ 86],\n",
              "       [ 90],\n",
              "       [ 94],\n",
              "       [ 98],\n",
              "       [102],\n",
              "       [106]], dtype=int32)>"
            ]
          },
          "metadata": {},
          "execution_count": 40
        }
      ]
    },
    {
      "cell_type": "code",
      "source": [
        "# Calculate the Mean Squared Error\n",
        "tf.metrics.mean_squared_error(y_test, tf.squeeze(y_pred))"
      ],
      "metadata": {
        "colab": {
          "base_uri": "https://localhost:8080/"
        },
        "id": "AxbOnEWZUHvi",
        "outputId": "0bd95ccb-058e-497c-aeca-074dd2471056"
      },
      "execution_count": 41,
      "outputs": [
        {
          "output_type": "execute_result",
          "data": {
            "text/plain": [
              "<tf.Tensor: shape=(), dtype=float32, numpy=915.2672>"
            ]
          },
          "metadata": {},
          "execution_count": 41
        }
      ]
    },
    {
      "cell_type": "code",
      "source": [
        "# Making functions to resuse MSE and MAE\n",
        "def mae(y_true, y_pred):\n",
        "  return tf.metrics.mean_absolute_error(y_true, tf.squeeze(y_pred)).numpy()\n",
        "\n",
        "def mse(y_true, y_pred):\n",
        "  return tf.metrics.mean_squared_error(y_true, tf.squeeze(y_pred)).numpy()"
      ],
      "metadata": {
        "id": "I2AQqQAZUhMw"
      },
      "execution_count": 42,
      "outputs": []
    },
    {
      "cell_type": "markdown",
      "source": [
        "### Running experiments to improve the model\n",
        "\n",
        "1. Get more data- get more examples for the model to train on.\n",
        "2. Make the model larger- this might come in the form of more layers or more hidden units in each layer.\n",
        "3. Train for longer- give the model more of a chance to find patterns in the data"
      ],
      "metadata": {
        "id": "EOxYqXDUUePl"
      }
    },
    {
      "cell_type": "code",
      "source": [
        "X_train, y_train"
      ],
      "metadata": {
        "colab": {
          "base_uri": "https://localhost:8080/"
        },
        "id": "b4EgU_bwVM24",
        "outputId": "e6aa8cdc-ba52-474d-8940-98f94f8521d0"
      },
      "execution_count": 43,
      "outputs": [
        {
          "output_type": "execute_result",
          "data": {
            "text/plain": [
              "(<tf.Tensor: shape=(40,), dtype=int32, numpy=\n",
              " array([-100,  -96,  -92,  -88,  -84,  -80,  -76,  -72,  -68,  -64,  -60,\n",
              "         -56,  -52,  -48,  -44,  -40,  -36,  -32,  -28,  -24,  -20,  -16,\n",
              "         -12,   -8,   -4,    0,    4,    8,   12,   16,   20,   24,   28,\n",
              "          32,   36,   40,   44,   48,   52,   56], dtype=int32)>,\n",
              " <tf.Tensor: shape=(40,), dtype=int32, numpy=\n",
              " array([-90, -86, -82, -78, -74, -70, -66, -62, -58, -54, -50, -46, -42,\n",
              "        -38, -34, -30, -26, -22, -18, -14, -10,  -6,  -2,   2,   6,  10,\n",
              "         14,  18,  22,  26,  30,  34,  38,  42,  46,  50,  54,  58,  62,\n",
              "         66], dtype=int32)>)"
            ]
          },
          "metadata": {},
          "execution_count": 43
        }
      ]
    },
    {
      "cell_type": "markdown",
      "source": [
        "Trying 3 modelling experiments:\n",
        "  1. `model_1` - same as the original model, 1 layer, trained for 100 epochs.\n",
        "  2. `model_2` - 2 layers, trained for a 100 epochs.\n",
        "  3. `model_3` - 2 layers, trained for 500 epochs.\n",
        "\n",
        "**Build `model_1`**"
      ],
      "metadata": {
        "id": "XTHLGaLgVzVP"
      }
    },
    {
      "cell_type": "code",
      "source": [
        "# Set the random seed\n",
        "tf.random.set_seed(42)\n",
        "\n",
        "# 1. Creating the model\n",
        "model_1 = tf.keras.Sequential([\n",
        "    tf.keras.layers.Dense(1)\n",
        "])\n",
        "\n",
        "# 2. Compile the model\n",
        "model_1.compile(loss = tf.keras.losses.mae,\n",
        "              optimizer = tf.keras.optimizers.SGD(),\n",
        "              metrics = [\"mae\"])\n",
        "\n",
        "# 3. Fit the model\n",
        "model_1.fit(tf.expand_dims(X_train, axis = -1), y_train, epochs = 100)"
      ],
      "metadata": {
        "colab": {
          "base_uri": "https://localhost:8080/"
        },
        "id": "qx0S6B-7WVrr",
        "outputId": "5ead2d25-4cb1-4f9e-de1e-af334f6b37cd"
      },
      "execution_count": 44,
      "outputs": [
        {
          "output_type": "stream",
          "name": "stdout",
          "text": [
            "Epoch 1/100\n",
            "2/2 [==============================] - 1s 36ms/step - loss: 99.2737 - mae: 99.2737\n",
            "Epoch 2/100\n",
            "2/2 [==============================] - 0s 15ms/step - loss: 63.8182 - mae: 63.8182\n",
            "Epoch 3/100\n",
            "2/2 [==============================] - 0s 11ms/step - loss: 26.6584 - mae: 26.6584\n",
            "Epoch 4/100\n",
            "2/2 [==============================] - 0s 14ms/step - loss: 11.2425 - mae: 11.2425\n",
            "Epoch 5/100\n",
            "2/2 [==============================] - 0s 10ms/step - loss: 12.4627 - mae: 12.4627\n",
            "Epoch 6/100\n",
            "2/2 [==============================] - 0s 13ms/step - loss: 9.6459 - mae: 9.6459\n",
            "Epoch 7/100\n",
            "2/2 [==============================] - 0s 11ms/step - loss: 8.7546 - mae: 8.7546\n",
            "Epoch 8/100\n",
            "2/2 [==============================] - 0s 12ms/step - loss: 9.0873 - mae: 9.0873\n",
            "Epoch 9/100\n",
            "2/2 [==============================] - 0s 13ms/step - loss: 19.1588 - mae: 19.1588\n",
            "Epoch 10/100\n",
            "2/2 [==============================] - 0s 18ms/step - loss: 10.3613 - mae: 10.3613\n",
            "Epoch 11/100\n",
            "2/2 [==============================] - 0s 11ms/step - loss: 8.5117 - mae: 8.5117\n",
            "Epoch 12/100\n",
            "2/2 [==============================] - 0s 10ms/step - loss: 10.8673 - mae: 10.8673\n",
            "Epoch 13/100\n",
            "2/2 [==============================] - 0s 24ms/step - loss: 9.9170 - mae: 9.9170\n",
            "Epoch 14/100\n",
            "2/2 [==============================] - 0s 24ms/step - loss: 12.1247 - mae: 12.1247\n",
            "Epoch 15/100\n",
            "2/2 [==============================] - 0s 12ms/step - loss: 12.4065 - mae: 12.4065\n",
            "Epoch 16/100\n",
            "2/2 [==============================] - 0s 16ms/step - loss: 8.4504 - mae: 8.4504\n",
            "Epoch 17/100\n",
            "2/2 [==============================] - 0s 21ms/step - loss: 13.4004 - mae: 13.4004\n",
            "Epoch 18/100\n",
            "2/2 [==============================] - 0s 12ms/step - loss: 11.1632 - mae: 11.1632\n",
            "Epoch 19/100\n",
            "2/2 [==============================] - 0s 11ms/step - loss: 18.4277 - mae: 18.4277\n",
            "Epoch 20/100\n",
            "2/2 [==============================] - 0s 9ms/step - loss: 15.1300 - mae: 15.1300\n",
            "Epoch 21/100\n",
            "2/2 [==============================] - 0s 9ms/step - loss: 11.0955 - mae: 11.0955\n",
            "Epoch 22/100\n",
            "2/2 [==============================] - 0s 13ms/step - loss: 8.2279 - mae: 8.2279\n",
            "Epoch 23/100\n",
            "2/2 [==============================] - 0s 9ms/step - loss: 9.5064 - mae: 9.5064\n",
            "Epoch 24/100\n",
            "2/2 [==============================] - 0s 12ms/step - loss: 7.7008 - mae: 7.7008\n",
            "Epoch 25/100\n",
            "2/2 [==============================] - 0s 12ms/step - loss: 13.1193 - mae: 13.1193\n",
            "Epoch 26/100\n",
            "2/2 [==============================] - 0s 11ms/step - loss: 16.5006 - mae: 16.5006\n",
            "Epoch 27/100\n",
            "2/2 [==============================] - 0s 16ms/step - loss: 13.2369 - mae: 13.2369\n",
            "Epoch 28/100\n",
            "2/2 [==============================] - 0s 18ms/step - loss: 14.3417 - mae: 14.3417\n",
            "Epoch 29/100\n",
            "2/2 [==============================] - 0s 11ms/step - loss: 10.1108 - mae: 10.1108\n",
            "Epoch 30/100\n",
            "2/2 [==============================] - 0s 8ms/step - loss: 16.4528 - mae: 16.4528\n",
            "Epoch 31/100\n",
            "2/2 [==============================] - 0s 13ms/step - loss: 23.5633 - mae: 23.5633\n",
            "Epoch 32/100\n",
            "2/2 [==============================] - 0s 17ms/step - loss: 7.6355 - mae: 7.6355\n",
            "Epoch 33/100\n",
            "2/2 [==============================] - 0s 10ms/step - loss: 9.3305 - mae: 9.3305\n",
            "Epoch 34/100\n",
            "2/2 [==============================] - 0s 16ms/step - loss: 13.6890 - mae: 13.6890\n",
            "Epoch 35/100\n",
            "2/2 [==============================] - 0s 26ms/step - loss: 11.1916 - mae: 11.1916\n",
            "Epoch 36/100\n",
            "2/2 [==============================] - 0s 14ms/step - loss: 13.4165 - mae: 13.4165\n",
            "Epoch 37/100\n",
            "2/2 [==============================] - 0s 13ms/step - loss: 9.4743 - mae: 9.4743\n",
            "Epoch 38/100\n",
            "2/2 [==============================] - 0s 15ms/step - loss: 10.1261 - mae: 10.1261\n",
            "Epoch 39/100\n",
            "2/2 [==============================] - 0s 29ms/step - loss: 9.0016 - mae: 9.0016\n",
            "Epoch 40/100\n",
            "2/2 [==============================] - 0s 12ms/step - loss: 9.6310 - mae: 9.6310\n",
            "Epoch 41/100\n",
            "2/2 [==============================] - 0s 11ms/step - loss: 10.5912 - mae: 10.5912\n",
            "Epoch 42/100\n",
            "2/2 [==============================] - 0s 8ms/step - loss: 10.6455 - mae: 10.6455\n",
            "Epoch 43/100\n",
            "2/2 [==============================] - 0s 16ms/step - loss: 7.2377 - mae: 7.2377\n",
            "Epoch 44/100\n",
            "2/2 [==============================] - 0s 35ms/step - loss: 8.0420 - mae: 8.0420\n",
            "Epoch 45/100\n",
            "2/2 [==============================] - 0s 20ms/step - loss: 9.8459 - mae: 9.8459\n",
            "Epoch 46/100\n",
            "2/2 [==============================] - 0s 12ms/step - loss: 8.9252 - mae: 8.9252\n",
            "Epoch 47/100\n",
            "2/2 [==============================] - 0s 11ms/step - loss: 7.5925 - mae: 7.5925\n",
            "Epoch 48/100\n",
            "2/2 [==============================] - 0s 12ms/step - loss: 8.5549 - mae: 8.5549\n",
            "Epoch 49/100\n",
            "2/2 [==============================] - 0s 11ms/step - loss: 10.0580 - mae: 10.0580\n",
            "Epoch 50/100\n",
            "2/2 [==============================] - 0s 14ms/step - loss: 9.0005 - mae: 9.0005\n",
            "Epoch 51/100\n",
            "2/2 [==============================] - 0s 16ms/step - loss: 10.7352 - mae: 10.7352\n",
            "Epoch 52/100\n",
            "2/2 [==============================] - 0s 19ms/step - loss: 15.2794 - mae: 15.2794\n",
            "Epoch 53/100\n",
            "2/2 [==============================] - 0s 22ms/step - loss: 14.3081 - mae: 14.3081\n",
            "Epoch 54/100\n",
            "2/2 [==============================] - 0s 16ms/step - loss: 21.5519 - mae: 21.5519\n",
            "Epoch 55/100\n",
            "2/2 [==============================] - 0s 17ms/step - loss: 16.0653 - mae: 16.0653\n",
            "Epoch 56/100\n",
            "2/2 [==============================] - 0s 14ms/step - loss: 10.2614 - mae: 10.2614\n",
            "Epoch 57/100\n",
            "2/2 [==============================] - 0s 17ms/step - loss: 9.8221 - mae: 9.8221\n",
            "Epoch 58/100\n",
            "2/2 [==============================] - 0s 14ms/step - loss: 9.1049 - mae: 9.1049\n",
            "Epoch 59/100\n",
            "2/2 [==============================] - 0s 14ms/step - loss: 8.3058 - mae: 8.3058\n",
            "Epoch 60/100\n",
            "2/2 [==============================] - 0s 17ms/step - loss: 9.4007 - mae: 9.4007\n",
            "Epoch 61/100\n",
            "2/2 [==============================] - 0s 12ms/step - loss: 11.2313 - mae: 11.2313\n",
            "Epoch 62/100\n",
            "2/2 [==============================] - 0s 18ms/step - loss: 11.9665 - mae: 11.9665\n",
            "Epoch 63/100\n",
            "2/2 [==============================] - 0s 24ms/step - loss: 7.9193 - mae: 7.9193\n",
            "Epoch 64/100\n",
            "2/2 [==============================] - 0s 19ms/step - loss: 14.2751 - mae: 14.2751\n",
            "Epoch 65/100\n",
            "2/2 [==============================] - 0s 24ms/step - loss: 10.5908 - mae: 10.5908\n",
            "Epoch 66/100\n",
            "2/2 [==============================] - 0s 17ms/step - loss: 11.2772 - mae: 11.2772\n",
            "Epoch 67/100\n",
            "2/2 [==============================] - 0s 12ms/step - loss: 7.0797 - mae: 7.0797\n",
            "Epoch 68/100\n",
            "2/2 [==============================] - 0s 17ms/step - loss: 8.9184 - mae: 8.9184\n",
            "Epoch 69/100\n",
            "2/2 [==============================] - 0s 16ms/step - loss: 10.4871 - mae: 10.4871\n",
            "Epoch 70/100\n",
            "2/2 [==============================] - 0s 19ms/step - loss: 7.8759 - mae: 7.8759\n",
            "Epoch 71/100\n",
            "2/2 [==============================] - 0s 12ms/step - loss: 11.3884 - mae: 11.3884\n",
            "Epoch 72/100\n",
            "2/2 [==============================] - 0s 14ms/step - loss: 9.5759 - mae: 9.5759\n",
            "Epoch 73/100\n",
            "2/2 [==============================] - 0s 25ms/step - loss: 11.6857 - mae: 11.6857\n",
            "Epoch 74/100\n",
            "2/2 [==============================] - 0s 15ms/step - loss: 10.7466 - mae: 10.7466\n",
            "Epoch 75/100\n",
            "2/2 [==============================] - 0s 17ms/step - loss: 9.5747 - mae: 9.5747\n",
            "Epoch 76/100\n",
            "2/2 [==============================] - 0s 15ms/step - loss: 11.0240 - mae: 11.0240\n",
            "Epoch 77/100\n",
            "2/2 [==============================] - 0s 19ms/step - loss: 11.0953 - mae: 11.0953\n",
            "Epoch 78/100\n",
            "2/2 [==============================] - 0s 15ms/step - loss: 11.5908 - mae: 11.5908\n",
            "Epoch 79/100\n",
            "2/2 [==============================] - 0s 14ms/step - loss: 15.6348 - mae: 15.6348\n",
            "Epoch 80/100\n",
            "2/2 [==============================] - 0s 11ms/step - loss: 11.5932 - mae: 11.5932\n",
            "Epoch 81/100\n",
            "2/2 [==============================] - 0s 14ms/step - loss: 9.4938 - mae: 9.4938\n",
            "Epoch 82/100\n",
            "2/2 [==============================] - 0s 14ms/step - loss: 12.5797 - mae: 12.5797\n",
            "Epoch 83/100\n",
            "2/2 [==============================] - 0s 15ms/step - loss: 8.1824 - mae: 8.1824\n",
            "Epoch 84/100\n",
            "2/2 [==============================] - 0s 12ms/step - loss: 7.5610 - mae: 7.5610\n",
            "Epoch 85/100\n",
            "2/2 [==============================] - 0s 16ms/step - loss: 9.7464 - mae: 9.7464\n",
            "Epoch 86/100\n",
            "2/2 [==============================] - 0s 13ms/step - loss: 9.0547 - mae: 9.0547\n",
            "Epoch 87/100\n",
            "2/2 [==============================] - 0s 18ms/step - loss: 11.6865 - mae: 11.6865\n",
            "Epoch 88/100\n",
            "2/2 [==============================] - 0s 20ms/step - loss: 10.2871 - mae: 10.2871\n",
            "Epoch 89/100\n",
            "2/2 [==============================] - 0s 18ms/step - loss: 6.7636 - mae: 6.7636\n",
            "Epoch 90/100\n",
            "2/2 [==============================] - 0s 13ms/step - loss: 8.1252 - mae: 8.1252\n",
            "Epoch 91/100\n",
            "2/2 [==============================] - 0s 14ms/step - loss: 6.7655 - mae: 6.7655\n",
            "Epoch 92/100\n",
            "2/2 [==============================] - 0s 14ms/step - loss: 10.2165 - mae: 10.2165\n",
            "Epoch 93/100\n",
            "2/2 [==============================] - 0s 15ms/step - loss: 7.5893 - mae: 7.5893\n",
            "Epoch 94/100\n",
            "2/2 [==============================] - 0s 12ms/step - loss: 9.2184 - mae: 9.2184\n",
            "Epoch 95/100\n",
            "2/2 [==============================] - 0s 13ms/step - loss: 10.7715 - mae: 10.7715\n",
            "Epoch 96/100\n",
            "2/2 [==============================] - 0s 14ms/step - loss: 10.3893 - mae: 10.3893\n",
            "Epoch 97/100\n",
            "2/2 [==============================] - 0s 27ms/step - loss: 7.6471 - mae: 7.6471\n",
            "Epoch 98/100\n",
            "2/2 [==============================] - 0s 7ms/step - loss: 8.5904 - mae: 8.5904\n",
            "Epoch 99/100\n",
            "2/2 [==============================] - 0s 10ms/step - loss: 9.3620 - mae: 9.3620\n",
            "Epoch 100/100\n",
            "2/2 [==============================] - 0s 15ms/step - loss: 8.8258 - mae: 8.8258\n"
          ]
        },
        {
          "output_type": "execute_result",
          "data": {
            "text/plain": [
              "<keras.src.callbacks.History at 0x7e42f5e63cd0>"
            ]
          },
          "metadata": {},
          "execution_count": 44
        }
      ]
    },
    {
      "cell_type": "code",
      "source": [
        "# Make and plot predictions for model_1\n",
        "y_preds_1 = model_1.predict(X_test)\n",
        "plot_predictions(predictions = y_preds_1)"
      ],
      "metadata": {
        "colab": {
          "base_uri": "https://localhost:8080/",
          "height": 654
        },
        "id": "1_H5Ds8QW0Ye",
        "outputId": "fbbf9b9c-3934-45e9-f163-229af4442364"
      },
      "execution_count": 45,
      "outputs": [
        {
          "output_type": "stream",
          "name": "stderr",
          "text": [
            "WARNING:tensorflow:5 out of the last 5 calls to <function Model.make_predict_function.<locals>.predict_function at 0x7e42f5fd5cf0> triggered tf.function retracing. Tracing is expensive and the excessive number of tracings could be due to (1) creating @tf.function repeatedly in a loop, (2) passing tensors with different shapes, (3) passing Python objects instead of tensors. For (1), please define your @tf.function outside of the loop. For (2), @tf.function has reduce_retracing=True option that can avoid unnecessary retracing. For (3), please refer to https://www.tensorflow.org/guide/function#controlling_retracing and https://www.tensorflow.org/api_docs/python/tf/function for  more details.\n"
          ]
        },
        {
          "output_type": "stream",
          "name": "stdout",
          "text": [
            "1/1 [==============================] - 0s 110ms/step\n"
          ]
        },
        {
          "output_type": "display_data",
          "data": {
            "text/plain": [
              "<Figure size 1000x700 with 1 Axes>"
            ],
            "image/png": "[encoded data removed]"
          },
          "metadata": {}
        }
      ]
    },
    {
      "cell_type": "code",
      "source": [
        "# Calculate model_1 evaluation metrics\n",
        "mae_1 = mae(y_test, y_preds_1)\n",
        "mse_1 = mse(y_test, y_preds_1)\n",
        "\n",
        "mae_1, mse_1"
      ],
      "metadata": {
        "colab": {
          "base_uri": "https://localhost:8080/"
        },
        "id": "Bcacw5y0Xcwk",
        "outputId": "2ed85f61-c4d2-4e5a-b416-873c04a3fe34"
      },
      "execution_count": 46,
      "outputs": [
        {
          "output_type": "execute_result",
          "data": {
            "text/plain": [
              "(8.325836, 75.62362)"
            ]
          },
          "metadata": {},
          "execution_count": 46
        }
      ]
    },
    {
      "cell_type": "markdown",
      "source": [
        "\n",
        "** Build `model_2`**\n",
        "\n",
        "* 2 layers, trained for 100 epochs"
      ],
      "metadata": {
        "id": "2Iq1LGS6X2sA"
      }
    },
    {
      "cell_type": "code",
      "source": [
        "# Set the random seed\n",
        "tf.random.set_seed(42)\n",
        "\n",
        "# 1. Building the model\n",
        "model_2 = tf.keras.Sequential([\n",
        "    tf.keras.layers.Dense(10),\n",
        "    tf.keras.layers.Dense(1)\n",
        "])\n",
        "\n",
        "# 2. Compile the model\n",
        "model_2.compile(loss = tf.keras.losses.mae,\n",
        "                optimizer = tf.keras.optimizers.Adam(lr = 0.0001),\n",
        "                metrics = [\"mse\"])\n",
        "\n",
        "# 3. Fitting the model\n",
        "model_2.fit(tf.expand_dims(X_train, axis = -1), y_train, epochs = 100)"
      ],
      "metadata": {
        "colab": {
          "base_uri": "https://localhost:8080/"
        },
        "id": "RH8FV0lZYXJD",
        "outputId": "81b799a5-7c22-42ed-8932-267e39422f44"
      },
      "execution_count": 47,
      "outputs": [
        {
          "output_type": "stream",
          "name": "stderr",
          "text": [
            "WARNING:absl:`lr` is deprecated in Keras optimizer, please use `learning_rate` or use the legacy optimizer, e.g.,tf.keras.optimizers.legacy.Adam.\n"
          ]
        },
        {
          "output_type": "stream",
          "name": "stdout",
          "text": [
            "Epoch 1/100\n",
            "2/2 [==============================] - 1s 29ms/step - loss: 79.1612 - mse: 8671.9814\n",
            "Epoch 2/100\n",
            "2/2 [==============================] - 0s 12ms/step - loss: 78.6204 - mse: 8553.6514\n",
            "Epoch 3/100\n",
            "2/2 [==============================] - 0s 31ms/step - loss: 78.1007 - mse: 8439.3281\n",
            "Epoch 4/100\n",
            "2/2 [==============================] - 0s 12ms/step - loss: 77.5751 - mse: 8324.7012\n",
            "Epoch 5/100\n",
            "2/2 [==============================] - 0s 12ms/step - loss: 77.0614 - mse: 8215.3408\n",
            "Epoch 6/100\n",
            "2/2 [==============================] - 0s 9ms/step - loss: 76.5454 - mse: 8103.6807\n",
            "Epoch 7/100\n",
            "2/2 [==============================] - 0s 14ms/step - loss: 76.0274 - mse: 7991.7939\n",
            "Epoch 8/100\n",
            "2/2 [==============================] - 0s 16ms/step - loss: 75.4923 - mse: 7874.1616\n",
            "Epoch 9/100\n",
            "2/2 [==============================] - 0s 9ms/step - loss: 74.9976 - mse: 7773.8408\n",
            "Epoch 10/100\n",
            "2/2 [==============================] - 0s 8ms/step - loss: 74.4995 - mse: 7669.8594\n",
            "Epoch 11/100\n",
            "2/2 [==============================] - 0s 9ms/step - loss: 73.9695 - mse: 7559.1704\n",
            "Epoch 12/100\n",
            "2/2 [==============================] - 0s 8ms/step - loss: 73.4688 - mse: 7456.4648\n",
            "Epoch 13/100\n",
            "2/2 [==============================] - 0s 9ms/step - loss: 72.9484 - mse: 7347.6982\n",
            "Epoch 14/100\n",
            "2/2 [==============================] - 0s 9ms/step - loss: 72.4493 - mse: 7247.6836\n",
            "Epoch 15/100\n",
            "2/2 [==============================] - 0s 11ms/step - loss: 71.9543 - mse: 7148.8906\n",
            "Epoch 16/100\n",
            "2/2 [==============================] - 0s 13ms/step - loss: 71.4386 - mse: 7046.4287\n",
            "Epoch 17/100\n",
            "2/2 [==============================] - 0s 14ms/step - loss: 70.9356 - mse: 6946.0298\n",
            "Epoch 18/100\n",
            "2/2 [==============================] - 0s 10ms/step - loss: 70.4365 - mse: 6846.2407\n",
            "Epoch 19/100\n",
            "2/2 [==============================] - 0s 11ms/step - loss: 69.9481 - mse: 6749.9819\n",
            "Epoch 20/100\n",
            "2/2 [==============================] - 0s 11ms/step - loss: 69.4420 - mse: 6652.1006\n",
            "Epoch 21/100\n",
            "2/2 [==============================] - 0s 17ms/step - loss: 68.9453 - mse: 6556.7642\n",
            "Epoch 22/100\n",
            "2/2 [==============================] - 0s 13ms/step - loss: 68.4675 - mse: 6465.6504\n",
            "Epoch 23/100\n",
            "2/2 [==============================] - 0s 16ms/step - loss: 67.9728 - mse: 6371.7217\n",
            "Epoch 24/100\n",
            "2/2 [==============================] - 0s 22ms/step - loss: 67.4716 - mse: 6274.7080\n",
            "Epoch 25/100\n",
            "2/2 [==============================] - 0s 14ms/step - loss: 66.9786 - mse: 6183.3301\n",
            "Epoch 26/100\n",
            "2/2 [==============================] - 0s 16ms/step - loss: 66.4937 - mse: 6092.7837\n",
            "Epoch 27/100\n",
            "2/2 [==============================] - 0s 19ms/step - loss: 65.9822 - mse: 5998.2393\n",
            "Epoch 28/100\n",
            "2/2 [==============================] - 0s 13ms/step - loss: 65.4925 - mse: 5910.5029\n",
            "Epoch 29/100\n",
            "2/2 [==============================] - 0s 12ms/step - loss: 64.9576 - mse: 5809.9561\n",
            "Epoch 30/100\n",
            "2/2 [==============================] - 0s 14ms/step - loss: 64.4315 - mse: 5713.9072\n",
            "Epoch 31/100\n",
            "2/2 [==============================] - 0s 13ms/step - loss: 63.9387 - mse: 5631.0703\n",
            "Epoch 32/100\n",
            "2/2 [==============================] - 0s 25ms/step - loss: 63.4002 - mse: 5533.9663\n",
            "Epoch 33/100\n",
            "2/2 [==============================] - 0s 14ms/step - loss: 62.8679 - mse: 5439.1104\n",
            "Epoch 34/100\n",
            "2/2 [==============================] - 0s 12ms/step - loss: 62.3490 - mse: 5351.6445\n",
            "Epoch 35/100\n",
            "2/2 [==============================] - 0s 19ms/step - loss: 61.8080 - mse: 5257.1343\n",
            "Epoch 36/100\n",
            "2/2 [==============================] - 0s 16ms/step - loss: 61.3036 - mse: 5170.5225\n",
            "Epoch 37/100\n",
            "2/2 [==============================] - 0s 13ms/step - loss: 60.7684 - mse: 5079.3760\n",
            "Epoch 38/100\n",
            "2/2 [==============================] - 0s 9ms/step - loss: 60.2463 - mse: 4990.6768\n",
            "Epoch 39/100\n",
            "2/2 [==============================] - 0s 9ms/step - loss: 59.7237 - mse: 4903.8433\n",
            "Epoch 40/100\n",
            "2/2 [==============================] - 0s 20ms/step - loss: 59.2007 - mse: 4816.2241\n",
            "Epoch 41/100\n",
            "2/2 [==============================] - 0s 17ms/step - loss: 58.6694 - mse: 4731.1680\n",
            "Epoch 42/100\n",
            "2/2 [==============================] - 0s 13ms/step - loss: 58.1500 - mse: 4646.0762\n",
            "Epoch 43/100\n",
            "2/2 [==============================] - 0s 15ms/step - loss: 57.5866 - mse: 4553.7583\n",
            "Epoch 44/100\n",
            "2/2 [==============================] - 0s 28ms/step - loss: 57.0670 - mse: 4474.1704\n",
            "Epoch 45/100\n",
            "2/2 [==============================] - 0s 26ms/step - loss: 56.5186 - mse: 4387.6118\n",
            "Epoch 46/100\n",
            "2/2 [==============================] - 0s 20ms/step - loss: 55.9915 - mse: 4305.9072\n",
            "Epoch 47/100\n",
            "2/2 [==============================] - 0s 14ms/step - loss: 55.4232 - mse: 4217.1626\n",
            "Epoch 48/100\n",
            "2/2 [==============================] - 0s 18ms/step - loss: 54.8842 - mse: 4135.5879\n",
            "Epoch 49/100\n",
            "2/2 [==============================] - 0s 16ms/step - loss: 54.3336 - mse: 4052.1101\n",
            "Epoch 50/100\n",
            "2/2 [==============================] - 0s 14ms/step - loss: 53.7892 - mse: 3970.2390\n",
            "Epoch 51/100\n",
            "2/2 [==============================] - 0s 18ms/step - loss: 53.2056 - mse: 3880.8413\n",
            "Epoch 52/100\n",
            "2/2 [==============================] - 0s 18ms/step - loss: 52.6595 - mse: 3803.1965\n",
            "Epoch 53/100\n",
            "2/2 [==============================] - 0s 20ms/step - loss: 52.0667 - mse: 3714.2598\n",
            "Epoch 54/100\n",
            "2/2 [==============================] - 0s 20ms/step - loss: 51.4804 - mse: 3629.0073\n",
            "Epoch 55/100\n",
            "2/2 [==============================] - 0s 9ms/step - loss: 50.9027 - mse: 3547.5142\n",
            "Epoch 56/100\n",
            "2/2 [==============================] - 0s 14ms/step - loss: 50.2852 - mse: 3459.4368\n",
            "Epoch 57/100\n",
            "2/2 [==============================] - 0s 21ms/step - loss: 49.6901 - mse: 3377.8813\n",
            "Epoch 58/100\n",
            "2/2 [==============================] - 0s 13ms/step - loss: 49.0797 - mse: 3292.9839\n",
            "Epoch 59/100\n",
            "2/2 [==============================] - 0s 16ms/step - loss: 48.4773 - mse: 3213.9863\n",
            "Epoch 60/100\n",
            "2/2 [==============================] - 0s 17ms/step - loss: 47.8725 - mse: 3129.9097\n",
            "Epoch 61/100\n",
            "2/2 [==============================] - 0s 13ms/step - loss: 47.2670 - mse: 3050.8821\n",
            "Epoch 62/100\n",
            "2/2 [==============================] - 0s 18ms/step - loss: 46.6629 - mse: 2972.2925\n",
            "Epoch 63/100\n",
            "2/2 [==============================] - 0s 13ms/step - loss: 46.0474 - mse: 2892.3953\n",
            "Epoch 64/100\n",
            "2/2 [==============================] - 0s 14ms/step - loss: 45.4260 - mse: 2812.3599\n",
            "Epoch 65/100\n",
            "2/2 [==============================] - 0s 21ms/step - loss: 44.7978 - mse: 2733.7654\n",
            "Epoch 66/100\n",
            "2/2 [==============================] - 0s 15ms/step - loss: 44.1672 - mse: 2657.9141\n",
            "Epoch 67/100\n",
            "2/2 [==============================] - 0s 24ms/step - loss: 43.5339 - mse: 2580.2222\n",
            "Epoch 68/100\n",
            "2/2 [==============================] - 0s 17ms/step - loss: 42.8858 - mse: 2501.6562\n",
            "Epoch 69/100\n",
            "2/2 [==============================] - 0s 20ms/step - loss: 42.2497 - mse: 2428.9939\n",
            "Epoch 70/100\n",
            "2/2 [==============================] - 0s 25ms/step - loss: 41.5837 - mse: 2349.8081\n",
            "Epoch 71/100\n",
            "2/2 [==============================] - 0s 14ms/step - loss: 40.9332 - mse: 2276.5630\n",
            "Epoch 72/100\n",
            "2/2 [==============================] - 0s 14ms/step - loss: 40.2775 - mse: 2203.1167\n",
            "Epoch 73/100\n",
            "2/2 [==============================] - 0s 10ms/step - loss: 39.5836 - mse: 2125.2590\n",
            "Epoch 74/100\n",
            "2/2 [==============================] - 0s 8ms/step - loss: 38.9378 - mse: 2058.4565\n",
            "Epoch 75/100\n",
            "2/2 [==============================] - 0s 10ms/step - loss: 38.2342 - mse: 1983.2996\n",
            "Epoch 76/100\n",
            "2/2 [==============================] - 0s 16ms/step - loss: 37.5475 - mse: 1910.2014\n",
            "Epoch 77/100\n",
            "2/2 [==============================] - 0s 11ms/step - loss: 36.8466 - mse: 1841.1960\n",
            "Epoch 78/100\n",
            "2/2 [==============================] - 0s 11ms/step - loss: 36.1263 - mse: 1766.8363\n",
            "Epoch 79/100\n",
            "2/2 [==============================] - 0s 9ms/step - loss: 35.4046 - mse: 1695.5117\n",
            "Epoch 80/100\n",
            "2/2 [==============================] - 0s 9ms/step - loss: 34.7163 - mse: 1630.2125\n",
            "Epoch 81/100\n",
            "2/2 [==============================] - 0s 10ms/step - loss: 34.0424 - mse: 1566.1537\n",
            "Epoch 82/100\n",
            "2/2 [==============================] - 0s 12ms/step - loss: 33.2924 - mse: 1496.9434\n",
            "Epoch 83/100\n",
            "2/2 [==============================] - 0s 11ms/step - loss: 32.6232 - mse: 1436.7858\n",
            "Epoch 84/100\n",
            "2/2 [==============================] - 0s 12ms/step - loss: 31.8931 - mse: 1369.0146\n",
            "Epoch 85/100\n",
            "2/2 [==============================] - 0s 11ms/step - loss: 31.2226 - mse: 1312.4473\n",
            "Epoch 86/100\n",
            "2/2 [==============================] - 0s 13ms/step - loss: 30.5214 - mse: 1251.7744\n",
            "Epoch 87/100\n",
            "2/2 [==============================] - 0s 14ms/step - loss: 29.7911 - mse: 1191.5192\n",
            "Epoch 88/100\n",
            "2/2 [==============================] - 0s 10ms/step - loss: 29.0941 - mse: 1136.4537\n",
            "Epoch 89/100\n",
            "2/2 [==============================] - 0s 15ms/step - loss: 28.3423 - mse: 1077.1293\n",
            "Epoch 90/100\n",
            "2/2 [==============================] - 0s 12ms/step - loss: 27.6155 - mse: 1023.9608\n",
            "Epoch 91/100\n",
            "2/2 [==============================] - 0s 13ms/step - loss: 26.8536 - mse: 967.0519\n",
            "Epoch 92/100\n",
            "2/2 [==============================] - 0s 10ms/step - loss: 26.1327 - mse: 916.4545\n",
            "Epoch 93/100\n",
            "2/2 [==============================] - 0s 43ms/step - loss: 25.3904 - mse: 863.4546\n",
            "Epoch 94/100\n",
            "2/2 [==============================] - 0s 11ms/step - loss: 24.6318 - mse: 811.9924\n",
            "Epoch 95/100\n",
            "2/2 [==============================] - 0s 11ms/step - loss: 23.9024 - mse: 764.6692\n",
            "Epoch 96/100\n",
            "2/2 [==============================] - 0s 16ms/step - loss: 23.1346 - mse: 713.6354\n",
            "Epoch 97/100\n",
            "2/2 [==============================] - 0s 12ms/step - loss: 22.4062 - mse: 670.3407\n",
            "Epoch 98/100\n",
            "2/2 [==============================] - 0s 11ms/step - loss: 21.6320 - mse: 624.6187\n",
            "Epoch 99/100\n",
            "2/2 [==============================] - 0s 10ms/step - loss: 20.8632 - mse: 581.1223\n",
            "Epoch 100/100\n",
            "2/2 [==============================] - 0s 11ms/step - loss: 20.1301 - mse: 539.6720\n"
          ]
        },
        {
          "output_type": "execute_result",
          "data": {
            "text/plain": [
              "<keras.src.callbacks.History at 0x7e42f5df4730>"
            ]
          },
          "metadata": {},
          "execution_count": 47
        }
      ]
    },
    {
      "cell_type": "code",
      "source": [
        "y_preds_2 = model_2.predict(X_test)\n",
        "y_preds_2"
      ],
      "metadata": {
        "colab": {
          "base_uri": "https://localhost:8080/"
        },
        "id": "o_8kUm1iZSFX",
        "outputId": "0cdbee13-8685-4eba-d949-2643adedde96"
      },
      "execution_count": 48,
      "outputs": [
        {
          "output_type": "stream",
          "name": "stderr",
          "text": [
            "WARNING:tensorflow:6 out of the last 6 calls to <function Model.make_predict_function.<locals>.predict_function at 0x7e42f5fbd900> triggered tf.function retracing. Tracing is expensive and the excessive number of tracings could be due to (1) creating @tf.function repeatedly in a loop, (2) passing tensors with different shapes, (3) passing Python objects instead of tensors. For (1), please define your @tf.function outside of the loop. For (2), @tf.function has reduce_retracing=True option that can avoid unnecessary retracing. For (3), please refer to https://www.tensorflow.org/guide/function#controlling_retracing and https://www.tensorflow.org/api_docs/python/tf/function for  more details.\n"
          ]
        },
        {
          "output_type": "stream",
          "name": "stdout",
          "text": [
            "1/1 [==============================] - 0s 110ms/step\n"
          ]
        },
        {
          "output_type": "execute_result",
          "data": {
            "text/plain": [
              "array([[30.1747  ],\n",
              "       [32.228794],\n",
              "       [34.282887],\n",
              "       [36.336975],\n",
              "       [38.391068],\n",
              "       [40.44516 ],\n",
              "       [42.49925 ],\n",
              "       [44.553337],\n",
              "       [46.60743 ],\n",
              "       [48.661514]], dtype=float32)"
            ]
          },
          "metadata": {},
          "execution_count": 48
        }
      ]
    },
    {
      "cell_type": "code",
      "source": [
        "plot_predictions(predictions=y_preds_2)"
      ],
      "metadata": {
        "colab": {
          "base_uri": "https://localhost:8080/",
          "height": 599
        },
        "id": "W6vwrSYJZABM",
        "outputId": "6fac31ca-df20-4b36-f8a6-a1755c3e5475"
      },
      "execution_count": 49,
      "outputs": [
        {
          "output_type": "display_data",
          "data": {
            "text/plain": [
              "<Figure size 1000x700 with 1 Axes>"
            ],
            "image/png": "[encoded data removed]"
          },
          "metadata": {}
        }
      ]
    },
    {
      "cell_type": "code",
      "source": [
        "mae_2 = mae(y_test, y_preds_2)\n",
        "mse_2 = mse(y_test, y_preds_2)\n",
        "\n",
        "mae_2, mse_2"
      ],
      "metadata": {
        "colab": {
          "base_uri": "https://localhost:8080/"
        },
        "id": "-JXoIDZuhnx6",
        "outputId": "fe4b80aa-e815-4049-934a-d6dc4c39ed74"
      },
      "execution_count": 50,
      "outputs": [
        {
          "output_type": "execute_result",
          "data": {
            "text/plain": [
              "(48.581886, 2391.439)"
            ]
          },
          "metadata": {},
          "execution_count": 50
        }
      ]
    },
    {
      "cell_type": "markdown",
      "source": [
        "**Build `model_3`**\n",
        "\n",
        "2 layers, trained for 500 epochs."
      ],
      "metadata": {
        "id": "8xOf4SLSiqm4"
      }
    },
    {
      "cell_type": "code",
      "source": [
        "# Set the random seed\n",
        "tf.random.set_seed(42)\n",
        "\n",
        "# 1. Building the model\n",
        "model_3 = tf.keras.Sequential([\n",
        "    tf.keras.layers.Dense(10),\n",
        "    tf.keras.layers.Dense(1)\n",
        "])\n",
        "\n",
        "# 2. Compile the model\n",
        "model_3.compile(loss = tf.keras.losses.mae,\n",
        "                optimizer = tf.keras.optimizers.Adam(lr = 0.0001),\n",
        "                metrics = [\"mse\"])\n",
        "\n",
        "# 3. Fitting the model\n",
        "model_3.fit(tf.expand_dims(X_train, axis = -1), y_train, epochs = 500)"
      ],
      "metadata": {
        "colab": {
          "base_uri": "https://localhost:8080/"
        },
        "id": "DbiArt7Tj8JK",
        "outputId": "2d0accdf-b192-4d88-a2bb-dae39cbe30c9"
      },
      "execution_count": 51,
      "outputs": [
        {
          "output_type": "stream",
          "name": "stderr",
          "text": [
            "WARNING:absl:`lr` is deprecated in Keras optimizer, please use `learning_rate` or use the legacy optimizer, e.g.,tf.keras.optimizers.legacy.Adam.\n"
          ]
        },
        {
          "output_type": "stream",
          "name": "stdout",
          "text": [
            "Epoch 1/500\n",
            "2/2 [==============================] - 1s 16ms/step - loss: 51.5548 - mse: 3644.9683\n",
            "Epoch 2/500\n",
            "2/2 [==============================] - 0s 18ms/step - loss: 51.0028 - mse: 3566.8618\n",
            "Epoch 3/500\n",
            "2/2 [==============================] - 0s 10ms/step - loss: 50.4726 - mse: 3490.9634\n",
            "Epoch 4/500\n",
            "2/2 [==============================] - 0s 10ms/step - loss: 49.9282 - mse: 3414.8882\n",
            "Epoch 5/500\n",
            "2/2 [==============================] - 0s 11ms/step - loss: 49.3958 - mse: 3342.2910\n",
            "Epoch 6/500\n",
            "2/2 [==============================] - 0s 12ms/step - loss: 48.8574 - mse: 3268.2446\n",
            "Epoch 7/500\n",
            "2/2 [==============================] - 0s 10ms/step - loss: 48.3130 - mse: 3193.6033\n",
            "Epoch 8/500\n",
            "2/2 [==============================] - 0s 10ms/step - loss: 47.7493 - mse: 3115.0938\n",
            "Epoch 9/500\n",
            "2/2 [==============================] - 0s 10ms/step - loss: 47.2205 - mse: 3047.7415\n",
            "Epoch 10/500\n",
            "2/2 [==============================] - 0s 10ms/step - loss: 46.6904 - mse: 2978.1997\n",
            "Epoch 11/500\n",
            "2/2 [==============================] - 0s 16ms/step - loss: 46.1175 - mse: 2904.5598\n",
            "Epoch 12/500\n",
            "2/2 [==============================] - 0s 14ms/step - loss: 45.5784 - mse: 2835.6455\n",
            "Epoch 13/500\n",
            "2/2 [==============================] - 0s 16ms/step - loss: 45.0095 - mse: 2762.9146\n",
            "Epoch 14/500\n",
            "2/2 [==============================] - 0s 13ms/step - loss: 44.4664 - mse: 2696.0083\n",
            "Epoch 15/500\n",
            "2/2 [==============================] - 0s 11ms/step - loss: 43.9222 - mse: 2629.9707\n",
            "Epoch 16/500\n",
            "2/2 [==============================] - 0s 12ms/step - loss: 43.3531 - mse: 2561.8035\n",
            "Epoch 17/500\n",
            "2/2 [==============================] - 0s 11ms/step - loss: 42.7934 - mse: 2494.7178\n",
            "Epoch 18/500\n",
            "2/2 [==============================] - 0s 12ms/step - loss: 42.2385 - mse: 2429.0813\n",
            "Epoch 19/500\n",
            "2/2 [==============================] - 0s 12ms/step - loss: 41.6927 - mse: 2365.2900\n",
            "Epoch 20/500\n",
            "2/2 [==============================] - 0s 19ms/step - loss: 41.1245 - mse: 2300.4700\n",
            "Epoch 21/500\n",
            "2/2 [==============================] - 0s 11ms/step - loss: 40.5653 - mse: 2237.7686\n",
            "Epoch 22/500\n",
            "2/2 [==============================] - 0s 11ms/step - loss: 40.0260 - mse: 2177.9663\n",
            "Epoch 23/500\n",
            "2/2 [==============================] - 0s 14ms/step - loss: 39.4668 - mse: 2117.1187\n",
            "Epoch 24/500\n",
            "2/2 [==============================] - 0s 15ms/step - loss: 38.9017 - mse: 2054.0798\n",
            "Epoch 25/500\n",
            "2/2 [==============================] - 0s 12ms/step - loss: 38.3413 - mse: 1995.6403\n",
            "Epoch 26/500\n",
            "2/2 [==============================] - 0s 12ms/step - loss: 37.7932 - mse: 1937.9242\n",
            "Epoch 27/500\n",
            "2/2 [==============================] - 0s 10ms/step - loss: 37.2147 - mse: 1878.3103\n",
            "Epoch 28/500\n",
            "2/2 [==============================] - 0s 10ms/step - loss: 36.6613 - mse: 1823.3838\n",
            "Epoch 29/500\n",
            "2/2 [==============================] - 0s 12ms/step - loss: 36.0568 - mse: 1761.2291\n",
            "Epoch 30/500\n",
            "2/2 [==============================] - 0s 11ms/step - loss: 35.4630 - mse: 1702.2922\n",
            "Epoch 31/500\n",
            "2/2 [==============================] - 0s 12ms/step - loss: 34.9081 - mse: 1651.8881\n",
            "Epoch 32/500\n",
            "2/2 [==============================] - 0s 10ms/step - loss: 34.3066 - mse: 1593.7280\n",
            "Epoch 33/500\n",
            "2/2 [==============================] - 0s 13ms/step - loss: 33.7152 - mse: 1537.5179\n",
            "Epoch 34/500\n",
            "2/2 [==============================] - 0s 11ms/step - loss: 33.1504 - mse: 1486.4814\n",
            "Epoch 35/500\n",
            "2/2 [==============================] - 0s 14ms/step - loss: 32.5546 - mse: 1432.5348\n",
            "Epoch 36/500\n",
            "2/2 [==============================] - 0s 14ms/step - loss: 32.0102 - mse: 1383.1569\n",
            "Epoch 37/500\n",
            "2/2 [==============================] - 0s 17ms/step - loss: 31.4254 - mse: 1332.3148\n",
            "Epoch 38/500\n",
            "2/2 [==============================] - 0s 14ms/step - loss: 30.8614 - mse: 1283.7535\n",
            "Epoch 39/500\n",
            "2/2 [==============================] - 0s 12ms/step - loss: 30.3002 - mse: 1236.5957\n",
            "Epoch 40/500\n",
            "2/2 [==============================] - 0s 40ms/step - loss: 29.7345 - mse: 1189.5996\n",
            "Epoch 41/500\n",
            "2/2 [==============================] - 0s 14ms/step - loss: 29.1642 - mse: 1144.3558\n",
            "Epoch 42/500\n",
            "2/2 [==============================] - 0s 11ms/step - loss: 28.6077 - mse: 1100.3636\n",
            "Epoch 43/500\n",
            "2/2 [==============================] - 0s 17ms/step - loss: 28.0039 - mse: 1053.0758\n",
            "Epoch 44/500\n",
            "2/2 [==============================] - 0s 12ms/step - loss: 27.4490 - mse: 1012.7672\n",
            "Epoch 45/500\n",
            "2/2 [==============================] - 0s 19ms/step - loss: 26.8637 - mse: 969.4517\n",
            "Epoch 46/500\n",
            "2/2 [==============================] - 0s 18ms/step - loss: 26.3030 - mse: 929.4442\n",
            "Epoch 47/500\n",
            "2/2 [==============================] - 0s 18ms/step - loss: 25.7062 - mse: 886.5020\n",
            "Epoch 48/500\n",
            "2/2 [==============================] - 0s 15ms/step - loss: 25.1416 - mse: 847.9485\n",
            "Epoch 49/500\n",
            "2/2 [==============================] - 0s 21ms/step - loss: 24.5821 - mse: 809.8800\n",
            "Epoch 50/500\n",
            "2/2 [==============================] - 0s 19ms/step - loss: 24.0272 - mse: 772.5397\n",
            "Epoch 51/500\n",
            "2/2 [==============================] - 0s 15ms/step - loss: 23.4309 - mse: 733.3338\n",
            "Epoch 52/500\n",
            "2/2 [==============================] - 0s 19ms/step - loss: 22.8755 - mse: 700.1356\n",
            "Epoch 53/500\n",
            "2/2 [==============================] - 0s 22ms/step - loss: 22.2688 - mse: 662.3746\n",
            "Epoch 54/500\n",
            "2/2 [==============================] - 0s 14ms/step - loss: 21.6688 - mse: 626.6595\n",
            "Epoch 55/500\n",
            "2/2 [==============================] - 0s 12ms/step - loss: 21.0780 - mse: 593.1266\n",
            "Epoch 56/500\n",
            "2/2 [==============================] - 0s 14ms/step - loss: 20.4464 - mse: 557.6002\n",
            "Epoch 57/500\n",
            "2/2 [==============================] - 0s 14ms/step - loss: 19.8600 - mse: 525.8433\n",
            "Epoch 58/500\n",
            "2/2 [==============================] - 0s 15ms/step - loss: 19.2559 - mse: 494.1568\n",
            "Epoch 59/500\n",
            "2/2 [==============================] - 0s 20ms/step - loss: 18.6673 - mse: 464.9429\n",
            "Epoch 60/500\n",
            "2/2 [==============================] - 0s 10ms/step - loss: 18.0752 - mse: 435.2883\n",
            "Epoch 61/500\n",
            "2/2 [==============================] - 0s 12ms/step - loss: 17.4850 - mse: 408.1071\n",
            "Epoch 62/500\n",
            "2/2 [==============================] - 0s 18ms/step - loss: 16.9159 - mse: 382.0534\n",
            "Epoch 63/500\n",
            "2/2 [==============================] - 0s 7ms/step - loss: 16.3345 - mse: 356.7853\n",
            "Epoch 64/500\n",
            "2/2 [==============================] - 0s 17ms/step - loss: 15.7595 - mse: 331.7036\n",
            "Epoch 65/500\n",
            "2/2 [==============================] - 0s 9ms/step - loss: 15.1781 - mse: 308.5579\n",
            "Epoch 66/500\n",
            "2/2 [==============================] - 0s 26ms/step - loss: 14.6149 - mse: 286.4514\n",
            "Epoch 67/500\n",
            "2/2 [==============================] - 0s 24ms/step - loss: 14.0579 - mse: 265.4275\n",
            "Epoch 68/500\n",
            "2/2 [==============================] - 0s 15ms/step - loss: 13.4892 - mse: 245.4545\n",
            "Epoch 69/500\n",
            "2/2 [==============================] - 0s 25ms/step - loss: 12.9650 - mse: 227.5478\n",
            "Epoch 70/500\n",
            "2/2 [==============================] - 0s 23ms/step - loss: 12.4194 - mse: 209.1673\n",
            "Epoch 71/500\n",
            "2/2 [==============================] - 0s 29ms/step - loss: 11.9080 - mse: 193.6606\n",
            "Epoch 72/500\n",
            "2/2 [==============================] - 0s 13ms/step - loss: 11.4114 - mse: 179.3648\n",
            "Epoch 73/500\n",
            "2/2 [==============================] - 0s 18ms/step - loss: 10.8989 - mse: 164.7386\n",
            "Epoch 74/500\n",
            "2/2 [==============================] - 0s 22ms/step - loss: 10.4773 - mse: 153.2883\n",
            "Epoch 75/500\n",
            "2/2 [==============================] - 0s 18ms/step - loss: 10.0029 - mse: 141.1724\n",
            "Epoch 76/500\n",
            "2/2 [==============================] - 0s 38ms/step - loss: 9.5562 - mse: 130.7365\n",
            "Epoch 77/500\n",
            "2/2 [==============================] - 0s 20ms/step - loss: 9.2027 - mse: 122.1027\n",
            "Epoch 78/500\n",
            "2/2 [==============================] - 0s 27ms/step - loss: 8.8155 - mse: 114.1495\n",
            "Epoch 79/500\n",
            "2/2 [==============================] - 0s 31ms/step - loss: 8.5053 - mse: 106.9942\n",
            "Epoch 80/500\n",
            "2/2 [==============================] - 0s 35ms/step - loss: 8.2386 - mse: 101.3254\n",
            "Epoch 81/500\n",
            "2/2 [==============================] - 0s 18ms/step - loss: 8.0470 - mse: 96.8725\n",
            "Epoch 82/500\n",
            "2/2 [==============================] - 0s 26ms/step - loss: 7.8743 - mse: 92.8488\n",
            "Epoch 83/500\n",
            "2/2 [==============================] - 0s 20ms/step - loss: 7.7991 - mse: 90.2726\n",
            "Epoch 84/500\n",
            "2/2 [==============================] - 0s 16ms/step - loss: 7.7251 - mse: 87.7423\n",
            "Epoch 85/500\n",
            "2/2 [==============================] - 0s 27ms/step - loss: 7.7511 - mse: 86.4194\n",
            "Epoch 86/500\n",
            "2/2 [==============================] - 0s 19ms/step - loss: 7.7578 - mse: 85.3753\n",
            "Epoch 87/500\n",
            "2/2 [==============================] - 0s 38ms/step - loss: 7.7662 - mse: 84.5571\n",
            "Epoch 88/500\n",
            "2/2 [==============================] - 0s 28ms/step - loss: 7.7687 - mse: 84.1063\n",
            "Epoch 89/500\n",
            "2/2 [==============================] - 0s 21ms/step - loss: 7.7591 - mse: 83.7380\n",
            "Epoch 90/500\n",
            "2/2 [==============================] - 0s 17ms/step - loss: 7.7369 - mse: 83.4602\n",
            "Epoch 91/500\n",
            "2/2 [==============================] - 0s 13ms/step - loss: 7.7077 - mse: 83.3805\n",
            "Epoch 92/500\n",
            "2/2 [==============================] - 0s 20ms/step - loss: 7.6641 - mse: 83.2604\n",
            "Epoch 93/500\n",
            "2/2 [==============================] - 0s 26ms/step - loss: 7.6274 - mse: 83.2423\n",
            "Epoch 94/500\n",
            "2/2 [==============================] - 0s 31ms/step - loss: 7.5946 - mse: 83.4578\n",
            "Epoch 95/500\n",
            "2/2 [==============================] - 0s 8ms/step - loss: 7.5683 - mse: 83.7498\n",
            "Epoch 96/500\n",
            "2/2 [==============================] - 0s 7ms/step - loss: 7.5784 - mse: 84.4079\n",
            "Epoch 97/500\n",
            "2/2 [==============================] - 0s 8ms/step - loss: 7.5614 - mse: 84.6053\n",
            "Epoch 98/500\n",
            "2/2 [==============================] - 0s 26ms/step - loss: 7.5550 - mse: 84.6456\n",
            "Epoch 99/500\n",
            "2/2 [==============================] - 0s 24ms/step - loss: 7.5448 - mse: 84.4906\n",
            "Epoch 100/500\n",
            "2/2 [==============================] - 0s 14ms/step - loss: 7.5336 - mse: 84.2597\n",
            "Epoch 101/500\n",
            "2/2 [==============================] - 0s 11ms/step - loss: 7.5178 - mse: 83.9025\n",
            "Epoch 102/500\n",
            "2/2 [==============================] - 0s 16ms/step - loss: 7.4980 - mse: 83.2870\n",
            "Epoch 103/500\n",
            "2/2 [==============================] - 0s 21ms/step - loss: 7.4790 - mse: 82.6856\n",
            "Epoch 104/500\n",
            "2/2 [==============================] - 0s 18ms/step - loss: 7.4595 - mse: 81.9081\n",
            "Epoch 105/500\n",
            "2/2 [==============================] - 0s 13ms/step - loss: 7.4455 - mse: 81.2592\n",
            "Epoch 106/500\n",
            "2/2 [==============================] - 0s 8ms/step - loss: 7.4367 - mse: 80.5323\n",
            "Epoch 107/500\n",
            "2/2 [==============================] - 0s 13ms/step - loss: 7.4367 - mse: 79.9302\n",
            "Epoch 108/500\n",
            "2/2 [==============================] - 0s 16ms/step - loss: 7.4333 - mse: 79.3925\n",
            "Epoch 109/500\n",
            "2/2 [==============================] - 0s 24ms/step - loss: 7.4194 - mse: 79.0666\n",
            "Epoch 110/500\n",
            "2/2 [==============================] - 0s 24ms/step - loss: 7.4057 - mse: 79.0072\n",
            "Epoch 111/500\n",
            "2/2 [==============================] - 0s 21ms/step - loss: 7.3910 - mse: 78.9722\n",
            "Epoch 112/500\n",
            "2/2 [==============================] - 0s 21ms/step - loss: 7.3750 - mse: 78.8029\n",
            "Epoch 113/500\n",
            "2/2 [==============================] - 0s 19ms/step - loss: 7.3621 - mse: 78.6014\n",
            "Epoch 114/500\n",
            "2/2 [==============================] - 0s 20ms/step - loss: 7.3494 - mse: 78.3918\n",
            "Epoch 115/500\n",
            "2/2 [==============================] - 0s 16ms/step - loss: 7.3356 - mse: 78.3119\n",
            "Epoch 116/500\n",
            "2/2 [==============================] - 0s 8ms/step - loss: 7.3237 - mse: 78.3413\n",
            "Epoch 117/500\n",
            "2/2 [==============================] - 0s 8ms/step - loss: 7.3112 - mse: 78.2474\n",
            "Epoch 118/500\n",
            "2/2 [==============================] - 0s 8ms/step - loss: 7.3021 - mse: 78.1383\n",
            "Epoch 119/500\n",
            "2/2 [==============================] - 0s 14ms/step - loss: 7.2911 - mse: 78.0021\n",
            "Epoch 120/500\n",
            "2/2 [==============================] - 0s 12ms/step - loss: 7.2800 - mse: 77.8157\n",
            "Epoch 121/500\n",
            "2/2 [==============================] - 0s 15ms/step - loss: 7.2698 - mse: 77.6681\n",
            "Epoch 122/500\n",
            "2/2 [==============================] - 0s 11ms/step - loss: 7.2609 - mse: 77.5009\n",
            "Epoch 123/500\n",
            "2/2 [==============================] - 0s 30ms/step - loss: 7.2484 - mse: 77.2751\n",
            "Epoch 124/500\n",
            "2/2 [==============================] - 0s 12ms/step - loss: 7.2396 - mse: 76.9033\n",
            "Epoch 125/500\n",
            "2/2 [==============================] - 0s 15ms/step - loss: 7.2269 - mse: 76.5742\n",
            "Epoch 126/500\n",
            "2/2 [==============================] - 0s 24ms/step - loss: 7.2163 - mse: 76.2606\n",
            "Epoch 127/500\n",
            "2/2 [==============================] - 0s 28ms/step - loss: 7.2087 - mse: 75.9467\n",
            "Epoch 128/500\n",
            "2/2 [==============================] - 0s 32ms/step - loss: 7.1946 - mse: 75.6128\n",
            "Epoch 129/500\n",
            "2/2 [==============================] - 0s 13ms/step - loss: 7.1839 - mse: 75.4946\n",
            "Epoch 130/500\n",
            "2/2 [==============================] - 0s 12ms/step - loss: 7.1786 - mse: 75.5275\n",
            "Epoch 131/500\n",
            "2/2 [==============================] - 0s 17ms/step - loss: 7.1675 - mse: 75.5145\n",
            "Epoch 132/500\n",
            "2/2 [==============================] - 0s 11ms/step - loss: 7.1572 - mse: 75.3867\n",
            "Epoch 133/500\n",
            "2/2 [==============================] - 0s 28ms/step - loss: 7.1478 - mse: 75.2212\n",
            "Epoch 134/500\n",
            "2/2 [==============================] - 0s 19ms/step - loss: 7.1387 - mse: 75.1383\n",
            "Epoch 135/500\n",
            "2/2 [==============================] - 0s 23ms/step - loss: 7.1305 - mse: 75.0854\n",
            "Epoch 136/500\n",
            "2/2 [==============================] - 0s 18ms/step - loss: 7.1174 - mse: 74.7698\n",
            "Epoch 137/500\n",
            "2/2 [==============================] - 0s 19ms/step - loss: 7.1040 - mse: 74.2554\n",
            "Epoch 138/500\n",
            "2/2 [==============================] - 0s 20ms/step - loss: 7.0950 - mse: 73.6620\n",
            "Epoch 139/500\n",
            "2/2 [==============================] - 0s 21ms/step - loss: 7.0844 - mse: 73.0892\n",
            "Epoch 140/500\n",
            "2/2 [==============================] - 0s 28ms/step - loss: 7.0796 - mse: 72.6048\n",
            "Epoch 141/500\n",
            "2/2 [==============================] - 0s 36ms/step - loss: 7.0762 - mse: 72.2428\n",
            "Epoch 142/500\n",
            "2/2 [==============================] - 0s 19ms/step - loss: 7.0712 - mse: 71.8807\n",
            "Epoch 143/500\n",
            "2/2 [==============================] - 0s 17ms/step - loss: 7.0567 - mse: 71.7424\n",
            "Epoch 144/500\n",
            "2/2 [==============================] - 0s 18ms/step - loss: 7.0394 - mse: 71.6983\n",
            "Epoch 145/500\n",
            "2/2 [==============================] - 0s 18ms/step - loss: 7.0282 - mse: 71.8386\n",
            "Epoch 146/500\n",
            "2/2 [==============================] - 0s 19ms/step - loss: 7.0146 - mse: 72.0180\n",
            "Epoch 147/500\n",
            "2/2 [==============================] - 0s 12ms/step - loss: 7.0047 - mse: 71.9874\n",
            "Epoch 148/500\n",
            "2/2 [==============================] - 0s 17ms/step - loss: 6.9990 - mse: 72.0236\n",
            "Epoch 149/500\n",
            "2/2 [==============================] - 0s 15ms/step - loss: 6.9870 - mse: 71.9563\n",
            "Epoch 150/500\n",
            "2/2 [==============================] - 0s 16ms/step - loss: 6.9778 - mse: 71.8367\n",
            "Epoch 151/500\n",
            "2/2 [==============================] - 0s 26ms/step - loss: 6.9687 - mse: 71.7402\n",
            "Epoch 152/500\n",
            "2/2 [==============================] - 0s 17ms/step - loss: 6.9597 - mse: 71.5646\n",
            "Epoch 153/500\n",
            "2/2 [==============================] - 0s 13ms/step - loss: 6.9480 - mse: 71.2375\n",
            "Epoch 154/500\n",
            "2/2 [==============================] - 0s 20ms/step - loss: 6.9379 - mse: 70.8922\n",
            "Epoch 155/500\n",
            "2/2 [==============================] - 0s 20ms/step - loss: 6.9265 - mse: 70.5319\n",
            "Epoch 156/500\n",
            "2/2 [==============================] - 0s 26ms/step - loss: 6.9143 - mse: 70.1554\n",
            "Epoch 157/500\n",
            "2/2 [==============================] - 0s 17ms/step - loss: 6.9114 - mse: 69.6974\n",
            "Epoch 158/500\n",
            "2/2 [==============================] - 0s 15ms/step - loss: 6.8978 - mse: 69.2751\n",
            "Epoch 159/500\n",
            "2/2 [==============================] - 0s 15ms/step - loss: 6.8887 - mse: 69.0536\n",
            "Epoch 160/500\n",
            "2/2 [==============================] - 0s 16ms/step - loss: 6.8793 - mse: 68.8316\n",
            "Epoch 161/500\n",
            "2/2 [==============================] - 0s 16ms/step - loss: 6.8704 - mse: 68.7179\n",
            "Epoch 162/500\n",
            "2/2 [==============================] - 0s 12ms/step - loss: 6.8586 - mse: 68.5527\n",
            "Epoch 163/500\n",
            "2/2 [==============================] - 0s 26ms/step - loss: 6.8485 - mse: 68.4243\n",
            "Epoch 164/500\n",
            "2/2 [==============================] - 0s 19ms/step - loss: 6.8395 - mse: 68.3295\n",
            "Epoch 165/500\n",
            "2/2 [==============================] - 0s 22ms/step - loss: 6.8295 - mse: 68.1501\n",
            "Epoch 166/500\n",
            "2/2 [==============================] - 0s 16ms/step - loss: 6.8230 - mse: 67.8391\n",
            "Epoch 167/500\n",
            "2/2 [==============================] - 0s 16ms/step - loss: 6.8132 - mse: 67.4877\n",
            "Epoch 168/500\n",
            "2/2 [==============================] - 0s 16ms/step - loss: 6.8042 - mse: 67.2763\n",
            "Epoch 169/500\n",
            "2/2 [==============================] - 0s 16ms/step - loss: 6.7948 - mse: 67.0870\n",
            "Epoch 170/500\n",
            "2/2 [==============================] - 0s 11ms/step - loss: 6.7828 - mse: 67.0161\n",
            "Epoch 171/500\n",
            "2/2 [==============================] - 0s 10ms/step - loss: 6.7722 - mse: 66.9552\n",
            "Epoch 172/500\n",
            "2/2 [==============================] - 0s 24ms/step - loss: 6.7629 - mse: 66.7840\n",
            "Epoch 173/500\n",
            "2/2 [==============================] - 0s 11ms/step - loss: 6.7530 - mse: 66.5410\n",
            "Epoch 174/500\n",
            "2/2 [==============================] - 0s 19ms/step - loss: 6.7480 - mse: 66.2699\n",
            "Epoch 175/500\n",
            "2/2 [==============================] - 0s 27ms/step - loss: 6.7321 - mse: 66.1425\n",
            "Epoch 176/500\n",
            "2/2 [==============================] - 0s 19ms/step - loss: 6.7235 - mse: 66.2744\n",
            "Epoch 177/500\n",
            "2/2 [==============================] - 0s 18ms/step - loss: 6.7258 - mse: 66.6111\n",
            "Epoch 178/500\n",
            "2/2 [==============================] - 0s 39ms/step - loss: 6.7189 - mse: 66.7946\n",
            "Epoch 179/500\n",
            "2/2 [==============================] - 0s 13ms/step - loss: 6.7117 - mse: 66.7121\n",
            "Epoch 180/500\n",
            "2/2 [==============================] - 0s 14ms/step - loss: 6.6998 - mse: 66.4733\n",
            "Epoch 181/500\n",
            "2/2 [==============================] - 0s 20ms/step - loss: 6.6868 - mse: 65.9852\n",
            "Epoch 182/500\n",
            "2/2 [==============================] - 0s 11ms/step - loss: 6.6688 - mse: 65.3284\n",
            "Epoch 183/500\n",
            "2/2 [==============================] - 0s 18ms/step - loss: 6.6596 - mse: 64.8768\n",
            "Epoch 184/500\n",
            "2/2 [==============================] - 0s 15ms/step - loss: 6.6528 - mse: 64.3824\n",
            "Epoch 185/500\n",
            "2/2 [==============================] - 0s 21ms/step - loss: 6.6466 - mse: 64.0675\n",
            "Epoch 186/500\n",
            "2/2 [==============================] - 0s 20ms/step - loss: 6.6392 - mse: 63.7348\n",
            "Epoch 187/500\n",
            "2/2 [==============================] - 0s 22ms/step - loss: 6.6344 - mse: 63.4186\n",
            "Epoch 188/500\n",
            "2/2 [==============================] - 0s 19ms/step - loss: 6.6321 - mse: 63.0332\n",
            "Epoch 189/500\n",
            "2/2 [==============================] - 0s 15ms/step - loss: 6.6285 - mse: 62.7861\n",
            "Epoch 190/500\n",
            "2/2 [==============================] - 0s 22ms/step - loss: 6.6185 - mse: 62.6086\n",
            "Epoch 191/500\n",
            "2/2 [==============================] - 0s 14ms/step - loss: 6.6011 - mse: 62.5754\n",
            "Epoch 192/500\n",
            "2/2 [==============================] - 0s 9ms/step - loss: 6.5815 - mse: 62.6495\n",
            "Epoch 193/500\n",
            "2/2 [==============================] - 0s 7ms/step - loss: 6.5715 - mse: 62.9146\n",
            "Epoch 194/500\n",
            "2/2 [==============================] - 0s 15ms/step - loss: 6.5574 - mse: 63.1235\n",
            "Epoch 195/500\n",
            "2/2 [==============================] - 0s 14ms/step - loss: 6.5480 - mse: 63.3126\n",
            "Epoch 196/500\n",
            "2/2 [==============================] - 0s 19ms/step - loss: 6.5555 - mse: 63.7090\n",
            "Epoch 197/500\n",
            "2/2 [==============================] - 0s 17ms/step - loss: 6.5544 - mse: 63.8516\n",
            "Epoch 198/500\n",
            "2/2 [==============================] - 0s 19ms/step - loss: 6.5485 - mse: 63.8061\n",
            "Epoch 199/500\n",
            "2/2 [==============================] - 0s 16ms/step - loss: 6.5389 - mse: 63.5984\n",
            "Epoch 200/500\n",
            "2/2 [==============================] - 0s 15ms/step - loss: 6.5296 - mse: 63.3427\n",
            "Epoch 201/500\n",
            "2/2 [==============================] - 0s 24ms/step - loss: 6.5172 - mse: 63.1115\n",
            "Epoch 202/500\n",
            "2/2 [==============================] - 0s 11ms/step - loss: 6.5034 - mse: 62.8244\n",
            "Epoch 203/500\n",
            "2/2 [==============================] - 0s 11ms/step - loss: 6.4824 - mse: 62.2465\n",
            "Epoch 204/500\n",
            "2/2 [==============================] - 0s 14ms/step - loss: 6.4615 - mse: 61.5579\n",
            "Epoch 205/500\n",
            "2/2 [==============================] - 0s 17ms/step - loss: 6.4585 - mse: 60.6894\n",
            "Epoch 206/500\n",
            "2/2 [==============================] - 0s 22ms/step - loss: 6.4575 - mse: 60.0593\n",
            "Epoch 207/500\n",
            "2/2 [==============================] - 0s 18ms/step - loss: 6.4597 - mse: 59.7266\n",
            "Epoch 208/500\n",
            "2/2 [==============================] - 0s 10ms/step - loss: 6.4505 - mse: 59.7420\n",
            "Epoch 209/500\n",
            "2/2 [==============================] - 0s 12ms/step - loss: 6.4287 - mse: 59.6609\n",
            "Epoch 210/500\n",
            "2/2 [==============================] - 0s 12ms/step - loss: 6.4176 - mse: 59.5734\n",
            "Epoch 211/500\n",
            "2/2 [==============================] - 0s 16ms/step - loss: 6.4107 - mse: 59.6050\n",
            "Epoch 212/500\n",
            "2/2 [==============================] - 0s 15ms/step - loss: 6.3950 - mse: 59.4490\n",
            "Epoch 213/500\n",
            "2/2 [==============================] - 0s 21ms/step - loss: 6.3873 - mse: 59.2393\n",
            "Epoch 214/500\n",
            "2/2 [==============================] - 0s 19ms/step - loss: 6.3772 - mse: 59.0939\n",
            "Epoch 215/500\n",
            "2/2 [==============================] - 0s 17ms/step - loss: 6.3647 - mse: 59.0401\n",
            "Epoch 216/500\n",
            "2/2 [==============================] - 0s 19ms/step - loss: 6.3586 - mse: 59.0907\n",
            "Epoch 217/500\n",
            "2/2 [==============================] - 0s 12ms/step - loss: 6.3490 - mse: 59.1187\n",
            "Epoch 218/500\n",
            "2/2 [==============================] - 0s 15ms/step - loss: 6.3400 - mse: 59.0072\n",
            "Epoch 219/500\n",
            "2/2 [==============================] - 0s 15ms/step - loss: 6.3315 - mse: 58.8648\n",
            "Epoch 220/500\n",
            "2/2 [==============================] - 0s 15ms/step - loss: 6.3234 - mse: 58.8016\n",
            "Epoch 221/500\n",
            "2/2 [==============================] - 0s 17ms/step - loss: 6.3140 - mse: 58.8125\n",
            "Epoch 222/500\n",
            "2/2 [==============================] - 0s 17ms/step - loss: 6.3061 - mse: 58.7511\n",
            "Epoch 223/500\n",
            "2/2 [==============================] - 0s 15ms/step - loss: 6.2993 - mse: 58.6610\n",
            "Epoch 224/500\n",
            "2/2 [==============================] - 0s 13ms/step - loss: 6.2897 - mse: 58.4725\n",
            "Epoch 225/500\n",
            "2/2 [==============================] - 0s 14ms/step - loss: 6.2802 - mse: 58.1565\n",
            "Epoch 226/500\n",
            "2/2 [==============================] - 0s 10ms/step - loss: 6.2680 - mse: 57.6886\n",
            "Epoch 227/500\n",
            "2/2 [==============================] - 0s 12ms/step - loss: 6.2565 - mse: 57.3890\n",
            "Epoch 228/500\n",
            "2/2 [==============================] - 0s 13ms/step - loss: 6.2456 - mse: 57.0940\n",
            "Epoch 229/500\n",
            "2/2 [==============================] - 0s 12ms/step - loss: 6.2359 - mse: 56.7481\n",
            "Epoch 230/500\n",
            "2/2 [==============================] - 0s 19ms/step - loss: 6.2336 - mse: 56.4200\n",
            "Epoch 231/500\n",
            "2/2 [==============================] - 0s 20ms/step - loss: 6.2231 - mse: 56.1631\n",
            "Epoch 232/500\n",
            "2/2 [==============================] - 0s 13ms/step - loss: 6.2136 - mse: 56.0888\n",
            "Epoch 233/500\n",
            "2/2 [==============================] - 0s 9ms/step - loss: 6.2018 - mse: 55.9711\n",
            "Epoch 234/500\n",
            "2/2 [==============================] - 0s 15ms/step - loss: 6.1911 - mse: 55.8584\n",
            "Epoch 235/500\n",
            "2/2 [==============================] - 0s 13ms/step - loss: 6.1812 - mse: 55.8867\n",
            "Epoch 236/500\n",
            "2/2 [==============================] - 0s 13ms/step - loss: 6.1727 - mse: 55.9161\n",
            "Epoch 237/500\n",
            "2/2 [==============================] - 0s 11ms/step - loss: 6.1676 - mse: 56.1139\n",
            "Epoch 238/500\n",
            "2/2 [==============================] - 0s 8ms/step - loss: 6.1648 - mse: 56.2692\n",
            "Epoch 239/500\n",
            "2/2 [==============================] - 0s 12ms/step - loss: 6.1665 - mse: 56.3780\n",
            "Epoch 240/500\n",
            "2/2 [==============================] - 0s 12ms/step - loss: 6.1583 - mse: 56.2770\n",
            "Epoch 241/500\n",
            "2/2 [==============================] - 0s 12ms/step - loss: 6.1467 - mse: 56.0556\n",
            "Epoch 242/500\n",
            "2/2 [==============================] - 0s 8ms/step - loss: 6.1324 - mse: 55.6141\n",
            "Epoch 243/500\n",
            "2/2 [==============================] - 0s 13ms/step - loss: 6.1125 - mse: 55.0178\n",
            "Epoch 244/500\n",
            "2/2 [==============================] - 0s 14ms/step - loss: 6.1067 - mse: 54.5832\n",
            "Epoch 245/500\n",
            "2/2 [==============================] - 0s 11ms/step - loss: 6.0902 - mse: 54.2300\n",
            "Epoch 246/500\n",
            "2/2 [==============================] - 0s 13ms/step - loss: 6.0847 - mse: 53.9776\n",
            "Epoch 247/500\n",
            "2/2 [==============================] - 0s 11ms/step - loss: 6.0703 - mse: 53.7842\n",
            "Epoch 248/500\n",
            "2/2 [==============================] - 0s 17ms/step - loss: 6.0601 - mse: 53.7756\n",
            "Epoch 249/500\n",
            "2/2 [==============================] - 0s 13ms/step - loss: 6.0501 - mse: 53.9252\n",
            "Epoch 250/500\n",
            "2/2 [==============================] - 0s 13ms/step - loss: 6.0522 - mse: 54.2070\n",
            "Epoch 251/500\n",
            "2/2 [==============================] - 0s 14ms/step - loss: 6.0712 - mse: 54.6919\n",
            "Epoch 252/500\n",
            "2/2 [==============================] - 0s 12ms/step - loss: 6.0609 - mse: 54.7396\n",
            "Epoch 253/500\n",
            "2/2 [==============================] - 0s 16ms/step - loss: 6.0447 - mse: 54.4340\n",
            "Epoch 254/500\n",
            "2/2 [==============================] - 0s 25ms/step - loss: 6.0345 - mse: 53.9891\n",
            "Epoch 255/500\n",
            "2/2 [==============================] - 0s 13ms/step - loss: 6.0116 - mse: 53.3617\n",
            "Epoch 256/500\n",
            "2/2 [==============================] - 0s 13ms/step - loss: 5.9941 - mse: 52.9484\n",
            "Epoch 257/500\n",
            "2/2 [==============================] - 0s 14ms/step - loss: 5.9833 - mse: 52.6863\n",
            "Epoch 258/500\n",
            "2/2 [==============================] - 0s 16ms/step - loss: 5.9728 - mse: 52.3936\n",
            "Epoch 259/500\n",
            "2/2 [==============================] - 0s 12ms/step - loss: 5.9624 - mse: 51.9917\n",
            "Epoch 260/500\n",
            "2/2 [==============================] - 0s 9ms/step - loss: 5.9568 - mse: 51.6532\n",
            "Epoch 261/500\n",
            "2/2 [==============================] - 0s 11ms/step - loss: 5.9476 - mse: 51.3488\n",
            "Epoch 262/500\n",
            "2/2 [==============================] - 0s 9ms/step - loss: 5.9385 - mse: 51.1634\n",
            "Epoch 263/500\n",
            "2/2 [==============================] - 0s 14ms/step - loss: 5.9306 - mse: 50.9858\n",
            "Epoch 264/500\n",
            "2/2 [==============================] - 0s 10ms/step - loss: 5.9197 - mse: 50.9644\n",
            "Epoch 265/500\n",
            "2/2 [==============================] - 0s 15ms/step - loss: 5.9059 - mse: 50.9527\n",
            "Epoch 266/500\n",
            "2/2 [==============================] - 0s 18ms/step - loss: 5.8981 - mse: 50.8852\n",
            "Epoch 267/500\n",
            "2/2 [==============================] - 0s 18ms/step - loss: 5.8882 - mse: 50.7574\n",
            "Epoch 268/500\n",
            "2/2 [==============================] - 0s 12ms/step - loss: 5.8788 - mse: 50.5795\n",
            "Epoch 269/500\n",
            "2/2 [==============================] - 0s 9ms/step - loss: 5.8686 - mse: 50.4783\n",
            "Epoch 270/500\n",
            "2/2 [==============================] - 0s 12ms/step - loss: 5.8632 - mse: 50.4812\n",
            "Epoch 271/500\n",
            "2/2 [==============================] - 0s 14ms/step - loss: 5.8516 - mse: 50.3533\n",
            "Epoch 272/500\n",
            "2/2 [==============================] - 0s 16ms/step - loss: 5.8394 - mse: 49.9610\n",
            "Epoch 273/500\n",
            "2/2 [==============================] - 0s 18ms/step - loss: 5.8285 - mse: 49.5150\n",
            "Epoch 274/500\n",
            "2/2 [==============================] - 0s 8ms/step - loss: 5.8351 - mse: 49.1677\n",
            "Epoch 275/500\n",
            "2/2 [==============================] - 0s 12ms/step - loss: 5.8191 - mse: 48.8485\n",
            "Epoch 276/500\n",
            "2/2 [==============================] - 0s 13ms/step - loss: 5.8105 - mse: 48.9119\n",
            "Epoch 277/500\n",
            "2/2 [==============================] - 0s 11ms/step - loss: 5.7929 - mse: 48.9240\n",
            "Epoch 278/500\n",
            "2/2 [==============================] - 0s 12ms/step - loss: 5.7836 - mse: 48.9088\n",
            "Epoch 279/500\n",
            "2/2 [==============================] - 0s 12ms/step - loss: 5.7750 - mse: 48.8940\n",
            "Epoch 280/500\n",
            "2/2 [==============================] - 0s 12ms/step - loss: 5.7681 - mse: 48.9149\n",
            "Epoch 281/500\n",
            "2/2 [==============================] - 0s 12ms/step - loss: 5.7597 - mse: 48.9401\n",
            "Epoch 282/500\n",
            "2/2 [==============================] - 0s 13ms/step - loss: 5.7524 - mse: 48.8954\n",
            "Epoch 283/500\n",
            "2/2 [==============================] - 0s 12ms/step - loss: 5.7427 - mse: 48.7194\n",
            "Epoch 284/500\n",
            "2/2 [==============================] - 0s 12ms/step - loss: 5.7325 - mse: 48.5390\n",
            "Epoch 285/500\n",
            "2/2 [==============================] - 0s 11ms/step - loss: 5.7270 - mse: 48.2986\n",
            "Epoch 286/500\n",
            "2/2 [==============================] - 0s 11ms/step - loss: 5.7125 - mse: 48.0698\n",
            "Epoch 287/500\n",
            "2/2 [==============================] - 0s 7ms/step - loss: 5.7047 - mse: 48.0696\n",
            "Epoch 288/500\n",
            "2/2 [==============================] - 0s 11ms/step - loss: 5.7004 - mse: 48.0601\n",
            "Epoch 289/500\n",
            "2/2 [==============================] - 0s 7ms/step - loss: 5.6952 - mse: 48.0411\n",
            "Epoch 290/500\n",
            "2/2 [==============================] - 0s 7ms/step - loss: 5.6906 - mse: 47.9851\n",
            "Epoch 291/500\n",
            "2/2 [==============================] - 0s 7ms/step - loss: 5.6802 - mse: 47.8823\n",
            "Epoch 292/500\n",
            "2/2 [==============================] - 0s 7ms/step - loss: 5.6766 - mse: 47.8760\n",
            "Epoch 293/500\n",
            "2/2 [==============================] - 0s 7ms/step - loss: 5.6698 - mse: 47.8247\n",
            "Epoch 294/500\n",
            "2/2 [==============================] - 0s 7ms/step - loss: 5.6612 - mse: 47.6163\n",
            "Epoch 295/500\n",
            "2/2 [==============================] - 0s 14ms/step - loss: 5.6494 - mse: 47.4006\n",
            "Epoch 296/500\n",
            "2/2 [==============================] - 0s 15ms/step - loss: 5.6399 - mse: 47.2983\n",
            "Epoch 297/500\n",
            "2/2 [==============================] - 0s 12ms/step - loss: 5.6348 - mse: 47.2628\n",
            "Epoch 298/500\n",
            "2/2 [==============================] - 0s 12ms/step - loss: 5.6260 - mse: 47.0873\n",
            "Epoch 299/500\n",
            "2/2 [==============================] - 0s 11ms/step - loss: 5.6136 - mse: 46.8114\n",
            "Epoch 300/500\n",
            "2/2 [==============================] - 0s 17ms/step - loss: 5.6018 - mse: 46.5967\n",
            "Epoch 301/500\n",
            "2/2 [==============================] - 0s 25ms/step - loss: 5.5942 - mse: 46.5189\n",
            "Epoch 302/500\n",
            "2/2 [==============================] - 0s 27ms/step - loss: 5.5847 - mse: 46.3419\n",
            "Epoch 303/500\n",
            "2/2 [==============================] - 0s 13ms/step - loss: 5.5687 - mse: 45.9812\n",
            "Epoch 304/500\n",
            "2/2 [==============================] - 0s 35ms/step - loss: 5.5491 - mse: 45.5649\n",
            "Epoch 305/500\n",
            "2/2 [==============================] - 0s 15ms/step - loss: 5.5305 - mse: 45.0595\n",
            "Epoch 306/500\n",
            "2/2 [==============================] - 0s 11ms/step - loss: 5.5284 - mse: 44.3777\n",
            "Epoch 307/500\n",
            "2/2 [==============================] - 0s 16ms/step - loss: 5.5224 - mse: 43.8498\n",
            "Epoch 308/500\n",
            "2/2 [==============================] - 0s 13ms/step - loss: 5.5189 - mse: 43.6232\n",
            "Epoch 309/500\n",
            "2/2 [==============================] - 0s 17ms/step - loss: 5.5042 - mse: 43.5487\n",
            "Epoch 310/500\n",
            "2/2 [==============================] - 0s 12ms/step - loss: 5.4920 - mse: 43.5677\n",
            "Epoch 311/500\n",
            "2/2 [==============================] - 0s 12ms/step - loss: 5.4760 - mse: 43.5703\n",
            "Epoch 312/500\n",
            "2/2 [==============================] - 0s 13ms/step - loss: 5.4626 - mse: 43.5826\n",
            "Epoch 313/500\n",
            "2/2 [==============================] - 0s 15ms/step - loss: 5.4568 - mse: 43.6611\n",
            "Epoch 314/500\n",
            "2/2 [==============================] - 0s 36ms/step - loss: 5.4486 - mse: 43.6486\n",
            "Epoch 315/500\n",
            "2/2 [==============================] - 0s 18ms/step - loss: 5.4375 - mse: 43.4921\n",
            "Epoch 316/500\n",
            "2/2 [==============================] - 0s 19ms/step - loss: 5.4281 - mse: 43.2513\n",
            "Epoch 317/500\n",
            "2/2 [==============================] - 0s 19ms/step - loss: 5.4166 - mse: 42.9822\n",
            "Epoch 318/500\n",
            "2/2 [==============================] - 0s 18ms/step - loss: 5.4125 - mse: 42.6621\n",
            "Epoch 319/500\n",
            "2/2 [==============================] - 0s 20ms/step - loss: 5.3998 - mse: 42.2813\n",
            "Epoch 320/500\n",
            "2/2 [==============================] - 0s 27ms/step - loss: 5.3911 - mse: 42.0912\n",
            "Epoch 321/500\n",
            "2/2 [==============================] - 0s 22ms/step - loss: 5.3819 - mse: 41.8982\n",
            "Epoch 322/500\n",
            "2/2 [==============================] - 0s 22ms/step - loss: 5.3735 - mse: 41.7290\n",
            "Epoch 323/500\n",
            "2/2 [==============================] - 0s 22ms/step - loss: 5.3612 - mse: 41.6612\n",
            "Epoch 324/500\n",
            "2/2 [==============================] - 0s 15ms/step - loss: 5.3438 - mse: 41.6771\n",
            "Epoch 325/500\n",
            "2/2 [==============================] - 0s 26ms/step - loss: 5.3418 - mse: 41.9220\n",
            "Epoch 326/500\n",
            "2/2 [==============================] - 0s 22ms/step - loss: 5.3334 - mse: 42.0767\n",
            "Epoch 327/500\n",
            "2/2 [==============================] - 0s 17ms/step - loss: 5.3325 - mse: 42.1327\n",
            "Epoch 328/500\n",
            "2/2 [==============================] - 0s 17ms/step - loss: 5.3215 - mse: 41.9925\n",
            "Epoch 329/500\n",
            "2/2 [==============================] - 0s 16ms/step - loss: 5.3071 - mse: 41.6052\n",
            "Epoch 330/500\n",
            "2/2 [==============================] - 0s 24ms/step - loss: 5.2879 - mse: 41.1856\n",
            "Epoch 331/500\n",
            "2/2 [==============================] - 0s 17ms/step - loss: 5.2810 - mse: 40.8002\n",
            "Epoch 332/500\n",
            "2/2 [==============================] - 0s 16ms/step - loss: 5.2686 - mse: 40.3606\n",
            "Epoch 333/500\n",
            "2/2 [==============================] - 0s 9ms/step - loss: 5.2561 - mse: 40.2281\n",
            "Epoch 334/500\n",
            "2/2 [==============================] - 0s 12ms/step - loss: 5.2491 - mse: 40.2628\n",
            "Epoch 335/500\n",
            "2/2 [==============================] - 0s 10ms/step - loss: 5.2379 - mse: 40.2171\n",
            "Epoch 336/500\n",
            "2/2 [==============================] - 0s 15ms/step - loss: 5.2262 - mse: 40.0089\n",
            "Epoch 337/500\n",
            "2/2 [==============================] - 0s 17ms/step - loss: 5.2135 - mse: 39.6613\n",
            "Epoch 338/500\n",
            "2/2 [==============================] - 0s 16ms/step - loss: 5.2069 - mse: 39.3844\n",
            "Epoch 339/500\n",
            "2/2 [==============================] - 0s 14ms/step - loss: 5.2022 - mse: 39.0686\n",
            "Epoch 340/500\n",
            "2/2 [==============================] - 0s 21ms/step - loss: 5.1945 - mse: 38.8117\n",
            "Epoch 341/500\n",
            "2/2 [==============================] - 0s 16ms/step - loss: 5.1859 - mse: 38.6124\n",
            "Epoch 342/500\n",
            "2/2 [==============================] - 0s 10ms/step - loss: 5.1741 - mse: 38.5512\n",
            "Epoch 343/500\n",
            "2/2 [==============================] - 0s 13ms/step - loss: 5.1597 - mse: 38.4968\n",
            "Epoch 344/500\n",
            "2/2 [==============================] - 0s 14ms/step - loss: 5.1465 - mse: 38.4171\n",
            "Epoch 345/500\n",
            "2/2 [==============================] - 0s 14ms/step - loss: 5.1302 - mse: 38.4036\n",
            "Epoch 346/500\n",
            "2/2 [==============================] - 0s 12ms/step - loss: 5.1284 - mse: 38.5673\n",
            "Epoch 347/500\n",
            "2/2 [==============================] - 0s 14ms/step - loss: 5.1185 - mse: 38.6383\n",
            "Epoch 348/500\n",
            "2/2 [==============================] - 0s 17ms/step - loss: 5.1074 - mse: 38.4740\n",
            "Epoch 349/500\n",
            "2/2 [==============================] - 0s 15ms/step - loss: 5.0946 - mse: 38.2502\n",
            "Epoch 350/500\n",
            "2/2 [==============================] - 0s 13ms/step - loss: 5.0871 - mse: 38.1117\n",
            "Epoch 351/500\n",
            "2/2 [==============================] - 0s 20ms/step - loss: 5.0753 - mse: 37.8720\n",
            "Epoch 352/500\n",
            "2/2 [==============================] - 0s 8ms/step - loss: 5.0591 - mse: 37.4374\n",
            "Epoch 353/500\n",
            "2/2 [==============================] - 0s 21ms/step - loss: 5.0566 - mse: 37.0176\n",
            "Epoch 354/500\n",
            "2/2 [==============================] - 0s 15ms/step - loss: 5.0484 - mse: 36.6867\n",
            "Epoch 355/500\n",
            "2/2 [==============================] - 0s 12ms/step - loss: 5.0435 - mse: 36.4449\n",
            "Epoch 356/500\n",
            "2/2 [==============================] - 0s 7ms/step - loss: 5.0339 - mse: 36.2925\n",
            "Epoch 357/500\n",
            "2/2 [==============================] - 0s 8ms/step - loss: 5.0179 - mse: 36.2793\n",
            "Epoch 358/500\n",
            "2/2 [==============================] - 0s 9ms/step - loss: 5.0020 - mse: 36.3656\n",
            "Epoch 359/500\n",
            "2/2 [==============================] - 0s 8ms/step - loss: 4.9903 - mse: 36.4508\n",
            "Epoch 360/500\n",
            "2/2 [==============================] - 0s 8ms/step - loss: 4.9835 - mse: 36.5082\n",
            "Epoch 361/500\n",
            "2/2 [==============================] - 0s 8ms/step - loss: 4.9735 - mse: 36.4566\n",
            "Epoch 362/500\n",
            "2/2 [==============================] - 0s 16ms/step - loss: 4.9617 - mse: 36.2416\n",
            "Epoch 363/500\n",
            "2/2 [==============================] - 0s 8ms/step - loss: 4.9511 - mse: 35.9199\n",
            "Epoch 364/500\n",
            "2/2 [==============================] - 0s 9ms/step - loss: 4.9376 - mse: 35.5831\n",
            "Epoch 365/500\n",
            "2/2 [==============================] - 0s 12ms/step - loss: 4.9308 - mse: 35.3004\n",
            "Epoch 366/500\n",
            "2/2 [==============================] - 0s 14ms/step - loss: 4.9240 - mse: 35.0869\n",
            "Epoch 367/500\n",
            "2/2 [==============================] - 0s 25ms/step - loss: 4.9174 - mse: 34.8526\n",
            "Epoch 368/500\n",
            "2/2 [==============================] - 0s 19ms/step - loss: 4.9087 - mse: 34.6202\n",
            "Epoch 369/500\n",
            "2/2 [==============================] - 0s 20ms/step - loss: 4.9005 - mse: 34.4393\n",
            "Epoch 370/500\n",
            "2/2 [==============================] - 0s 19ms/step - loss: 4.8873 - mse: 34.3769\n",
            "Epoch 371/500\n",
            "2/2 [==============================] - 0s 22ms/step - loss: 4.8750 - mse: 34.3877\n",
            "Epoch 372/500\n",
            "2/2 [==============================] - 0s 19ms/step - loss: 4.8593 - mse: 34.3260\n",
            "Epoch 373/500\n",
            "2/2 [==============================] - 0s 17ms/step - loss: 4.8484 - mse: 34.1835\n",
            "Epoch 374/500\n",
            "2/2 [==============================] - 0s 13ms/step - loss: 4.8340 - mse: 34.1279\n",
            "Epoch 375/500\n",
            "2/2 [==============================] - 0s 16ms/step - loss: 4.8250 - mse: 34.2001\n",
            "Epoch 376/500\n",
            "2/2 [==============================] - 0s 8ms/step - loss: 4.8180 - mse: 34.3106\n",
            "Epoch 377/500\n",
            "2/2 [==============================] - 0s 14ms/step - loss: 4.8162 - mse: 34.3622\n",
            "Epoch 378/500\n",
            "2/2 [==============================] - 0s 9ms/step - loss: 4.8076 - mse: 34.2885\n",
            "Epoch 379/500\n",
            "2/2 [==============================] - 0s 9ms/step - loss: 4.7914 - mse: 34.0333\n",
            "Epoch 380/500\n",
            "2/2 [==============================] - 0s 8ms/step - loss: 4.7660 - mse: 33.5350\n",
            "Epoch 381/500\n",
            "2/2 [==============================] - 0s 8ms/step - loss: 4.7578 - mse: 32.8601\n",
            "Epoch 382/500\n",
            "2/2 [==============================] - 0s 7ms/step - loss: 4.7854 - mse: 32.3627\n",
            "Epoch 383/500\n",
            "2/2 [==============================] - 0s 12ms/step - loss: 4.7871 - mse: 31.9910\n",
            "Epoch 384/500\n",
            "2/2 [==============================] - 0s 16ms/step - loss: 4.7692 - mse: 31.9321\n",
            "Epoch 385/500\n",
            "2/2 [==============================] - 0s 11ms/step - loss: 4.7363 - mse: 31.9289\n",
            "Epoch 386/500\n",
            "2/2 [==============================] - 0s 8ms/step - loss: 4.7066 - mse: 32.0434\n",
            "Epoch 387/500\n",
            "2/2 [==============================] - 0s 14ms/step - loss: 4.6938 - mse: 32.3360\n",
            "Epoch 388/500\n",
            "2/2 [==============================] - 0s 21ms/step - loss: 4.6969 - mse: 32.7033\n",
            "Epoch 389/500\n",
            "2/2 [==============================] - 0s 16ms/step - loss: 4.6996 - mse: 32.9107\n",
            "Epoch 390/500\n",
            "2/2 [==============================] - 0s 13ms/step - loss: 4.7003 - mse: 33.0701\n",
            "Epoch 391/500\n",
            "2/2 [==============================] - 0s 13ms/step - loss: 4.7246 - mse: 33.4280\n",
            "Epoch 392/500\n",
            "2/2 [==============================] - 0s 20ms/step - loss: 4.7256 - mse: 33.4534\n",
            "Epoch 393/500\n",
            "2/2 [==============================] - 0s 19ms/step - loss: 4.6918 - mse: 33.0202\n",
            "Epoch 394/500\n",
            "2/2 [==============================] - 0s 24ms/step - loss: 4.6573 - mse: 32.1916\n",
            "Epoch 395/500\n",
            "2/2 [==============================] - 0s 11ms/step - loss: 4.6049 - mse: 31.3654\n",
            "Epoch 396/500\n",
            "2/2 [==============================] - 0s 13ms/step - loss: 4.5897 - mse: 30.6437\n",
            "Epoch 397/500\n",
            "2/2 [==============================] - 0s 16ms/step - loss: 4.6125 - mse: 30.1503\n",
            "Epoch 398/500\n",
            "2/2 [==============================] - 0s 21ms/step - loss: 4.6360 - mse: 29.7251\n",
            "Epoch 399/500\n",
            "2/2 [==============================] - 0s 29ms/step - loss: 4.6253 - mse: 29.5625\n",
            "Epoch 400/500\n",
            "2/2 [==============================] - 0s 17ms/step - loss: 4.5763 - mse: 29.6263\n",
            "Epoch 401/500\n",
            "2/2 [==============================] - 0s 35ms/step - loss: 4.5278 - mse: 29.8577\n",
            "Epoch 402/500\n",
            "2/2 [==============================] - 0s 29ms/step - loss: 4.5461 - mse: 30.5470\n",
            "Epoch 403/500\n",
            "2/2 [==============================] - 0s 17ms/step - loss: 4.5513 - mse: 30.9050\n",
            "Epoch 404/500\n",
            "2/2 [==============================] - 0s 16ms/step - loss: 4.5670 - mse: 31.1301\n",
            "Epoch 405/500\n",
            "2/2 [==============================] - 0s 11ms/step - loss: 4.5457 - mse: 30.9025\n",
            "Epoch 406/500\n",
            "2/2 [==============================] - 0s 32ms/step - loss: 4.5173 - mse: 30.2595\n",
            "Epoch 407/500\n",
            "2/2 [==============================] - 0s 15ms/step - loss: 4.4792 - mse: 29.6715\n",
            "Epoch 408/500\n",
            "2/2 [==============================] - 0s 26ms/step - loss: 4.4786 - mse: 29.2592\n",
            "Epoch 409/500\n",
            "2/2 [==============================] - 0s 19ms/step - loss: 4.4629 - mse: 28.7987\n",
            "Epoch 410/500\n",
            "2/2 [==============================] - 0s 19ms/step - loss: 4.4445 - mse: 28.6630\n",
            "Epoch 411/500\n",
            "2/2 [==============================] - 0s 20ms/step - loss: 4.4326 - mse: 28.8354\n",
            "Epoch 412/500\n",
            "2/2 [==============================] - 0s 21ms/step - loss: 4.4335 - mse: 29.1305\n",
            "Epoch 413/500\n",
            "2/2 [==============================] - 0s 18ms/step - loss: 4.4391 - mse: 29.3964\n",
            "Epoch 414/500\n",
            "2/2 [==============================] - 0s 20ms/step - loss: 4.4417 - mse: 29.4617\n",
            "Epoch 415/500\n",
            "2/2 [==============================] - 0s 27ms/step - loss: 4.4330 - mse: 29.3451\n",
            "Epoch 416/500\n",
            "2/2 [==============================] - 0s 17ms/step - loss: 4.3941 - mse: 28.7743\n",
            "Epoch 417/500\n",
            "2/2 [==============================] - 0s 22ms/step - loss: 4.3727 - mse: 28.0767\n",
            "Epoch 418/500\n",
            "2/2 [==============================] - 0s 23ms/step - loss: 4.3728 - mse: 27.3592\n",
            "Epoch 419/500\n",
            "2/2 [==============================] - 0s 10ms/step - loss: 4.3782 - mse: 26.9939\n",
            "Epoch 420/500\n",
            "2/2 [==============================] - 0s 7ms/step - loss: 4.3722 - mse: 26.8371\n",
            "Epoch 421/500\n",
            "2/2 [==============================] - 0s 16ms/step - loss: 4.3546 - mse: 26.7624\n",
            "Epoch 422/500\n",
            "2/2 [==============================] - 0s 22ms/step - loss: 4.3371 - mse: 26.6458\n",
            "Epoch 423/500\n",
            "2/2 [==============================] - 0s 16ms/step - loss: 4.3214 - mse: 26.5368\n",
            "Epoch 424/500\n",
            "2/2 [==============================] - 0s 17ms/step - loss: 4.3054 - mse: 26.4763\n",
            "Epoch 425/500\n",
            "2/2 [==============================] - 0s 8ms/step - loss: 4.2827 - mse: 26.4648\n",
            "Epoch 426/500\n",
            "2/2 [==============================] - 0s 8ms/step - loss: 4.2744 - mse: 26.5884\n",
            "Epoch 427/500\n",
            "2/2 [==============================] - 0s 9ms/step - loss: 4.2560 - mse: 26.6032\n",
            "Epoch 428/500\n",
            "2/2 [==============================] - 0s 9ms/step - loss: 4.2536 - mse: 26.6204\n",
            "Epoch 429/500\n",
            "2/2 [==============================] - 0s 7ms/step - loss: 4.2489 - mse: 26.5527\n",
            "Epoch 430/500\n",
            "2/2 [==============================] - 0s 10ms/step - loss: 4.2290 - mse: 26.3779\n",
            "Epoch 431/500\n",
            "2/2 [==============================] - 0s 8ms/step - loss: 4.2137 - mse: 26.2773\n",
            "Epoch 432/500\n",
            "2/2 [==============================] - 0s 9ms/step - loss: 4.1969 - mse: 25.8333\n",
            "Epoch 433/500\n",
            "2/2 [==============================] - 0s 8ms/step - loss: 4.1918 - mse: 25.3966\n",
            "Epoch 434/500\n",
            "2/2 [==============================] - 0s 8ms/step - loss: 4.1963 - mse: 25.0104\n",
            "Epoch 435/500\n",
            "2/2 [==============================] - 0s 8ms/step - loss: 4.1866 - mse: 24.8352\n",
            "Epoch 436/500\n",
            "2/2 [==============================] - 0s 11ms/step - loss: 4.1614 - mse: 24.8035\n",
            "Epoch 437/500\n",
            "2/2 [==============================] - 0s 16ms/step - loss: 4.1363 - mse: 24.9708\n",
            "Epoch 438/500\n",
            "2/2 [==============================] - 0s 15ms/step - loss: 4.1398 - mse: 25.3112\n",
            "Epoch 439/500\n",
            "2/2 [==============================] - 0s 13ms/step - loss: 4.1426 - mse: 25.5739\n",
            "Epoch 440/500\n",
            "2/2 [==============================] - 0s 11ms/step - loss: 4.1417 - mse: 25.5961\n",
            "Epoch 441/500\n",
            "2/2 [==============================] - 0s 10ms/step - loss: 4.1296 - mse: 25.4485\n",
            "Epoch 442/500\n",
            "2/2 [==============================] - 0s 11ms/step - loss: 4.1111 - mse: 25.1840\n",
            "Epoch 443/500\n",
            "2/2 [==============================] - 0s 16ms/step - loss: 4.0859 - mse: 24.7954\n",
            "Epoch 444/500\n",
            "2/2 [==============================] - 0s 10ms/step - loss: 4.0663 - mse: 24.2778\n",
            "Epoch 445/500\n",
            "2/2 [==============================] - 0s 14ms/step - loss: 4.0617 - mse: 23.8637\n",
            "Epoch 446/500\n",
            "2/2 [==============================] - 0s 15ms/step - loss: 4.0461 - mse: 23.5863\n",
            "Epoch 447/500\n",
            "2/2 [==============================] - 0s 9ms/step - loss: 4.0331 - mse: 23.4771\n",
            "Epoch 448/500\n",
            "2/2 [==============================] - 0s 26ms/step - loss: 4.0196 - mse: 23.3959\n",
            "Epoch 449/500\n",
            "2/2 [==============================] - 0s 45ms/step - loss: 4.0041 - mse: 23.3265\n",
            "Epoch 450/500\n",
            "2/2 [==============================] - 0s 25ms/step - loss: 3.9906 - mse: 23.2863\n",
            "Epoch 451/500\n",
            "2/2 [==============================] - 0s 12ms/step - loss: 3.9802 - mse: 23.2577\n",
            "Epoch 452/500\n",
            "2/2 [==============================] - 0s 15ms/step - loss: 3.9664 - mse: 23.3272\n",
            "Epoch 453/500\n",
            "2/2 [==============================] - 0s 18ms/step - loss: 3.9937 - mse: 23.7148\n",
            "Epoch 454/500\n",
            "2/2 [==============================] - 0s 24ms/step - loss: 3.9903 - mse: 23.7976\n",
            "Epoch 455/500\n",
            "2/2 [==============================] - 0s 21ms/step - loss: 3.9710 - mse: 23.5807\n",
            "Epoch 456/500\n",
            "2/2 [==============================] - 0s 15ms/step - loss: 3.9482 - mse: 23.1864\n",
            "Epoch 457/500\n",
            "2/2 [==============================] - 0s 16ms/step - loss: 3.9052 - mse: 22.5806\n",
            "Epoch 458/500\n",
            "2/2 [==============================] - 0s 11ms/step - loss: 3.8969 - mse: 22.1189\n",
            "Epoch 459/500\n",
            "2/2 [==============================] - 0s 10ms/step - loss: 3.9029 - mse: 21.5629\n",
            "Epoch 460/500\n",
            "2/2 [==============================] - 0s 9ms/step - loss: 3.9296 - mse: 21.2775\n",
            "Epoch 461/500\n",
            "2/2 [==============================] - 0s 23ms/step - loss: 3.9131 - mse: 21.1240\n",
            "Epoch 462/500\n",
            "2/2 [==============================] - 0s 21ms/step - loss: 3.8830 - mse: 21.3253\n",
            "Epoch 463/500\n",
            "2/2 [==============================] - 0s 17ms/step - loss: 3.8382 - mse: 21.3992\n",
            "Epoch 464/500\n",
            "2/2 [==============================] - 0s 12ms/step - loss: 3.8233 - mse: 21.3551\n",
            "Epoch 465/500\n",
            "2/2 [==============================] - 0s 19ms/step - loss: 3.8101 - mse: 21.1610\n",
            "Epoch 466/500\n",
            "2/2 [==============================] - 0s 11ms/step - loss: 3.7989 - mse: 20.9769\n",
            "Epoch 467/500\n",
            "2/2 [==============================] - 0s 35ms/step - loss: 3.7847 - mse: 20.8503\n",
            "Epoch 468/500\n",
            "2/2 [==============================] - 0s 21ms/step - loss: 3.7749 - mse: 20.8643\n",
            "Epoch 469/500\n",
            "2/2 [==============================] - 0s 19ms/step - loss: 3.7615 - mse: 20.8533\n",
            "Epoch 470/500\n",
            "2/2 [==============================] - 0s 18ms/step - loss: 3.7509 - mse: 20.7801\n",
            "Epoch 471/500\n",
            "2/2 [==============================] - 0s 24ms/step - loss: 3.7354 - mse: 20.5602\n",
            "Epoch 472/500\n",
            "2/2 [==============================] - 0s 23ms/step - loss: 3.7195 - mse: 20.2048\n",
            "Epoch 473/500\n",
            "2/2 [==============================] - 0s 18ms/step - loss: 3.7145 - mse: 19.8831\n",
            "Epoch 474/500\n",
            "2/2 [==============================] - 0s 10ms/step - loss: 3.7062 - mse: 19.6585\n",
            "Epoch 475/500\n",
            "2/2 [==============================] - 0s 8ms/step - loss: 3.6893 - mse: 19.5810\n",
            "Epoch 476/500\n",
            "2/2 [==============================] - 0s 9ms/step - loss: 3.6682 - mse: 19.5774\n",
            "Epoch 477/500\n",
            "2/2 [==============================] - 0s 30ms/step - loss: 3.6558 - mse: 19.7128\n",
            "Epoch 478/500\n",
            "2/2 [==============================] - 0s 13ms/step - loss: 3.6717 - mse: 20.0823\n",
            "Epoch 479/500\n",
            "2/2 [==============================] - 0s 18ms/step - loss: 3.6712 - mse: 20.1507\n",
            "Epoch 480/500\n",
            "2/2 [==============================] - 0s 15ms/step - loss: 3.6486 - mse: 19.9039\n",
            "Epoch 481/500\n",
            "2/2 [==============================] - 0s 19ms/step - loss: 3.6201 - mse: 19.4100\n",
            "Epoch 482/500\n",
            "2/2 [==============================] - 0s 27ms/step - loss: 3.5898 - mse: 18.8892\n",
            "Epoch 483/500\n",
            "2/2 [==============================] - 0s 25ms/step - loss: 3.5920 - mse: 18.5376\n",
            "Epoch 484/500\n",
            "2/2 [==============================] - 0s 23ms/step - loss: 3.5848 - mse: 18.2279\n",
            "Epoch 485/500\n",
            "2/2 [==============================] - 0s 31ms/step - loss: 3.5725 - mse: 18.0925\n",
            "Epoch 486/500\n",
            "2/2 [==============================] - 0s 24ms/step - loss: 3.5540 - mse: 18.0366\n",
            "Epoch 487/500\n",
            "2/2 [==============================] - 0s 15ms/step - loss: 3.5289 - mse: 18.0364\n",
            "Epoch 488/500\n",
            "2/2 [==============================] - 0s 17ms/step - loss: 3.5147 - mse: 18.0928\n",
            "Epoch 489/500\n",
            "2/2 [==============================] - 0s 22ms/step - loss: 3.5048 - mse: 18.1245\n",
            "Epoch 490/500\n",
            "2/2 [==============================] - 0s 19ms/step - loss: 3.4901 - mse: 18.0141\n",
            "Epoch 491/500\n",
            "2/2 [==============================] - 0s 28ms/step - loss: 3.4814 - mse: 17.6959\n",
            "Epoch 492/500\n",
            "2/2 [==============================] - 0s 18ms/step - loss: 3.4596 - mse: 17.3808\n",
            "Epoch 493/500\n",
            "2/2 [==============================] - 0s 26ms/step - loss: 3.4472 - mse: 17.2253\n",
            "Epoch 494/500\n",
            "2/2 [==============================] - 0s 15ms/step - loss: 3.4323 - mse: 17.1036\n",
            "Epoch 495/500\n",
            "2/2 [==============================] - 0s 29ms/step - loss: 3.4155 - mse: 17.0309\n",
            "Epoch 496/500\n",
            "2/2 [==============================] - 0s 16ms/step - loss: 3.4050 - mse: 17.0143\n",
            "Epoch 497/500\n",
            "2/2 [==============================] - 0s 14ms/step - loss: 3.3924 - mse: 16.9408\n",
            "Epoch 498/500\n",
            "2/2 [==============================] - 0s 24ms/step - loss: 3.3772 - mse: 16.8620\n",
            "Epoch 499/500\n",
            "2/2 [==============================] - 0s 23ms/step - loss: 3.3702 - mse: 16.8629\n",
            "Epoch 500/500\n",
            "2/2 [==============================] - 0s 16ms/step - loss: 3.3805 - mse: 16.9755\n"
          ]
        },
        {
          "output_type": "execute_result",
          "data": {
            "text/plain": [
              "<keras.src.callbacks.History at 0x7e42f5dc6a10>"
            ]
          },
          "metadata": {},
          "execution_count": 51
        }
      ]
    },
    {
      "cell_type": "code",
      "source": [
        "y_preds_3 = model_3.predict(X_test)\n",
        "plot_predictions(predictions = y_preds_3)"
      ],
      "metadata": {
        "colab": {
          "base_uri": "https://localhost:8080/",
          "height": 616
        },
        "id": "Nn1k7UDLkE3v",
        "outputId": "6cd23a33-33ac-4ecc-b8c2-58c7cd5ee72e"
      },
      "execution_count": 52,
      "outputs": [
        {
          "output_type": "stream",
          "name": "stdout",
          "text": [
            "1/1 [==============================] - 0s 164ms/step\n"
          ]
        },
        {
          "output_type": "display_data",
          "data": {
            "text/plain": [
              "<Figure size 1000x700 with 1 Axes>"
            ],
            "image/png": "[encoded data removed]"
          },
          "metadata": {}
        }
      ]
    },
    {
      "cell_type": "code",
      "source": [
        "# Calculate model_3 evaluation metrics\n",
        "mae_3 = mae(y_test, y_preds_3)\n",
        "mse_3 = mse(y_test, y_preds_3)\n",
        "\n",
        "mae_3, mse_3"
      ],
      "metadata": {
        "colab": {
          "base_uri": "https://localhost:8080/"
        },
        "id": "lHmmL4kokdH9",
        "outputId": "0d94650f-1f7a-47e1-d9cd-05ed8197e068"
      },
      "execution_count": 53,
      "outputs": [
        {
          "output_type": "execute_result",
          "data": {
            "text/plain": [
              "(8.968459, 80.890205)"
            ]
          },
          "metadata": {},
          "execution_count": 53
        }
      ]
    },
    {
      "cell_type": "markdown",
      "source": [
        "## Comparing the results of our experiments\n"
      ],
      "metadata": {
        "id": "QgHirHW5lGBd"
      }
    },
    {
      "cell_type": "code",
      "source": [
        "# Comparing our model's results using pandas dataframe\n",
        "import pandas as pd\n",
        "\n",
        "model_results = [[\"model_1\", mae_1, mse_1],\n",
        "                 [\"model_2\", mae_2, mse_2],\n",
        "                 [\"model_3\", mae_3, mse_3]]\n",
        "\n",
        "all_results = pd.DataFrame(model_results, columns = [\"Model\", \"MAE\", \"MSE\"])\n",
        "all_results"
      ],
      "metadata": {
        "colab": {
          "base_uri": "https://localhost:8080/",
          "height": 143
        },
        "id": "doM3zfbTmsqu",
        "outputId": "418a36e5-311a-42f4-f4d3-a1cc27021475"
      },
      "execution_count": 54,
      "outputs": [
        {
          "output_type": "execute_result",
          "data": {
            "text/plain": [
              "     Model        MAE          MSE\n",
              "0  model_1   8.325836    75.623619\n",
              "1  model_2  48.581886  2391.438965\n",
              "2  model_3   8.968459    80.890205"
            ],
            "text/html": [
              "\n",
              "  <div id=\"df-6b474d28-a944-4594-9ac1-f44955475cd2\" class=\"colab-df-container\">\n",
              "    <div>\n",
              "<style scoped>\n",
              "    .dataframe tbody tr th:only-of-type {\n",
              "        vertical-align: middle;\n",
              "    }\n",
              "\n",
              "    .dataframe tbody tr th {\n",
              "        vertical-align: top;\n",
              "    }\n",
              "\n",
              "    .dataframe thead th {\n",
              "        text-align: right;\n",
              "    }\n",
              "</style>\n",
              "<table border=\"1\" class=\"dataframe\">\n",
              "  <thead>\n",
              "    <tr style=\"text-align: right;\">\n",
              "      <th></th>\n",
              "      <th>Model</th>\n",
              "      <th>MAE</th>\n",
              "      <th>MSE</th>\n",
              "    </tr>\n",
              "  </thead>\n",
              "  <tbody>\n",
              "    <tr>\n",
              "      <th>0</th>\n",
              "      <td>model_1</td>\n",
              "      <td>8.325836</td>\n",
              "      <td>75.623619</td>\n",
              "    </tr>\n",
              "    <tr>\n",
              "      <th>1</th>\n",
              "      <td>model_2</td>\n",
              "      <td>48.581886</td>\n",
              "      <td>2391.438965</td>\n",
              "    </tr>\n",
              "    <tr>\n",
              "      <th>2</th>\n",
              "      <td>model_3</td>\n",
              "      <td>8.968459</td>\n",
              "      <td>80.890205</td>\n",
              "    </tr>\n",
              "  </tbody>\n",
              "</table>\n",
              "</div>\n",
              "    <div class=\"colab-df-buttons\">\n",
              "\n",
              "  <div class=\"colab-df-container\">\n",
              "    <button class=\"colab-df-convert\" onclick=\"convertToInteractive('df-6b474d28-a944-4594-9ac1-f44955475cd2')\"\n",
              "            title=\"Convert this dataframe to an interactive table.\"\n",
              "            style=\"display:none;\">\n",
              "\n",
              "  <svg xmlns=\"http://www.w3.org/2000/svg\" height=\"24px\" viewBox=\"0 -960 960 960\">\n",
              "    <path d=\"M120-120v-720h720v720H120Zm60-500h600v-160H180v160Zm220 220h160v-160H400v160Zm0 220h160v-160H400v160ZM180-400h160v-160H180v160Zm440 0h160v-160H620v160ZM180-180h160v-160H180v160Zm440 0h160v-160H620v160Z\"/>\n",
              "  </svg>\n",
              "    </button>\n",
              "\n",
              "  <style>\n",
              "    .colab-df-container {\n",
              "      display:flex;\n",
              "      gap: 12px;\n",
              "    }\n",
              "\n",
              "    .colab-df-convert {\n",
              "      background-color: #E8F0FE;\n",
              "      border: none;\n",
              "      border-radius: 50%;\n",
              "      cursor: pointer;\n",
              "      display: none;\n",
              "      fill: #1967D2;\n",
              "      height: 32px;\n",
              "      padding: 0 0 0 0;\n",
              "      width: 32px;\n",
              "    }\n",
              "\n",
              "    .colab-df-convert:hover {\n",
              "      background-color: #E2EBFA;\n",
              "      box-shadow: 0px 1px 2px rgba(60, 64, 67, 0.3), 0px 1px 3px 1px rgba(60, 64, 67, 0.15);\n",
              "      fill: #174EA6;\n",
              "    }\n",
              "\n",
              "    .colab-df-buttons div {\n",
              "      margin-bottom: 4px;\n",
              "    }\n",
              "\n",
              "    [theme=dark] .colab-df-convert {\n",
              "      background-color: #3B4455;\n",
              "      fill: #D2E3FC;\n",
              "    }\n",
              "\n",
              "    [theme=dark] .colab-df-convert:hover {\n",
              "      background-color: #434B5C;\n",
              "      box-shadow: 0px 1px 3px 1px rgba(0, 0, 0, 0.15);\n",
              "      filter: drop-shadow(0px 1px 2px rgba(0, 0, 0, 0.3));\n",
              "      fill: #FFFFFF;\n",
              "    }\n",
              "  </style>\n",
              "\n",
              "    <script>\n",
              "      const buttonEl =\n",
              "        document.querySelector('#df-6b474d28-a944-4594-9ac1-f44955475cd2 button.colab-df-convert');\n",
              "      buttonEl.style.display =\n",
              "        google.colab.kernel.accessAllowed ? 'block' : 'none';\n",
              "\n",
              "      async function convertToInteractive(key) {\n",
              "        const element = document.querySelector('#df-6b474d28-a944-4594-9ac1-f44955475cd2');\n",
              "        const dataTable =\n",
              "          await google.colab.kernel.invokeFunction('convertToInteractive',\n",
              "                                                    [key], {});\n",
              "        if (!dataTable) return;\n",
              "\n",
              "        const docLinkHtml = 'Like what you see? Visit the ' +\n",
              "          '<a target=\"_blank\" href=https://colab.research.google.com/notebooks/data_table.ipynb>data table notebook</a>'\n",
              "          + ' to learn more about interactive tables.';\n",
              "        element.innerHTML = '';\n",
              "        dataTable['output_type'] = 'display_data';\n",
              "        await google.colab.output.renderOutput(dataTable, element);\n",
              "        const docLink = document.createElement('div');\n",
              "        docLink.innerHTML = docLinkHtml;\n",
              "        element.appendChild(docLink);\n",
              "      }\n",
              "    </script>\n",
              "  </div>\n",
              "\n",
              "\n",
              "<div id=\"df-9f5b011e-33f4-47a8-9c3e-4f73b23af6a1\">\n",
              "  <button class=\"colab-df-quickchart\" onclick=\"quickchart('df-9f5b011e-33f4-47a8-9c3e-4f73b23af6a1')\"\n",
              "            title=\"Suggest charts\"\n",
              "            style=\"display:none;\">\n",
              "\n",
              "<svg xmlns=\"http://www.w3.org/2000/svg\" height=\"24px\"viewBox=\"0 0 24 24\"\n",
              "     width=\"24px\">\n",
              "    <g>\n",
              "        <path d=\"M19 3H5c-1.1 0-2 .9-2 2v14c0 1.1.9 2 2 2h14c1.1 0 2-.9 2-2V5c0-1.1-.9-2-2-2zM9 17H7v-7h2v7zm4 0h-2V7h2v10zm4 0h-2v-4h2v4z\"/>\n",
              "    </g>\n",
              "</svg>\n",
              "  </button>\n",
              "\n",
              "<style>\n",
              "  .colab-df-quickchart {\n",
              "      --bg-color: #E8F0FE;\n",
              "      --fill-color: #1967D2;\n",
              "      --hover-bg-color: #E2EBFA;\n",
              "      --hover-fill-color: #174EA6;\n",
              "      --disabled-fill-color: #AAA;\n",
              "      --disabled-bg-color: #DDD;\n",
              "  }\n",
              "\n",
              "  [theme=dark] .colab-df-quickchart {\n",
              "      --bg-color: #3B4455;\n",
              "      --fill-color: #D2E3FC;\n",
              "      --hover-bg-color: #434B5C;\n",
              "      --hover-fill-color: #FFFFFF;\n",
              "      --disabled-bg-color: #3B4455;\n",
              "      --disabled-fill-color: #666;\n",
              "  }\n",
              "\n",
              "  .colab-df-quickchart {\n",
              "    background-color: var(--bg-color);\n",
              "    border: none;\n",
              "    border-radius: 50%;\n",
              "    cursor: pointer;\n",
              "    display: none;\n",
              "    fill: var(--fill-color);\n",
              "    height: 32px;\n",
              "    padding: 0;\n",
              "    width: 32px;\n",
              "  }\n",
              "\n",
              "  .colab-df-quickchart:hover {\n",
              "    background-color: var(--hover-bg-color);\n",
              "    box-shadow: 0 1px 2px rgba(60, 64, 67, 0.3), 0 1px 3px 1px rgba(60, 64, 67, 0.15);\n",
              "    fill: var(--button-hover-fill-color);\n",
              "  }\n",
              "\n",
              "  .colab-df-quickchart-complete:disabled,\n",
              "  .colab-df-quickchart-complete:disabled:hover {\n",
              "    background-color: var(--disabled-bg-color);\n",
              "    fill: var(--disabled-fill-color);\n",
              "    box-shadow: none;\n",
              "  }\n",
              "\n",
              "  .colab-df-spinner {\n",
              "    border: 2px solid var(--fill-color);\n",
              "    border-color: transparent;\n",
              "    border-bottom-color: var(--fill-color);\n",
              "    animation:\n",
              "      spin 1s steps(1) infinite;\n",
              "  }\n",
              "\n",
              "  @keyframes spin {\n",
              "    0% {\n",
              "      border-color: transparent;\n",
              "      border-bottom-color: var(--fill-color);\n",
              "      border-left-color: var(--fill-color);\n",
              "    }\n",
              "    20% {\n",
              "      border-color: transparent;\n",
              "      border-left-color: var(--fill-color);\n",
              "      border-top-color: var(--fill-color);\n",
              "    }\n",
              "    30% {\n",
              "      border-color: transparent;\n",
              "      border-left-color: var(--fill-color);\n",
              "      border-top-color: var(--fill-color);\n",
              "      border-right-color: var(--fill-color);\n",
              "    }\n",
              "    40% {\n",
              "      border-color: transparent;\n",
              "      border-right-color: var(--fill-color);\n",
              "      border-top-color: var(--fill-color);\n",
              "    }\n",
              "    60% {\n",
              "      border-color: transparent;\n",
              "      border-right-color: var(--fill-color);\n",
              "    }\n",
              "    80% {\n",
              "      border-color: transparent;\n",
              "      border-right-color: var(--fill-color);\n",
              "      border-bottom-color: var(--fill-color);\n",
              "    }\n",
              "    90% {\n",
              "      border-color: transparent;\n",
              "      border-bottom-color: var(--fill-color);\n",
              "    }\n",
              "  }\n",
              "</style>\n",
              "\n",
              "  <script>\n",
              "    async function quickchart(key) {\n",
              "      const quickchartButtonEl =\n",
              "        document.querySelector('#' + key + ' button');\n",
              "      quickchartButtonEl.disabled = true;  // To prevent multiple clicks.\n",
              "      quickchartButtonEl.classList.add('colab-df-spinner');\n",
              "      try {\n",
              "        const charts = await google.colab.kernel.invokeFunction(\n",
              "            'suggestCharts', [key], {});\n",
              "      } catch (error) {\n",
              "        console.error('Error during call to suggestCharts:', error);\n",
              "      }\n",
              "      quickchartButtonEl.classList.remove('colab-df-spinner');\n",
              "      quickchartButtonEl.classList.add('colab-df-quickchart-complete');\n",
              "    }\n",
              "    (() => {\n",
              "      let quickchartButtonEl =\n",
              "        document.querySelector('#df-9f5b011e-33f4-47a8-9c3e-4f73b23af6a1 button');\n",
              "      quickchartButtonEl.style.display =\n",
              "        google.colab.kernel.accessAllowed ? 'block' : 'none';\n",
              "    })();\n",
              "  </script>\n",
              "</div>\n",
              "    </div>\n",
              "  </div>\n"
            ]
          },
          "metadata": {},
          "execution_count": 54
        }
      ]
    },
    {
      "cell_type": "markdown",
      "source": [
        "### Model 3 performed the best"
      ],
      "metadata": {
        "id": "yBAyMaOWn8JG"
      }
    },
    {
      "cell_type": "code",
      "source": [
        "model_3.summary()"
      ],
      "metadata": {
        "colab": {
          "base_uri": "https://localhost:8080/"
        },
        "id": "mfKJfQ55ncXU",
        "outputId": "d0bf9202-9817-4eb5-eace-cf6c9d2c0d7d"
      },
      "execution_count": 55,
      "outputs": [
        {
          "output_type": "stream",
          "name": "stdout",
          "text": [
            "Model: \"sequential_6\"\n",
            "_________________________________________________________________\n",
            " Layer (type)                Output Shape              Param #   \n",
            "=================================================================\n",
            " dense_8 (Dense)             (None, 10)                20        \n",
            "                                                                 \n",
            " dense_9 (Dense)             (None, 1)                 11        \n",
            "                                                                 \n",
            "=================================================================\n",
            "Total params: 31 (124.00 Byte)\n",
            "Trainable params: 31 (124.00 Byte)\n",
            "Non-trainable params: 0 (0.00 Byte)\n",
            "_________________________________________________________________\n"
          ]
        }
      ]
    },
    {
      "cell_type": "markdown",
      "source": [
        "## Tracking Experiments\n",
        "\n",
        "* Tensorboard - a component of the TensorFLow lib to help track modelling experiments.\n",
        "* Weights & biases - a tool for tracking all kinds of machine learning experiments (plus straight into TensorBoard)"
      ],
      "metadata": {
        "id": "HYN5CjF2nyLs"
      }
    },
    {
      "cell_type": "markdown",
      "source": [
        "## Saving a model"
      ],
      "metadata": {
        "id": "83I-4pSTofU4"
      }
    },
    {
      "cell_type": "code",
      "source": [
        "model_3.save('best_one_SavedModel_format')"
      ],
      "metadata": {
        "id": "gVeofpBToo_n"
      },
      "execution_count": 56,
      "outputs": []
    },
    {
      "cell_type": "code",
      "source": [
        "# Save the model using the HDF5 format\n",
        "model_3.save(\"my_model.h5\")"
      ],
      "metadata": {
        "colab": {
          "base_uri": "https://localhost:8080/"
        },
        "id": "VvdE9MJUpFIz",
        "outputId": "6eb7ea47-9824-4830-c9be-7d220c39e12d"
      },
      "execution_count": 57,
      "outputs": [
        {
          "output_type": "stream",
          "name": "stderr",
          "text": [
            "/usr/local/lib/python3.10/dist-packages/keras/src/engine/training.py:3079: UserWarning: You are saving your model as an HDF5 file via `model.save()`. This file format is considered legacy. We recommend using instead the native Keras format, e.g. `model.save('my_model.keras')`.\n",
            "  saving_api.save_model(\n"
          ]
        }
      ]
    },
    {
      "cell_type": "markdown",
      "source": [
        "## Loading in a saved model"
      ],
      "metadata": {
        "id": "26btOd2TIJtc"
      }
    },
    {
      "cell_type": "code",
      "source": [
        "# Load in the SavedModel format model\n",
        "loaded_SavedModel_format = tf.keras.models.load_model('/content/best_one_SavedModel_format')\n",
        "loaded_SavedModel_format.summary()"
      ],
      "metadata": {
        "colab": {
          "base_uri": "https://localhost:8080/"
        },
        "id": "Tin0eYBXIgv4",
        "outputId": "c43a7548-ca34-437d-bae0-78d4f4348b47"
      },
      "execution_count": 58,
      "outputs": [
        {
          "output_type": "stream",
          "name": "stdout",
          "text": [
            "Model: \"sequential_6\"\n",
            "_________________________________________________________________\n",
            " Layer (type)                Output Shape              Param #   \n",
            "=================================================================\n",
            " dense_8 (Dense)             (None, 10)                20        \n",
            "                                                                 \n",
            " dense_9 (Dense)             (None, 1)                 11        \n",
            "                                                                 \n",
            "=================================================================\n",
            "Total params: 31 (124.00 Byte)\n",
            "Trainable params: 31 (124.00 Byte)\n",
            "Non-trainable params: 0 (0.00 Byte)\n",
            "_________________________________________________________________\n"
          ]
        }
      ]
    },
    {
      "cell_type": "code",
      "source": [
        "model_3.summary()"
      ],
      "metadata": {
        "colab": {
          "base_uri": "https://localhost:8080/"
        },
        "id": "uTnLQVTGI1IP",
        "outputId": "3376ce24-b234-4d92-a650-36d44e01cb9a"
      },
      "execution_count": 59,
      "outputs": [
        {
          "output_type": "stream",
          "name": "stdout",
          "text": [
            "Model: \"sequential_6\"\n",
            "_________________________________________________________________\n",
            " Layer (type)                Output Shape              Param #   \n",
            "=================================================================\n",
            " dense_8 (Dense)             (None, 10)                20        \n",
            "                                                                 \n",
            " dense_9 (Dense)             (None, 1)                 11        \n",
            "                                                                 \n",
            "=================================================================\n",
            "Total params: 31 (124.00 Byte)\n",
            "Trainable params: 31 (124.00 Byte)\n",
            "Non-trainable params: 0 (0.00 Byte)\n",
            "_________________________________________________________________\n"
          ]
        }
      ]
    },
    {
      "cell_type": "code",
      "source": [
        "#Compare model_3 predictions with SavedModel format model predictions\n",
        "model_3_preds = model_3.predict(X_test)\n",
        "loaded_SavedModel_format_preds = loaded_SavedModel_format.predict(X_test)\n",
        "model_3_preds == loaded_SavedModel_format_preds"
      ],
      "metadata": {
        "colab": {
          "base_uri": "https://localhost:8080/"
        },
        "id": "rl63xo8qI7LY",
        "outputId": "91a187b8-737a-451e-962c-c46fa59c1de7"
      },
      "execution_count": 60,
      "outputs": [
        {
          "output_type": "stream",
          "name": "stdout",
          "text": [
            "1/1 [==============================] - 0s 22ms/step\n",
            "1/1 [==============================] - 0s 50ms/step\n"
          ]
        },
        {
          "output_type": "execute_result",
          "data": {
            "text/plain": [
              "array([[ True],\n",
              "       [ True],\n",
              "       [ True],\n",
              "       [ True],\n",
              "       [ True],\n",
              "       [ True],\n",
              "       [ True],\n",
              "       [ True],\n",
              "       [ True],\n",
              "       [ True]])"
            ]
          },
          "metadata": {},
          "execution_count": 60
        }
      ]
    },
    {
      "cell_type": "code",
      "source": [
        "mae(y_test, model_3_preds) == mae(y_test, loaded_SavedModel_format_preds)"
      ],
      "metadata": {
        "colab": {
          "base_uri": "https://localhost:8080/"
        },
        "id": "loDBWH37JVbt",
        "outputId": "b9a11112-3a23-4104-dcae-f6ea97644250"
      },
      "execution_count": 61,
      "outputs": [
        {
          "output_type": "execute_result",
          "data": {
            "text/plain": [
              "True"
            ]
          },
          "metadata": {},
          "execution_count": 61
        }
      ]
    },
    {
      "cell_type": "code",
      "source": [
        "# Load in a model using the h5 format\n",
        "loaded_h5_model = tf.keras.models.load_model('/content/my_model.h5')\n",
        "loaded_h5_model.summary()"
      ],
      "metadata": {
        "colab": {
          "base_uri": "https://localhost:8080/"
        },
        "id": "iDO7_cbnJkqn",
        "outputId": "72fa1661-5db6-491d-ebbf-b52d2ea688f3"
      },
      "execution_count": 62,
      "outputs": [
        {
          "output_type": "stream",
          "name": "stdout",
          "text": [
            "Model: \"sequential_6\"\n",
            "_________________________________________________________________\n",
            " Layer (type)                Output Shape              Param #   \n",
            "=================================================================\n",
            " dense_8 (Dense)             (None, 10)                20        \n",
            "                                                                 \n",
            " dense_9 (Dense)             (None, 1)                 11        \n",
            "                                                                 \n",
            "=================================================================\n",
            "Total params: 31 (124.00 Byte)\n",
            "Trainable params: 31 (124.00 Byte)\n",
            "Non-trainable params: 0 (0.00 Byte)\n",
            "_________________________________________________________________\n"
          ]
        }
      ]
    },
    {
      "cell_type": "code",
      "source": [
        "# Check to see if loaded .h5 model predictions match model_3 preds\n",
        "model_3_preds = model_3.predict(X_test)\n",
        "loaded_h5_preds = loaded_h5_model.predict(X_test)\n",
        "\n",
        "model_3_preds == loaded_h5_preds"
      ],
      "metadata": {
        "colab": {
          "base_uri": "https://localhost:8080/"
        },
        "id": "frIhvCzUKDUV",
        "outputId": "0cbaec1f-b67b-4da3-b2f1-c6fe07fab700"
      },
      "execution_count": 63,
      "outputs": [
        {
          "output_type": "stream",
          "name": "stdout",
          "text": [
            "1/1 [==============================] - 0s 32ms/step\n",
            "1/1 [==============================] - 0s 84ms/step\n"
          ]
        },
        {
          "output_type": "execute_result",
          "data": {
            "text/plain": [
              "array([[ True],\n",
              "       [ True],\n",
              "       [ True],\n",
              "       [ True],\n",
              "       [ True],\n",
              "       [ True],\n",
              "       [ True],\n",
              "       [ True],\n",
              "       [ True],\n",
              "       [ True]])"
            ]
          },
          "metadata": {},
          "execution_count": 63
        }
      ]
    },
    {
      "cell_type": "code",
      "source": [
        "mae(y_test, model_3_preds) == mae(y_test, loaded_h5_preds)"
      ],
      "metadata": {
        "colab": {
          "base_uri": "https://localhost:8080/"
        },
        "id": "dVLEzijTKZYF",
        "outputId": "2b8c6ae9-ffb2-4c47-da43-b3b0d06ce19d"
      },
      "execution_count": 64,
      "outputs": [
        {
          "output_type": "execute_result",
          "data": {
            "text/plain": [
              "True"
            ]
          },
          "metadata": {},
          "execution_count": 64
        }
      ]
    },
    {
      "cell_type": "markdown",
      "source": [
        "## Download a model(or any other file) from Google Colab"
      ],
      "metadata": {
        "id": "P6EgDl-JKsso"
      }
    },
    {
      "cell_type": "code",
      "source": [
        "# Download a file from Google Colab\n",
        "from google.colab import files\n",
        "files.download('/content/my_model.h5')"
      ],
      "metadata": {
        "colab": {
          "base_uri": "https://localhost:8080/",
          "height": 17
        },
        "id": "GIW8e5KuK9HR",
        "outputId": "bf29fc5a-bedc-4349-dbc9-cf7fbe10023e"
      },
      "execution_count": 65,
      "outputs": [
        {
          "output_type": "display_data",
          "data": {
            "text/plain": [
              "<IPython.core.display.Javascript object>"
            ],
            "application/javascript": [
              "\n",
              "    async function download(id, filename, size) {\n",
              "      if (!google.colab.kernel.accessAllowed) {\n",
              "        return;\n",
              "      }\n",
              "      const div = document.createElement('div');\n",
              "      const label = document.createElement('label');\n",
              "      label.textContent = `Downloading \"${filename}\": `;\n",
              "      div.appendChild(label);\n",
              "      const progress = document.createElement('progress');\n",
              "      progress.max = size;\n",
              "      div.appendChild(progress);\n",
              "      document.body.appendChild(div);\n",
              "\n",
              "      const buffers = [];\n",
              "      let downloaded = 0;\n",
              "\n",
              "      const channel = await google.colab.kernel.comms.open(id);\n",
              "      // Send a message to notify the kernel that we're ready.\n",
              "      channel.send({})\n",
              "\n",
              "      for await (const message of channel.messages) {\n",
              "        // Send a message to notify the kernel that we're ready.\n",
              "        channel.send({})\n",
              "        if (message.buffers) {\n",
              "          for (const buffer of message.buffers) {\n",
              "            buffers.push(buffer);\n",
              "            downloaded += buffer.byteLength;\n",
              "            progress.value = downloaded;\n",
              "          }\n",
              "        }\n",
              "      }\n",
              "      const blob = new Blob(buffers, {type: 'application/binary'});\n",
              "      const a = document.createElement('a');\n",
              "      a.href = window.URL.createObjectURL(blob);\n",
              "      a.download = filename;\n",
              "      div.appendChild(a);\n",
              "      a.click();\n",
              "      div.remove();\n",
              "    }\n",
              "  "
            ]
          },
          "metadata": {}
        },
        {
          "output_type": "display_data",
          "data": {
            "text/plain": [
              "<IPython.core.display.Javascript object>"
            ],
            "application/javascript": [
              "download(\"download_7ce5b978-9858-40e7-8bba-efe6825de5f6\", \"my_model.h5\", 26200)"
            ]
          },
          "metadata": {}
        }
      ]
    },
    {
      "cell_type": "markdown",
      "source": [
        "## A Larger Example"
      ],
      "metadata": {
        "id": "mwZflbUjLICU"
      }
    },
    {
      "cell_type": "code",
      "source": [
        "# Import required libraries\n",
        "import tensorflow as tf\n",
        "import pandas as pd\n",
        "import matplotlib.pyplot as plt"
      ],
      "metadata": {
        "id": "BA7L8SgNLS_z"
      },
      "execution_count": 66,
      "outputs": []
    },
    {
      "cell_type": "code",
      "source": [
        "# Read in the insurance dataset\n",
        "insurance = pd.read_csv('https://raw.githubusercontent.com/stedy/Machine-Learning-with-R-datasets/master/insurance.csv')\n",
        "insurance"
      ],
      "metadata": {
        "colab": {
          "base_uri": "https://localhost:8080/",
          "height": 423
        },
        "id": "hyHqMrWTMlIf",
        "outputId": "848093d7-0808-40af-8fb9-053697308f5c"
      },
      "execution_count": 68,
      "outputs": [
        {
          "output_type": "execute_result",
          "data": {
            "text/plain": [
              "      age     sex     bmi  children smoker     region      charges\n",
              "0      19  female  27.900         0    yes  southwest  16884.92400\n",
              "1      18    male  33.770         1     no  southeast   1725.55230\n",
              "2      28    male  33.000         3     no  southeast   4449.46200\n",
              "3      33    male  22.705         0     no  northwest  21984.47061\n",
              "4      32    male  28.880         0     no  northwest   3866.85520\n",
              "...   ...     ...     ...       ...    ...        ...          ...\n",
              "1333   50    male  30.970         3     no  northwest  10600.54830\n",
              "1334   18  female  31.920         0     no  northeast   2205.98080\n",
              "1335   18  female  36.850         0     no  southeast   1629.83350\n",
              "1336   21  female  25.800         0     no  southwest   2007.94500\n",
              "1337   61  female  29.070         0    yes  northwest  29141.36030\n",
              "\n",
              "[1338 rows x 7 columns]"
            ],
            "text/html": [
              "\n",
              "  <div id=\"df-f2715e0c-6044-47ac-870d-16c83c664d81\" class=\"colab-df-container\">\n",
              "    <div>\n",
              "<style scoped>\n",
              "    .dataframe tbody tr th:only-of-type {\n",
              "        vertical-align: middle;\n",
              "    }\n",
              "\n",
              "    .dataframe tbody tr th {\n",
              "        vertical-align: top;\n",
              "    }\n",
              "\n",
              "    .dataframe thead th {\n",
              "        text-align: right;\n",
              "    }\n",
              "</style>\n",
              "<table border=\"1\" class=\"dataframe\">\n",
              "  <thead>\n",
              "    <tr style=\"text-align: right;\">\n",
              "      <th></th>\n",
              "      <th>age</th>\n",
              "      <th>sex</th>\n",
              "      <th>bmi</th>\n",
              "      <th>children</th>\n",
              "      <th>smoker</th>\n",
              "      <th>region</th>\n",
              "      <th>charges</th>\n",
              "    </tr>\n",
              "  </thead>\n",
              "  <tbody>\n",
              "    <tr>\n",
              "      <th>0</th>\n",
              "      <td>19</td>\n",
              "      <td>female</td>\n",
              "      <td>27.900</td>\n",
              "      <td>0</td>\n",
              "      <td>yes</td>\n",
              "      <td>southwest</td>\n",
              "      <td>16884.92400</td>\n",
              "    </tr>\n",
              "    <tr>\n",
              "      <th>1</th>\n",
              "      <td>18</td>\n",
              "      <td>male</td>\n",
              "      <td>33.770</td>\n",
              "      <td>1</td>\n",
              "      <td>no</td>\n",
              "      <td>southeast</td>\n",
              "      <td>1725.55230</td>\n",
              "    </tr>\n",
              "    <tr>\n",
              "      <th>2</th>\n",
              "      <td>28</td>\n",
              "      <td>male</td>\n",
              "      <td>33.000</td>\n",
              "      <td>3</td>\n",
              "      <td>no</td>\n",
              "      <td>southeast</td>\n",
              "      <td>4449.46200</td>\n",
              "    </tr>\n",
              "    <tr>\n",
              "      <th>3</th>\n",
              "      <td>33</td>\n",
              "      <td>male</td>\n",
              "      <td>22.705</td>\n",
              "      <td>0</td>\n",
              "      <td>no</td>\n",
              "      <td>northwest</td>\n",
              "      <td>21984.47061</td>\n",
              "    </tr>\n",
              "    <tr>\n",
              "      <th>4</th>\n",
              "      <td>32</td>\n",
              "      <td>male</td>\n",
              "      <td>28.880</td>\n",
              "      <td>0</td>\n",
              "      <td>no</td>\n",
              "      <td>northwest</td>\n",
              "      <td>3866.85520</td>\n",
              "    </tr>\n",
              "    <tr>\n",
              "      <th>...</th>\n",
              "      <td>...</td>\n",
              "      <td>...</td>\n",
              "      <td>...</td>\n",
              "      <td>...</td>\n",
              "      <td>...</td>\n",
              "      <td>...</td>\n",
              "      <td>...</td>\n",
              "    </tr>\n",
              "    <tr>\n",
              "      <th>1333</th>\n",
              "      <td>50</td>\n",
              "      <td>male</td>\n",
              "      <td>30.970</td>\n",
              "      <td>3</td>\n",
              "      <td>no</td>\n",
              "      <td>northwest</td>\n",
              "      <td>10600.54830</td>\n",
              "    </tr>\n",
              "    <tr>\n",
              "      <th>1334</th>\n",
              "      <td>18</td>\n",
              "      <td>female</td>\n",
              "      <td>31.920</td>\n",
              "      <td>0</td>\n",
              "      <td>no</td>\n",
              "      <td>northeast</td>\n",
              "      <td>2205.98080</td>\n",
              "    </tr>\n",
              "    <tr>\n",
              "      <th>1335</th>\n",
              "      <td>18</td>\n",
              "      <td>female</td>\n",
              "      <td>36.850</td>\n",
              "      <td>0</td>\n",
              "      <td>no</td>\n",
              "      <td>southeast</td>\n",
              "      <td>1629.83350</td>\n",
              "    </tr>\n",
              "    <tr>\n",
              "      <th>1336</th>\n",
              "      <td>21</td>\n",
              "      <td>female</td>\n",
              "      <td>25.800</td>\n",
              "      <td>0</td>\n",
              "      <td>no</td>\n",
              "      <td>southwest</td>\n",
              "      <td>2007.94500</td>\n",
              "    </tr>\n",
              "    <tr>\n",
              "      <th>1337</th>\n",
              "      <td>61</td>\n",
              "      <td>female</td>\n",
              "      <td>29.070</td>\n",
              "      <td>0</td>\n",
              "      <td>yes</td>\n",
              "      <td>northwest</td>\n",
              "      <td>29141.36030</td>\n",
              "    </tr>\n",
              "  </tbody>\n",
              "</table>\n",
              "<p>1338 rows × 7 columns</p>\n",
              "</div>\n",
              "    <div class=\"colab-df-buttons\">\n",
              "\n",
              "  <div class=\"colab-df-container\">\n",
              "    <button class=\"colab-df-convert\" onclick=\"convertToInteractive('df-f2715e0c-6044-47ac-870d-16c83c664d81')\"\n",
              "            title=\"Convert this dataframe to an interactive table.\"\n",
              "            style=\"display:none;\">\n",
              "\n",
              "  <svg xmlns=\"http://www.w3.org/2000/svg\" height=\"24px\" viewBox=\"0 -960 960 960\">\n",
              "    <path d=\"M120-120v-720h720v720H120Zm60-500h600v-160H180v160Zm220 220h160v-160H400v160Zm0 220h160v-160H400v160ZM180-400h160v-160H180v160Zm440 0h160v-160H620v160ZM180-180h160v-160H180v160Zm440 0h160v-160H620v160Z\"/>\n",
              "  </svg>\n",
              "    </button>\n",
              "\n",
              "  <style>\n",
              "    .colab-df-container {\n",
              "      display:flex;\n",
              "      gap: 12px;\n",
              "    }\n",
              "\n",
              "    .colab-df-convert {\n",
              "      background-color: #E8F0FE;\n",
              "      border: none;\n",
              "      border-radius: 50%;\n",
              "      cursor: pointer;\n",
              "      display: none;\n",
              "      fill: #1967D2;\n",
              "      height: 32px;\n",
              "      padding: 0 0 0 0;\n",
              "      width: 32px;\n",
              "    }\n",
              "\n",
              "    .colab-df-convert:hover {\n",
              "      background-color: #E2EBFA;\n",
              "      box-shadow: 0px 1px 2px rgba(60, 64, 67, 0.3), 0px 1px 3px 1px rgba(60, 64, 67, 0.15);\n",
              "      fill: #174EA6;\n",
              "    }\n",
              "\n",
              "    .colab-df-buttons div {\n",
              "      margin-bottom: 4px;\n",
              "    }\n",
              "\n",
              "    [theme=dark] .colab-df-convert {\n",
              "      background-color: #3B4455;\n",
              "      fill: #D2E3FC;\n",
              "    }\n",
              "\n",
              "    [theme=dark] .colab-df-convert:hover {\n",
              "      background-color: #434B5C;\n",
              "      box-shadow: 0px 1px 3px 1px rgba(0, 0, 0, 0.15);\n",
              "      filter: drop-shadow(0px 1px 2px rgba(0, 0, 0, 0.3));\n",
              "      fill: #FFFFFF;\n",
              "    }\n",
              "  </style>\n",
              "\n",
              "    <script>\n",
              "      const buttonEl =\n",
              "        document.querySelector('#df-f2715e0c-6044-47ac-870d-16c83c664d81 button.colab-df-convert');\n",
              "      buttonEl.style.display =\n",
              "        google.colab.kernel.accessAllowed ? 'block' : 'none';\n",
              "\n",
              "      async function convertToInteractive(key) {\n",
              "        const element = document.querySelector('#df-f2715e0c-6044-47ac-870d-16c83c664d81');\n",
              "        const dataTable =\n",
              "          await google.colab.kernel.invokeFunction('convertToInteractive',\n",
              "                                                    [key], {});\n",
              "        if (!dataTable) return;\n",
              "\n",
              "        const docLinkHtml = 'Like what you see? Visit the ' +\n",
              "          '<a target=\"_blank\" href=https://colab.research.google.com/notebooks/data_table.ipynb>data table notebook</a>'\n",
              "          + ' to learn more about interactive tables.';\n",
              "        element.innerHTML = '';\n",
              "        dataTable['output_type'] = 'display_data';\n",
              "        await google.colab.output.renderOutput(dataTable, element);\n",
              "        const docLink = document.createElement('div');\n",
              "        docLink.innerHTML = docLinkHtml;\n",
              "        element.appendChild(docLink);\n",
              "      }\n",
              "    </script>\n",
              "  </div>\n",
              "\n",
              "\n",
              "<div id=\"df-2c91e506-3b72-47a9-9daa-9026a13cd0b1\">\n",
              "  <button class=\"colab-df-quickchart\" onclick=\"quickchart('df-2c91e506-3b72-47a9-9daa-9026a13cd0b1')\"\n",
              "            title=\"Suggest charts\"\n",
              "            style=\"display:none;\">\n",
              "\n",
              "<svg xmlns=\"http://www.w3.org/2000/svg\" height=\"24px\"viewBox=\"0 0 24 24\"\n",
              "     width=\"24px\">\n",
              "    <g>\n",
              "        <path d=\"M19 3H5c-1.1 0-2 .9-2 2v14c0 1.1.9 2 2 2h14c1.1 0 2-.9 2-2V5c0-1.1-.9-2-2-2zM9 17H7v-7h2v7zm4 0h-2V7h2v10zm4 0h-2v-4h2v4z\"/>\n",
              "    </g>\n",
              "</svg>\n",
              "  </button>\n",
              "\n",
              "<style>\n",
              "  .colab-df-quickchart {\n",
              "      --bg-color: #E8F0FE;\n",
              "      --fill-color: #1967D2;\n",
              "      --hover-bg-color: #E2EBFA;\n",
              "      --hover-fill-color: #174EA6;\n",
              "      --disabled-fill-color: #AAA;\n",
              "      --disabled-bg-color: #DDD;\n",
              "  }\n",
              "\n",
              "  [theme=dark] .colab-df-quickchart {\n",
              "      --bg-color: #3B4455;\n",
              "      --fill-color: #D2E3FC;\n",
              "      --hover-bg-color: #434B5C;\n",
              "      --hover-fill-color: #FFFFFF;\n",
              "      --disabled-bg-color: #3B4455;\n",
              "      --disabled-fill-color: #666;\n",
              "  }\n",
              "\n",
              "  .colab-df-quickchart {\n",
              "    background-color: var(--bg-color);\n",
              "    border: none;\n",
              "    border-radius: 50%;\n",
              "    cursor: pointer;\n",
              "    display: none;\n",
              "    fill: var(--fill-color);\n",
              "    height: 32px;\n",
              "    padding: 0;\n",
              "    width: 32px;\n",
              "  }\n",
              "\n",
              "  .colab-df-quickchart:hover {\n",
              "    background-color: var(--hover-bg-color);\n",
              "    box-shadow: 0 1px 2px rgba(60, 64, 67, 0.3), 0 1px 3px 1px rgba(60, 64, 67, 0.15);\n",
              "    fill: var(--button-hover-fill-color);\n",
              "  }\n",
              "\n",
              "  .colab-df-quickchart-complete:disabled,\n",
              "  .colab-df-quickchart-complete:disabled:hover {\n",
              "    background-color: var(--disabled-bg-color);\n",
              "    fill: var(--disabled-fill-color);\n",
              "    box-shadow: none;\n",
              "  }\n",
              "\n",
              "  .colab-df-spinner {\n",
              "    border: 2px solid var(--fill-color);\n",
              "    border-color: transparent;\n",
              "    border-bottom-color: var(--fill-color);\n",
              "    animation:\n",
              "      spin 1s steps(1) infinite;\n",
              "  }\n",
              "\n",
              "  @keyframes spin {\n",
              "    0% {\n",
              "      border-color: transparent;\n",
              "      border-bottom-color: var(--fill-color);\n",
              "      border-left-color: var(--fill-color);\n",
              "    }\n",
              "    20% {\n",
              "      border-color: transparent;\n",
              "      border-left-color: var(--fill-color);\n",
              "      border-top-color: var(--fill-color);\n",
              "    }\n",
              "    30% {\n",
              "      border-color: transparent;\n",
              "      border-left-color: var(--fill-color);\n",
              "      border-top-color: var(--fill-color);\n",
              "      border-right-color: var(--fill-color);\n",
              "    }\n",
              "    40% {\n",
              "      border-color: transparent;\n",
              "      border-right-color: var(--fill-color);\n",
              "      border-top-color: var(--fill-color);\n",
              "    }\n",
              "    60% {\n",
              "      border-color: transparent;\n",
              "      border-right-color: var(--fill-color);\n",
              "    }\n",
              "    80% {\n",
              "      border-color: transparent;\n",
              "      border-right-color: var(--fill-color);\n",
              "      border-bottom-color: var(--fill-color);\n",
              "    }\n",
              "    90% {\n",
              "      border-color: transparent;\n",
              "      border-bottom-color: var(--fill-color);\n",
              "    }\n",
              "  }\n",
              "</style>\n",
              "\n",
              "  <script>\n",
              "    async function quickchart(key) {\n",
              "      const quickchartButtonEl =\n",
              "        document.querySelector('#' + key + ' button');\n",
              "      quickchartButtonEl.disabled = true;  // To prevent multiple clicks.\n",
              "      quickchartButtonEl.classList.add('colab-df-spinner');\n",
              "      try {\n",
              "        const charts = await google.colab.kernel.invokeFunction(\n",
              "            'suggestCharts', [key], {});\n",
              "      } catch (error) {\n",
              "        console.error('Error during call to suggestCharts:', error);\n",
              "      }\n",
              "      quickchartButtonEl.classList.remove('colab-df-spinner');\n",
              "      quickchartButtonEl.classList.add('colab-df-quickchart-complete');\n",
              "    }\n",
              "    (() => {\n",
              "      let quickchartButtonEl =\n",
              "        document.querySelector('#df-2c91e506-3b72-47a9-9daa-9026a13cd0b1 button');\n",
              "      quickchartButtonEl.style.display =\n",
              "        google.colab.kernel.accessAllowed ? 'block' : 'none';\n",
              "    })();\n",
              "  </script>\n",
              "</div>\n",
              "    </div>\n",
              "  </div>\n"
            ]
          },
          "metadata": {},
          "execution_count": 68
        }
      ]
    },
    {
      "cell_type": "code",
      "source": [
        "# One hot encoding the DataFrame so its all numbers\n",
        "insurance_one_hot = pd.get_dummies(insurance)\n",
        "insurance_one_hot.head()"
      ],
      "metadata": {
        "colab": {
          "base_uri": "https://localhost:8080/",
          "height": 226
        },
        "id": "i6wm5tvvMtf1",
        "outputId": "68260550-b9dd-404d-ea08-a4def4095ddc"
      },
      "execution_count": 70,
      "outputs": [
        {
          "output_type": "execute_result",
          "data": {
            "text/plain": [
              "   age     bmi  children      charges  sex_female  sex_male  smoker_no  \\\n",
              "0   19  27.900         0  16884.92400           1         0          0   \n",
              "1   18  33.770         1   1725.55230           0         1          1   \n",
              "2   28  33.000         3   4449.46200           0         1          1   \n",
              "3   33  22.705         0  21984.47061           0         1          1   \n",
              "4   32  28.880         0   3866.85520           0         1          1   \n",
              "\n",
              "   smoker_yes  region_northeast  region_northwest  region_southeast  \\\n",
              "0           1                 0                 0                 0   \n",
              "1           0                 0                 0                 1   \n",
              "2           0                 0                 0                 1   \n",
              "3           0                 0                 1                 0   \n",
              "4           0                 0                 1                 0   \n",
              "\n",
              "   region_southwest  \n",
              "0                 1  \n",
              "1                 0  \n",
              "2                 0  \n",
              "3                 0  \n",
              "4                 0  "
            ],
            "text/html": [
              "\n",
              "  <div id=\"df-c0044c41-efad-45ac-97b0-0b60c9798f76\" class=\"colab-df-container\">\n",
              "    <div>\n",
              "<style scoped>\n",
              "    .dataframe tbody tr th:only-of-type {\n",
              "        vertical-align: middle;\n",
              "    }\n",
              "\n",
              "    .dataframe tbody tr th {\n",
              "        vertical-align: top;\n",
              "    }\n",
              "\n",
              "    .dataframe thead th {\n",
              "        text-align: right;\n",
              "    }\n",
              "</style>\n",
              "<table border=\"1\" class=\"dataframe\">\n",
              "  <thead>\n",
              "    <tr style=\"text-align: right;\">\n",
              "      <th></th>\n",
              "      <th>age</th>\n",
              "      <th>bmi</th>\n",
              "      <th>children</th>\n",
              "      <th>charges</th>\n",
              "      <th>sex_female</th>\n",
              "      <th>sex_male</th>\n",
              "      <th>smoker_no</th>\n",
              "      <th>smoker_yes</th>\n",
              "      <th>region_northeast</th>\n",
              "      <th>region_northwest</th>\n",
              "      <th>region_southeast</th>\n",
              "      <th>region_southwest</th>\n",
              "    </tr>\n",
              "  </thead>\n",
              "  <tbody>\n",
              "    <tr>\n",
              "      <th>0</th>\n",
              "      <td>19</td>\n",
              "      <td>27.900</td>\n",
              "      <td>0</td>\n",
              "      <td>16884.92400</td>\n",
              "      <td>1</td>\n",
              "      <td>0</td>\n",
              "      <td>0</td>\n",
              "      <td>1</td>\n",
              "      <td>0</td>\n",
              "      <td>0</td>\n",
              "      <td>0</td>\n",
              "      <td>1</td>\n",
              "    </tr>\n",
              "    <tr>\n",
              "      <th>1</th>\n",
              "      <td>18</td>\n",
              "      <td>33.770</td>\n",
              "      <td>1</td>\n",
              "      <td>1725.55230</td>\n",
              "      <td>0</td>\n",
              "      <td>1</td>\n",
              "      <td>1</td>\n",
              "      <td>0</td>\n",
              "      <td>0</td>\n",
              "      <td>0</td>\n",
              "      <td>1</td>\n",
              "      <td>0</td>\n",
              "    </tr>\n",
              "    <tr>\n",
              "      <th>2</th>\n",
              "      <td>28</td>\n",
              "      <td>33.000</td>\n",
              "      <td>3</td>\n",
              "      <td>4449.46200</td>\n",
              "      <td>0</td>\n",
              "      <td>1</td>\n",
              "      <td>1</td>\n",
              "      <td>0</td>\n",
              "      <td>0</td>\n",
              "      <td>0</td>\n",
              "      <td>1</td>\n",
              "      <td>0</td>\n",
              "    </tr>\n",
              "    <tr>\n",
              "      <th>3</th>\n",
              "      <td>33</td>\n",
              "      <td>22.705</td>\n",
              "      <td>0</td>\n",
              "      <td>21984.47061</td>\n",
              "      <td>0</td>\n",
              "      <td>1</td>\n",
              "      <td>1</td>\n",
              "      <td>0</td>\n",
              "      <td>0</td>\n",
              "      <td>1</td>\n",
              "      <td>0</td>\n",
              "      <td>0</td>\n",
              "    </tr>\n",
              "    <tr>\n",
              "      <th>4</th>\n",
              "      <td>32</td>\n",
              "      <td>28.880</td>\n",
              "      <td>0</td>\n",
              "      <td>3866.85520</td>\n",
              "      <td>0</td>\n",
              "      <td>1</td>\n",
              "      <td>1</td>\n",
              "      <td>0</td>\n",
              "      <td>0</td>\n",
              "      <td>1</td>\n",
              "      <td>0</td>\n",
              "      <td>0</td>\n",
              "    </tr>\n",
              "  </tbody>\n",
              "</table>\n",
              "</div>\n",
              "    <div class=\"colab-df-buttons\">\n",
              "\n",
              "  <div class=\"colab-df-container\">\n",
              "    <button class=\"colab-df-convert\" onclick=\"convertToInteractive('df-c0044c41-efad-45ac-97b0-0b60c9798f76')\"\n",
              "            title=\"Convert this dataframe to an interactive table.\"\n",
              "            style=\"display:none;\">\n",
              "\n",
              "  <svg xmlns=\"http://www.w3.org/2000/svg\" height=\"24px\" viewBox=\"0 -960 960 960\">\n",
              "    <path d=\"M120-120v-720h720v720H120Zm60-500h600v-160H180v160Zm220 220h160v-160H400v160Zm0 220h160v-160H400v160ZM180-400h160v-160H180v160Zm440 0h160v-160H620v160ZM180-180h160v-160H180v160Zm440 0h160v-160H620v160Z\"/>\n",
              "  </svg>\n",
              "    </button>\n",
              "\n",
              "  <style>\n",
              "    .colab-df-container {\n",
              "      display:flex;\n",
              "      gap: 12px;\n",
              "    }\n",
              "\n",
              "    .colab-df-convert {\n",
              "      background-color: #E8F0FE;\n",
              "      border: none;\n",
              "      border-radius: 50%;\n",
              "      cursor: pointer;\n",
              "      display: none;\n",
              "      fill: #1967D2;\n",
              "      height: 32px;\n",
              "      padding: 0 0 0 0;\n",
              "      width: 32px;\n",
              "    }\n",
              "\n",
              "    .colab-df-convert:hover {\n",
              "      background-color: #E2EBFA;\n",
              "      box-shadow: 0px 1px 2px rgba(60, 64, 67, 0.3), 0px 1px 3px 1px rgba(60, 64, 67, 0.15);\n",
              "      fill: #174EA6;\n",
              "    }\n",
              "\n",
              "    .colab-df-buttons div {\n",
              "      margin-bottom: 4px;\n",
              "    }\n",
              "\n",
              "    [theme=dark] .colab-df-convert {\n",
              "      background-color: #3B4455;\n",
              "      fill: #D2E3FC;\n",
              "    }\n",
              "\n",
              "    [theme=dark] .colab-df-convert:hover {\n",
              "      background-color: #434B5C;\n",
              "      box-shadow: 0px 1px 3px 1px rgba(0, 0, 0, 0.15);\n",
              "      filter: drop-shadow(0px 1px 2px rgba(0, 0, 0, 0.3));\n",
              "      fill: #FFFFFF;\n",
              "    }\n",
              "  </style>\n",
              "\n",
              "    <script>\n",
              "      const buttonEl =\n",
              "        document.querySelector('#df-c0044c41-efad-45ac-97b0-0b60c9798f76 button.colab-df-convert');\n",
              "      buttonEl.style.display =\n",
              "        google.colab.kernel.accessAllowed ? 'block' : 'none';\n",
              "\n",
              "      async function convertToInteractive(key) {\n",
              "        const element = document.querySelector('#df-c0044c41-efad-45ac-97b0-0b60c9798f76');\n",
              "        const dataTable =\n",
              "          await google.colab.kernel.invokeFunction('convertToInteractive',\n",
              "                                                    [key], {});\n",
              "        if (!dataTable) return;\n",
              "\n",
              "        const docLinkHtml = 'Like what you see? Visit the ' +\n",
              "          '<a target=\"_blank\" href=https://colab.research.google.com/notebooks/data_table.ipynb>data table notebook</a>'\n",
              "          + ' to learn more about interactive tables.';\n",
              "        element.innerHTML = '';\n",
              "        dataTable['output_type'] = 'display_data';\n",
              "        await google.colab.output.renderOutput(dataTable, element);\n",
              "        const docLink = document.createElement('div');\n",
              "        docLink.innerHTML = docLinkHtml;\n",
              "        element.appendChild(docLink);\n",
              "      }\n",
              "    </script>\n",
              "  </div>\n",
              "\n",
              "\n",
              "<div id=\"df-a240ae70-aaef-4bd7-8101-573e7363a487\">\n",
              "  <button class=\"colab-df-quickchart\" onclick=\"quickchart('df-a240ae70-aaef-4bd7-8101-573e7363a487')\"\n",
              "            title=\"Suggest charts\"\n",
              "            style=\"display:none;\">\n",
              "\n",
              "<svg xmlns=\"http://www.w3.org/2000/svg\" height=\"24px\"viewBox=\"0 0 24 24\"\n",
              "     width=\"24px\">\n",
              "    <g>\n",
              "        <path d=\"M19 3H5c-1.1 0-2 .9-2 2v14c0 1.1.9 2 2 2h14c1.1 0 2-.9 2-2V5c0-1.1-.9-2-2-2zM9 17H7v-7h2v7zm4 0h-2V7h2v10zm4 0h-2v-4h2v4z\"/>\n",
              "    </g>\n",
              "</svg>\n",
              "  </button>\n",
              "\n",
              "<style>\n",
              "  .colab-df-quickchart {\n",
              "      --bg-color: #E8F0FE;\n",
              "      --fill-color: #1967D2;\n",
              "      --hover-bg-color: #E2EBFA;\n",
              "      --hover-fill-color: #174EA6;\n",
              "      --disabled-fill-color: #AAA;\n",
              "      --disabled-bg-color: #DDD;\n",
              "  }\n",
              "\n",
              "  [theme=dark] .colab-df-quickchart {\n",
              "      --bg-color: #3B4455;\n",
              "      --fill-color: #D2E3FC;\n",
              "      --hover-bg-color: #434B5C;\n",
              "      --hover-fill-color: #FFFFFF;\n",
              "      --disabled-bg-color: #3B4455;\n",
              "      --disabled-fill-color: #666;\n",
              "  }\n",
              "\n",
              "  .colab-df-quickchart {\n",
              "    background-color: var(--bg-color);\n",
              "    border: none;\n",
              "    border-radius: 50%;\n",
              "    cursor: pointer;\n",
              "    display: none;\n",
              "    fill: var(--fill-color);\n",
              "    height: 32px;\n",
              "    padding: 0;\n",
              "    width: 32px;\n",
              "  }\n",
              "\n",
              "  .colab-df-quickchart:hover {\n",
              "    background-color: var(--hover-bg-color);\n",
              "    box-shadow: 0 1px 2px rgba(60, 64, 67, 0.3), 0 1px 3px 1px rgba(60, 64, 67, 0.15);\n",
              "    fill: var(--button-hover-fill-color);\n",
              "  }\n",
              "\n",
              "  .colab-df-quickchart-complete:disabled,\n",
              "  .colab-df-quickchart-complete:disabled:hover {\n",
              "    background-color: var(--disabled-bg-color);\n",
              "    fill: var(--disabled-fill-color);\n",
              "    box-shadow: none;\n",
              "  }\n",
              "\n",
              "  .colab-df-spinner {\n",
              "    border: 2px solid var(--fill-color);\n",
              "    border-color: transparent;\n",
              "    border-bottom-color: var(--fill-color);\n",
              "    animation:\n",
              "      spin 1s steps(1) infinite;\n",
              "  }\n",
              "\n",
              "  @keyframes spin {\n",
              "    0% {\n",
              "      border-color: transparent;\n",
              "      border-bottom-color: var(--fill-color);\n",
              "      border-left-color: var(--fill-color);\n",
              "    }\n",
              "    20% {\n",
              "      border-color: transparent;\n",
              "      border-left-color: var(--fill-color);\n",
              "      border-top-color: var(--fill-color);\n",
              "    }\n",
              "    30% {\n",
              "      border-color: transparent;\n",
              "      border-left-color: var(--fill-color);\n",
              "      border-top-color: var(--fill-color);\n",
              "      border-right-color: var(--fill-color);\n",
              "    }\n",
              "    40% {\n",
              "      border-color: transparent;\n",
              "      border-right-color: var(--fill-color);\n",
              "      border-top-color: var(--fill-color);\n",
              "    }\n",
              "    60% {\n",
              "      border-color: transparent;\n",
              "      border-right-color: var(--fill-color);\n",
              "    }\n",
              "    80% {\n",
              "      border-color: transparent;\n",
              "      border-right-color: var(--fill-color);\n",
              "      border-bottom-color: var(--fill-color);\n",
              "    }\n",
              "    90% {\n",
              "      border-color: transparent;\n",
              "      border-bottom-color: var(--fill-color);\n",
              "    }\n",
              "  }\n",
              "</style>\n",
              "\n",
              "  <script>\n",
              "    async function quickchart(key) {\n",
              "      const quickchartButtonEl =\n",
              "        document.querySelector('#' + key + ' button');\n",
              "      quickchartButtonEl.disabled = true;  // To prevent multiple clicks.\n",
              "      quickchartButtonEl.classList.add('colab-df-spinner');\n",
              "      try {\n",
              "        const charts = await google.colab.kernel.invokeFunction(\n",
              "            'suggestCharts', [key], {});\n",
              "      } catch (error) {\n",
              "        console.error('Error during call to suggestCharts:', error);\n",
              "      }\n",
              "      quickchartButtonEl.classList.remove('colab-df-spinner');\n",
              "      quickchartButtonEl.classList.add('colab-df-quickchart-complete');\n",
              "    }\n",
              "    (() => {\n",
              "      let quickchartButtonEl =\n",
              "        document.querySelector('#df-a240ae70-aaef-4bd7-8101-573e7363a487 button');\n",
              "      quickchartButtonEl.style.display =\n",
              "        google.colab.kernel.accessAllowed ? 'block' : 'none';\n",
              "    })();\n",
              "  </script>\n",
              "</div>\n",
              "    </div>\n",
              "  </div>\n"
            ]
          },
          "metadata": {},
          "execution_count": 70
        }
      ]
    },
    {
      "cell_type": "code",
      "source": [
        "# Create X and y values\n",
        "X = insurance_one_hot.drop(\"charges\", axis = 1)\n",
        "y = insurance_one_hot[\"charges\"]"
      ],
      "metadata": {
        "id": "p4C2R5PZNswH"
      },
      "execution_count": 71,
      "outputs": []
    },
    {
      "cell_type": "code",
      "source": [
        "# View X and y\n",
        "X.head()"
      ],
      "metadata": {
        "colab": {
          "base_uri": "https://localhost:8080/",
          "height": 226
        },
        "id": "gmwJOGNqOc23",
        "outputId": "0091d097-99f7-41b1-8182-7f94c52dffa3"
      },
      "execution_count": 73,
      "outputs": [
        {
          "output_type": "execute_result",
          "data": {
            "text/plain": [
              "   age     bmi  children  sex_female  sex_male  smoker_no  smoker_yes  \\\n",
              "0   19  27.900         0           1         0          0           1   \n",
              "1   18  33.770         1           0         1          1           0   \n",
              "2   28  33.000         3           0         1          1           0   \n",
              "3   33  22.705         0           0         1          1           0   \n",
              "4   32  28.880         0           0         1          1           0   \n",
              "\n",
              "   region_northeast  region_northwest  region_southeast  region_southwest  \n",
              "0                 0                 0                 0                 1  \n",
              "1                 0                 0                 1                 0  \n",
              "2                 0                 0                 1                 0  \n",
              "3                 0                 1                 0                 0  \n",
              "4                 0                 1                 0                 0  "
            ],
            "text/html": [
              "\n",
              "  <div id=\"df-6b1385fd-f4e8-4811-8011-cdb53e5baa8b\" class=\"colab-df-container\">\n",
              "    <div>\n",
              "<style scoped>\n",
              "    .dataframe tbody tr th:only-of-type {\n",
              "        vertical-align: middle;\n",
              "    }\n",
              "\n",
              "    .dataframe tbody tr th {\n",
              "        vertical-align: top;\n",
              "    }\n",
              "\n",
              "    .dataframe thead th {\n",
              "        text-align: right;\n",
              "    }\n",
              "</style>\n",
              "<table border=\"1\" class=\"dataframe\">\n",
              "  <thead>\n",
              "    <tr style=\"text-align: right;\">\n",
              "      <th></th>\n",
              "      <th>age</th>\n",
              "      <th>bmi</th>\n",
              "      <th>children</th>\n",
              "      <th>sex_female</th>\n",
              "      <th>sex_male</th>\n",
              "      <th>smoker_no</th>\n",
              "      <th>smoker_yes</th>\n",
              "      <th>region_northeast</th>\n",
              "      <th>region_northwest</th>\n",
              "      <th>region_southeast</th>\n",
              "      <th>region_southwest</th>\n",
              "    </tr>\n",
              "  </thead>\n",
              "  <tbody>\n",
              "    <tr>\n",
              "      <th>0</th>\n",
              "      <td>19</td>\n",
              "      <td>27.900</td>\n",
              "      <td>0</td>\n",
              "      <td>1</td>\n",
              "      <td>0</td>\n",
              "      <td>0</td>\n",
              "      <td>1</td>\n",
              "      <td>0</td>\n",
              "      <td>0</td>\n",
              "      <td>0</td>\n",
              "      <td>1</td>\n",
              "    </tr>\n",
              "    <tr>\n",
              "      <th>1</th>\n",
              "      <td>18</td>\n",
              "      <td>33.770</td>\n",
              "      <td>1</td>\n",
              "      <td>0</td>\n",
              "      <td>1</td>\n",
              "      <td>1</td>\n",
              "      <td>0</td>\n",
              "      <td>0</td>\n",
              "      <td>0</td>\n",
              "      <td>1</td>\n",
              "      <td>0</td>\n",
              "    </tr>\n",
              "    <tr>\n",
              "      <th>2</th>\n",
              "      <td>28</td>\n",
              "      <td>33.000</td>\n",
              "      <td>3</td>\n",
              "      <td>0</td>\n",
              "      <td>1</td>\n",
              "      <td>1</td>\n",
              "      <td>0</td>\n",
              "      <td>0</td>\n",
              "      <td>0</td>\n",
              "      <td>1</td>\n",
              "      <td>0</td>\n",
              "    </tr>\n",
              "    <tr>\n",
              "      <th>3</th>\n",
              "      <td>33</td>\n",
              "      <td>22.705</td>\n",
              "      <td>0</td>\n",
              "      <td>0</td>\n",
              "      <td>1</td>\n",
              "      <td>1</td>\n",
              "      <td>0</td>\n",
              "      <td>0</td>\n",
              "      <td>1</td>\n",
              "      <td>0</td>\n",
              "      <td>0</td>\n",
              "    </tr>\n",
              "    <tr>\n",
              "      <th>4</th>\n",
              "      <td>32</td>\n",
              "      <td>28.880</td>\n",
              "      <td>0</td>\n",
              "      <td>0</td>\n",
              "      <td>1</td>\n",
              "      <td>1</td>\n",
              "      <td>0</td>\n",
              "      <td>0</td>\n",
              "      <td>1</td>\n",
              "      <td>0</td>\n",
              "      <td>0</td>\n",
              "    </tr>\n",
              "  </tbody>\n",
              "</table>\n",
              "</div>\n",
              "    <div class=\"colab-df-buttons\">\n",
              "\n",
              "  <div class=\"colab-df-container\">\n",
              "    <button class=\"colab-df-convert\" onclick=\"convertToInteractive('df-6b1385fd-f4e8-4811-8011-cdb53e5baa8b')\"\n",
              "            title=\"Convert this dataframe to an interactive table.\"\n",
              "            style=\"display:none;\">\n",
              "\n",
              "  <svg xmlns=\"http://www.w3.org/2000/svg\" height=\"24px\" viewBox=\"0 -960 960 960\">\n",
              "    <path d=\"M120-120v-720h720v720H120Zm60-500h600v-160H180v160Zm220 220h160v-160H400v160Zm0 220h160v-160H400v160ZM180-400h160v-160H180v160Zm440 0h160v-160H620v160ZM180-180h160v-160H180v160Zm440 0h160v-160H620v160Z\"/>\n",
              "  </svg>\n",
              "    </button>\n",
              "\n",
              "  <style>\n",
              "    .colab-df-container {\n",
              "      display:flex;\n",
              "      gap: 12px;\n",
              "    }\n",
              "\n",
              "    .colab-df-convert {\n",
              "      background-color: #E8F0FE;\n",
              "      border: none;\n",
              "      border-radius: 50%;\n",
              "      cursor: pointer;\n",
              "      display: none;\n",
              "      fill: #1967D2;\n",
              "      height: 32px;\n",
              "      padding: 0 0 0 0;\n",
              "      width: 32px;\n",
              "    }\n",
              "\n",
              "    .colab-df-convert:hover {\n",
              "      background-color: #E2EBFA;\n",
              "      box-shadow: 0px 1px 2px rgba(60, 64, 67, 0.3), 0px 1px 3px 1px rgba(60, 64, 67, 0.15);\n",
              "      fill: #174EA6;\n",
              "    }\n",
              "\n",
              "    .colab-df-buttons div {\n",
              "      margin-bottom: 4px;\n",
              "    }\n",
              "\n",
              "    [theme=dark] .colab-df-convert {\n",
              "      background-color: #3B4455;\n",
              "      fill: #D2E3FC;\n",
              "    }\n",
              "\n",
              "    [theme=dark] .colab-df-convert:hover {\n",
              "      background-color: #434B5C;\n",
              "      box-shadow: 0px 1px 3px 1px rgba(0, 0, 0, 0.15);\n",
              "      filter: drop-shadow(0px 1px 2px rgba(0, 0, 0, 0.3));\n",
              "      fill: #FFFFFF;\n",
              "    }\n",
              "  </style>\n",
              "\n",
              "    <script>\n",
              "      const buttonEl =\n",
              "        document.querySelector('#df-6b1385fd-f4e8-4811-8011-cdb53e5baa8b button.colab-df-convert');\n",
              "      buttonEl.style.display =\n",
              "        google.colab.kernel.accessAllowed ? 'block' : 'none';\n",
              "\n",
              "      async function convertToInteractive(key) {\n",
              "        const element = document.querySelector('#df-6b1385fd-f4e8-4811-8011-cdb53e5baa8b');\n",
              "        const dataTable =\n",
              "          await google.colab.kernel.invokeFunction('convertToInteractive',\n",
              "                                                    [key], {});\n",
              "        if (!dataTable) return;\n",
              "\n",
              "        const docLinkHtml = 'Like what you see? Visit the ' +\n",
              "          '<a target=\"_blank\" href=https://colab.research.google.com/notebooks/data_table.ipynb>data table notebook</a>'\n",
              "          + ' to learn more about interactive tables.';\n",
              "        element.innerHTML = '';\n",
              "        dataTable['output_type'] = 'display_data';\n",
              "        await google.colab.output.renderOutput(dataTable, element);\n",
              "        const docLink = document.createElement('div');\n",
              "        docLink.innerHTML = docLinkHtml;\n",
              "        element.appendChild(docLink);\n",
              "      }\n",
              "    </script>\n",
              "  </div>\n",
              "\n",
              "\n",
              "<div id=\"df-12bac617-f867-4abe-a125-8b896177bdba\">\n",
              "  <button class=\"colab-df-quickchart\" onclick=\"quickchart('df-12bac617-f867-4abe-a125-8b896177bdba')\"\n",
              "            title=\"Suggest charts\"\n",
              "            style=\"display:none;\">\n",
              "\n",
              "<svg xmlns=\"http://www.w3.org/2000/svg\" height=\"24px\"viewBox=\"0 0 24 24\"\n",
              "     width=\"24px\">\n",
              "    <g>\n",
              "        <path d=\"M19 3H5c-1.1 0-2 .9-2 2v14c0 1.1.9 2 2 2h14c1.1 0 2-.9 2-2V5c0-1.1-.9-2-2-2zM9 17H7v-7h2v7zm4 0h-2V7h2v10zm4 0h-2v-4h2v4z\"/>\n",
              "    </g>\n",
              "</svg>\n",
              "  </button>\n",
              "\n",
              "<style>\n",
              "  .colab-df-quickchart {\n",
              "      --bg-color: #E8F0FE;\n",
              "      --fill-color: #1967D2;\n",
              "      --hover-bg-color: #E2EBFA;\n",
              "      --hover-fill-color: #174EA6;\n",
              "      --disabled-fill-color: #AAA;\n",
              "      --disabled-bg-color: #DDD;\n",
              "  }\n",
              "\n",
              "  [theme=dark] .colab-df-quickchart {\n",
              "      --bg-color: #3B4455;\n",
              "      --fill-color: #D2E3FC;\n",
              "      --hover-bg-color: #434B5C;\n",
              "      --hover-fill-color: #FFFFFF;\n",
              "      --disabled-bg-color: #3B4455;\n",
              "      --disabled-fill-color: #666;\n",
              "  }\n",
              "\n",
              "  .colab-df-quickchart {\n",
              "    background-color: var(--bg-color);\n",
              "    border: none;\n",
              "    border-radius: 50%;\n",
              "    cursor: pointer;\n",
              "    display: none;\n",
              "    fill: var(--fill-color);\n",
              "    height: 32px;\n",
              "    padding: 0;\n",
              "    width: 32px;\n",
              "  }\n",
              "\n",
              "  .colab-df-quickchart:hover {\n",
              "    background-color: var(--hover-bg-color);\n",
              "    box-shadow: 0 1px 2px rgba(60, 64, 67, 0.3), 0 1px 3px 1px rgba(60, 64, 67, 0.15);\n",
              "    fill: var(--button-hover-fill-color);\n",
              "  }\n",
              "\n",
              "  .colab-df-quickchart-complete:disabled,\n",
              "  .colab-df-quickchart-complete:disabled:hover {\n",
              "    background-color: var(--disabled-bg-color);\n",
              "    fill: var(--disabled-fill-color);\n",
              "    box-shadow: none;\n",
              "  }\n",
              "\n",
              "  .colab-df-spinner {\n",
              "    border: 2px solid var(--fill-color);\n",
              "    border-color: transparent;\n",
              "    border-bottom-color: var(--fill-color);\n",
              "    animation:\n",
              "      spin 1s steps(1) infinite;\n",
              "  }\n",
              "\n",
              "  @keyframes spin {\n",
              "    0% {\n",
              "      border-color: transparent;\n",
              "      border-bottom-color: var(--fill-color);\n",
              "      border-left-color: var(--fill-color);\n",
              "    }\n",
              "    20% {\n",
              "      border-color: transparent;\n",
              "      border-left-color: var(--fill-color);\n",
              "      border-top-color: var(--fill-color);\n",
              "    }\n",
              "    30% {\n",
              "      border-color: transparent;\n",
              "      border-left-color: var(--fill-color);\n",
              "      border-top-color: var(--fill-color);\n",
              "      border-right-color: var(--fill-color);\n",
              "    }\n",
              "    40% {\n",
              "      border-color: transparent;\n",
              "      border-right-color: var(--fill-color);\n",
              "      border-top-color: var(--fill-color);\n",
              "    }\n",
              "    60% {\n",
              "      border-color: transparent;\n",
              "      border-right-color: var(--fill-color);\n",
              "    }\n",
              "    80% {\n",
              "      border-color: transparent;\n",
              "      border-right-color: var(--fill-color);\n",
              "      border-bottom-color: var(--fill-color);\n",
              "    }\n",
              "    90% {\n",
              "      border-color: transparent;\n",
              "      border-bottom-color: var(--fill-color);\n",
              "    }\n",
              "  }\n",
              "</style>\n",
              "\n",
              "  <script>\n",
              "    async function quickchart(key) {\n",
              "      const quickchartButtonEl =\n",
              "        document.querySelector('#' + key + ' button');\n",
              "      quickchartButtonEl.disabled = true;  // To prevent multiple clicks.\n",
              "      quickchartButtonEl.classList.add('colab-df-spinner');\n",
              "      try {\n",
              "        const charts = await google.colab.kernel.invokeFunction(\n",
              "            'suggestCharts', [key], {});\n",
              "      } catch (error) {\n",
              "        console.error('Error during call to suggestCharts:', error);\n",
              "      }\n",
              "      quickchartButtonEl.classList.remove('colab-df-spinner');\n",
              "      quickchartButtonEl.classList.add('colab-df-quickchart-complete');\n",
              "    }\n",
              "    (() => {\n",
              "      let quickchartButtonEl =\n",
              "        document.querySelector('#df-12bac617-f867-4abe-a125-8b896177bdba button');\n",
              "      quickchartButtonEl.style.display =\n",
              "        google.colab.kernel.accessAllowed ? 'block' : 'none';\n",
              "    })();\n",
              "  </script>\n",
              "</div>\n",
              "    </div>\n",
              "  </div>\n"
            ]
          },
          "metadata": {},
          "execution_count": 73
        }
      ]
    },
    {
      "cell_type": "code",
      "source": [
        "y.head()"
      ],
      "metadata": {
        "colab": {
          "base_uri": "https://localhost:8080/"
        },
        "id": "RvmSdvgCOfst",
        "outputId": "c4a615cb-b77d-4b8c-ad33-156d1ce863ad"
      },
      "execution_count": 74,
      "outputs": [
        {
          "output_type": "execute_result",
          "data": {
            "text/plain": [
              "0    16884.92400\n",
              "1     1725.55230\n",
              "2     4449.46200\n",
              "3    21984.47061\n",
              "4     3866.85520\n",
              "Name: charges, dtype: float64"
            ]
          },
          "metadata": {},
          "execution_count": 74
        }
      ]
    },
    {
      "cell_type": "code",
      "source": [
        "# Create training and test split\n",
        "from sklearn.model_selection import train_test_split\n",
        "\n",
        "X_train, X_test, y_train, y_test = train_test_split(X, y, test_size = 0.2, random_state = 42)\n",
        "len(X), len(X_train), len(X_test)"
      ],
      "metadata": {
        "colab": {
          "base_uri": "https://localhost:8080/"
        },
        "id": "RRPBqHkrOjZ1",
        "outputId": "2e1f1b29-1a16-4a80-a79b-32df6553ebae"
      },
      "execution_count": 76,
      "outputs": [
        {
          "output_type": "execute_result",
          "data": {
            "text/plain": [
              "(1338, 1070, 268)"
            ]
          },
          "metadata": {},
          "execution_count": 76
        }
      ]
    },
    {
      "cell_type": "code",
      "source": [
        "# Build a neural network\n",
        "tf.random.set_seed(42)\n",
        "\n",
        "# 1. Create a model\n",
        "insurance_model = tf.keras.Sequential([\n",
        "    tf.keras.layers.Dense(10),\n",
        "    tf.keras.layers.Dense(1)\n",
        "])\n",
        "\n",
        "# 2. Compile the model\n",
        "insurance_model.compile(loss = tf.keras.losses.mae,\n",
        "                  optimizer = tf.keras.optimizers.SGD(),\n",
        "                  metrics = [\"mae\"])\n",
        "\n",
        "# 3. Fit the model\n",
        "insurance_model.fit(X_train, y_train, epochs = 100)"
      ],
      "metadata": {
        "colab": {
          "base_uri": "https://localhost:8080/"
        },
        "id": "gqzFMc4-O0-0",
        "outputId": "0db0a9b5-f7a7-424f-aa06-0ba96cf30211"
      },
      "execution_count": 78,
      "outputs": [
        {
          "output_type": "stream",
          "name": "stdout",
          "text": [
            "Epoch 1/100\n",
            "34/34 [==============================] - 2s 4ms/step - loss: 8585.5898 - mae: 8585.5898\n",
            "Epoch 2/100\n",
            "34/34 [==============================] - 0s 7ms/step - loss: 7878.2329 - mae: 7878.2329\n",
            "Epoch 3/100\n",
            "34/34 [==============================] - 0s 5ms/step - loss: 7592.4971 - mae: 7592.4971\n",
            "Epoch 4/100\n",
            "34/34 [==============================] - 0s 3ms/step - loss: 7555.9609 - mae: 7555.9609\n",
            "Epoch 5/100\n",
            "34/34 [==============================] - 0s 4ms/step - loss: 7611.7544 - mae: 7611.7544\n",
            "Epoch 6/100\n",
            "34/34 [==============================] - 0s 3ms/step - loss: 7578.0479 - mae: 7578.0479\n",
            "Epoch 7/100\n",
            "34/34 [==============================] - 0s 4ms/step - loss: 7513.8677 - mae: 7513.8677\n",
            "Epoch 8/100\n",
            "34/34 [==============================] - 0s 5ms/step - loss: 7799.4614 - mae: 7799.4614\n",
            "Epoch 9/100\n",
            "34/34 [==============================] - 0s 4ms/step - loss: 7605.6621 - mae: 7605.6621\n",
            "Epoch 10/100\n",
            "34/34 [==============================] - 0s 3ms/step - loss: 7656.4541 - mae: 7656.4541\n",
            "Epoch 11/100\n",
            "34/34 [==============================] - 0s 4ms/step - loss: 7622.6660 - mae: 7622.6660\n",
            "Epoch 12/100\n",
            "34/34 [==============================] - 0s 3ms/step - loss: 7634.6226 - mae: 7634.6226\n",
            "Epoch 13/100\n",
            "34/34 [==============================] - 0s 4ms/step - loss: 7678.9707 - mae: 7678.9707\n",
            "Epoch 14/100\n",
            "34/34 [==============================] - 0s 4ms/step - loss: 7808.0381 - mae: 7808.0381\n",
            "Epoch 15/100\n",
            "34/34 [==============================] - 0s 4ms/step - loss: 7378.4497 - mae: 7378.4497\n",
            "Epoch 16/100\n",
            "34/34 [==============================] - 0s 8ms/step - loss: 7667.7095 - mae: 7667.7095\n",
            "Epoch 17/100\n",
            "34/34 [==============================] - 0s 8ms/step - loss: 7523.7441 - mae: 7523.7441\n",
            "Epoch 18/100\n",
            "34/34 [==============================] - 0s 4ms/step - loss: 7813.9980 - mae: 7813.9980\n",
            "Epoch 19/100\n",
            "34/34 [==============================] - 0s 5ms/step - loss: 7494.2363 - mae: 7494.2363\n",
            "Epoch 20/100\n",
            "34/34 [==============================] - 0s 3ms/step - loss: 7880.5122 - mae: 7880.5122\n",
            "Epoch 21/100\n",
            "34/34 [==============================] - 0s 4ms/step - loss: 7491.8999 - mae: 7491.8999\n",
            "Epoch 22/100\n",
            "34/34 [==============================] - 0s 3ms/step - loss: 7897.5942 - mae: 7897.5942\n",
            "Epoch 23/100\n",
            "34/34 [==============================] - 0s 4ms/step - loss: 7648.0815 - mae: 7648.0815\n",
            "Epoch 24/100\n",
            "34/34 [==============================] - 0s 3ms/step - loss: 7557.8745 - mae: 7557.8745\n",
            "Epoch 25/100\n",
            "34/34 [==============================] - 0s 4ms/step - loss: 7686.8301 - mae: 7686.8301\n",
            "Epoch 26/100\n",
            "34/34 [==============================] - 0s 4ms/step - loss: 7675.6592 - mae: 7675.6592\n",
            "Epoch 27/100\n",
            "34/34 [==============================] - 0s 3ms/step - loss: 7538.9990 - mae: 7538.9990\n",
            "Epoch 28/100\n",
            "34/34 [==============================] - 0s 4ms/step - loss: 7331.3564 - mae: 7331.3564\n",
            "Epoch 29/100\n",
            "34/34 [==============================] - 0s 4ms/step - loss: 7687.8647 - mae: 7687.8647\n",
            "Epoch 30/100\n",
            "34/34 [==============================] - 0s 4ms/step - loss: 7439.3784 - mae: 7439.3784\n",
            "Epoch 31/100\n",
            "34/34 [==============================] - 0s 2ms/step - loss: 7608.4478 - mae: 7608.4478\n",
            "Epoch 32/100\n",
            "34/34 [==============================] - 0s 2ms/step - loss: 7472.5137 - mae: 7472.5137\n",
            "Epoch 33/100\n",
            "34/34 [==============================] - 0s 3ms/step - loss: 7375.7891 - mae: 7375.7891\n",
            "Epoch 34/100\n",
            "34/34 [==============================] - 0s 4ms/step - loss: 7566.7676 - mae: 7566.7676\n",
            "Epoch 35/100\n",
            "34/34 [==============================] - 0s 4ms/step - loss: 7590.7798 - mae: 7590.7798\n",
            "Epoch 36/100\n",
            "34/34 [==============================] - 0s 4ms/step - loss: 7564.6807 - mae: 7564.6807\n",
            "Epoch 37/100\n",
            "34/34 [==============================] - 0s 6ms/step - loss: 7631.6177 - mae: 7631.6177\n",
            "Epoch 38/100\n",
            "34/34 [==============================] - 0s 4ms/step - loss: 7403.8120 - mae: 7403.8120\n",
            "Epoch 39/100\n",
            "34/34 [==============================] - 0s 3ms/step - loss: 7363.3638 - mae: 7363.3638\n",
            "Epoch 40/100\n",
            "34/34 [==============================] - 0s 3ms/step - loss: 7301.2153 - mae: 7301.2153\n",
            "Epoch 41/100\n",
            "34/34 [==============================] - 0s 3ms/step - loss: 7677.9604 - mae: 7677.9604\n",
            "Epoch 42/100\n",
            "34/34 [==============================] - 0s 4ms/step - loss: 7359.7183 - mae: 7359.7183\n",
            "Epoch 43/100\n",
            "34/34 [==============================] - 0s 4ms/step - loss: 7695.9131 - mae: 7695.9131\n",
            "Epoch 44/100\n",
            "34/34 [==============================] - 0s 4ms/step - loss: 7507.2949 - mae: 7507.2949\n",
            "Epoch 45/100\n",
            "34/34 [==============================] - 0s 4ms/step - loss: 7274.8662 - mae: 7274.8662\n",
            "Epoch 46/100\n",
            "34/34 [==============================] - 0s 4ms/step - loss: 7463.8979 - mae: 7463.8979\n",
            "Epoch 47/100\n",
            "34/34 [==============================] - 0s 4ms/step - loss: 7431.3179 - mae: 7431.3179\n",
            "Epoch 48/100\n",
            "34/34 [==============================] - 0s 4ms/step - loss: 7622.3765 - mae: 7622.3765\n",
            "Epoch 49/100\n",
            "34/34 [==============================] - 0s 4ms/step - loss: 7541.1265 - mae: 7541.1265\n",
            "Epoch 50/100\n",
            "34/34 [==============================] - 0s 3ms/step - loss: 7476.6860 - mae: 7476.6860\n",
            "Epoch 51/100\n",
            "34/34 [==============================] - 0s 4ms/step - loss: 7387.9829 - mae: 7387.9829\n",
            "Epoch 52/100\n",
            "34/34 [==============================] - 0s 3ms/step - loss: 7516.3066 - mae: 7516.3066\n",
            "Epoch 53/100\n",
            "34/34 [==============================] - 0s 2ms/step - loss: 7550.8364 - mae: 7550.8364\n",
            "Epoch 54/100\n",
            "34/34 [==============================] - 0s 2ms/step - loss: 7294.3745 - mae: 7294.3745\n",
            "Epoch 55/100\n",
            "34/34 [==============================] - 0s 2ms/step - loss: 7190.5737 - mae: 7190.5737\n",
            "Epoch 56/100\n",
            "34/34 [==============================] - 0s 2ms/step - loss: 7247.3472 - mae: 7247.3472\n",
            "Epoch 57/100\n",
            "34/34 [==============================] - 0s 2ms/step - loss: 7483.5273 - mae: 7483.5273\n",
            "Epoch 58/100\n",
            "34/34 [==============================] - 0s 2ms/step - loss: 7517.2871 - mae: 7517.2871\n",
            "Epoch 59/100\n",
            "34/34 [==============================] - 0s 2ms/step - loss: 7637.4468 - mae: 7637.4468\n",
            "Epoch 60/100\n",
            "34/34 [==============================] - 0s 2ms/step - loss: 7457.8320 - mae: 7457.8320\n",
            "Epoch 61/100\n",
            "34/34 [==============================] - 0s 2ms/step - loss: 7313.0317 - mae: 7313.0317\n",
            "Epoch 62/100\n",
            "34/34 [==============================] - 0s 2ms/step - loss: 7505.3984 - mae: 7505.3984\n",
            "Epoch 63/100\n",
            "34/34 [==============================] - 0s 2ms/step - loss: 7292.0742 - mae: 7292.0742\n",
            "Epoch 64/100\n",
            "34/34 [==============================] - 0s 2ms/step - loss: 7277.9624 - mae: 7277.9624\n",
            "Epoch 65/100\n",
            "34/34 [==============================] - 0s 2ms/step - loss: 7282.6372 - mae: 7282.6372\n",
            "Epoch 66/100\n",
            "34/34 [==============================] - 0s 2ms/step - loss: 7286.9902 - mae: 7286.9902\n",
            "Epoch 67/100\n",
            "34/34 [==============================] - 0s 2ms/step - loss: 7520.1035 - mae: 7520.1035\n",
            "Epoch 68/100\n",
            "34/34 [==============================] - 0s 2ms/step - loss: 7598.5542 - mae: 7598.5542\n",
            "Epoch 69/100\n",
            "34/34 [==============================] - 0s 2ms/step - loss: 7557.7661 - mae: 7557.7661\n",
            "Epoch 70/100\n",
            "34/34 [==============================] - 0s 2ms/step - loss: 7709.2759 - mae: 7709.2759\n",
            "Epoch 71/100\n",
            "34/34 [==============================] - 0s 2ms/step - loss: 7385.1992 - mae: 7385.1992\n",
            "Epoch 72/100\n",
            "34/34 [==============================] - 0s 2ms/step - loss: 7441.6675 - mae: 7441.6675\n",
            "Epoch 73/100\n",
            "34/34 [==============================] - 0s 2ms/step - loss: 7464.6313 - mae: 7464.6313\n",
            "Epoch 74/100\n",
            "34/34 [==============================] - 0s 2ms/step - loss: 7318.9834 - mae: 7318.9834\n",
            "Epoch 75/100\n",
            "34/34 [==============================] - 0s 2ms/step - loss: 7329.6064 - mae: 7329.6064\n",
            "Epoch 76/100\n",
            "34/34 [==============================] - 0s 2ms/step - loss: 7119.9297 - mae: 7119.9297\n",
            "Epoch 77/100\n",
            "34/34 [==============================] - 0s 2ms/step - loss: 7362.9585 - mae: 7362.9585\n",
            "Epoch 78/100\n",
            "34/34 [==============================] - 0s 2ms/step - loss: 7243.6680 - mae: 7243.6680\n",
            "Epoch 79/100\n",
            "34/34 [==============================] - 0s 2ms/step - loss: 7560.2930 - mae: 7560.2930\n",
            "Epoch 80/100\n",
            "34/34 [==============================] - 0s 2ms/step - loss: 7356.5649 - mae: 7356.5649\n",
            "Epoch 81/100\n",
            "34/34 [==============================] - 0s 2ms/step - loss: 7272.6646 - mae: 7272.6646\n",
            "Epoch 82/100\n",
            "34/34 [==============================] - 0s 2ms/step - loss: 7202.1846 - mae: 7202.1846\n",
            "Epoch 83/100\n",
            "34/34 [==============================] - 0s 2ms/step - loss: 7300.7148 - mae: 7300.7148\n",
            "Epoch 84/100\n",
            "34/34 [==============================] - 0s 4ms/step - loss: 7353.6914 - mae: 7353.6914\n",
            "Epoch 85/100\n",
            "34/34 [==============================] - 0s 2ms/step - loss: 7286.0654 - mae: 7286.0654\n",
            "Epoch 86/100\n",
            "34/34 [==============================] - 0s 3ms/step - loss: 7553.9497 - mae: 7553.9497\n",
            "Epoch 87/100\n",
            "34/34 [==============================] - 0s 3ms/step - loss: 7295.6538 - mae: 7295.6538\n",
            "Epoch 88/100\n",
            "34/34 [==============================] - 0s 3ms/step - loss: 7322.4395 - mae: 7322.4395\n",
            "Epoch 89/100\n",
            "34/34 [==============================] - 0s 2ms/step - loss: 7202.8145 - mae: 7202.8145\n",
            "Epoch 90/100\n",
            "34/34 [==============================] - 0s 3ms/step - loss: 6943.7017 - mae: 6943.7017\n",
            "Epoch 91/100\n",
            "34/34 [==============================] - 0s 2ms/step - loss: 7199.4321 - mae: 7199.4321\n",
            "Epoch 92/100\n",
            "34/34 [==============================] - 0s 3ms/step - loss: 7290.7734 - mae: 7290.7734\n",
            "Epoch 93/100\n",
            "34/34 [==============================] - 0s 3ms/step - loss: 7495.1577 - mae: 7495.1577\n",
            "Epoch 94/100\n",
            "34/34 [==============================] - 0s 3ms/step - loss: 7326.0713 - mae: 7326.0713\n",
            "Epoch 95/100\n",
            "34/34 [==============================] - 0s 3ms/step - loss: 7410.3135 - mae: 7410.3135\n",
            "Epoch 96/100\n",
            "34/34 [==============================] - 0s 3ms/step - loss: 7182.2505 - mae: 7182.2505\n",
            "Epoch 97/100\n",
            "34/34 [==============================] - 0s 3ms/step - loss: 7306.4648 - mae: 7306.4648\n",
            "Epoch 98/100\n",
            "34/34 [==============================] - 0s 3ms/step - loss: 7320.3213 - mae: 7320.3213\n",
            "Epoch 99/100\n",
            "34/34 [==============================] - 0s 3ms/step - loss: 7249.5518 - mae: 7249.5518\n",
            "Epoch 100/100\n",
            "34/34 [==============================] - 0s 3ms/step - loss: 7250.4214 - mae: 7250.4214\n"
          ]
        },
        {
          "output_type": "execute_result",
          "data": {
            "text/plain": [
              "<keras.src.callbacks.History at 0x7e42e5462890>"
            ]
          },
          "metadata": {},
          "execution_count": 78
        }
      ]
    },
    {
      "cell_type": "code",
      "source": [
        "# Check the results of the insurance model on the test data\n",
        "insurance_model.evaluate(X_test, y_test)"
      ],
      "metadata": {
        "colab": {
          "base_uri": "https://localhost:8080/"
        },
        "id": "tuyRgeZOPhQI",
        "outputId": "b8394944-01d5-4471-9008-60b42cf7a326"
      },
      "execution_count": 79,
      "outputs": [
        {
          "output_type": "stream",
          "name": "stdout",
          "text": [
            "9/9 [==============================] - 0s 8ms/step - loss: 7658.2559 - mae: 7658.2559\n"
          ]
        },
        {
          "output_type": "execute_result",
          "data": {
            "text/plain": [
              "[7658.255859375, 7658.255859375]"
            ]
          },
          "metadata": {},
          "execution_count": 79
        }
      ]
    },
    {
      "cell_type": "code",
      "source": [
        "y_train.median(), y_train.mean()"
      ],
      "metadata": {
        "colab": {
          "base_uri": "https://localhost:8080/"
        },
        "id": "ayUfSUuAP6d3",
        "outputId": "e27c64f6-4eba-4a57-e5ad-ad2ea99614c5"
      },
      "execution_count": 81,
      "outputs": [
        {
          "output_type": "execute_result",
          "data": {
            "text/plain": [
              "(9575.4421, 13346.089736364485)"
            ]
          },
          "metadata": {},
          "execution_count": 81
        }
      ]
    },
    {
      "cell_type": "markdown",
      "source": [
        "To try to improve the model, trying 2 experiments:\n",
        "1. Add an extra layer with more hidden units\n",
        "2. Train for longer"
      ],
      "metadata": {
        "id": "rcXZmqw0QBuT"
      }
    },
    {
      "cell_type": "code",
      "source": [
        "# Set random seed\n",
        "tf.random.set_seed(42)\n",
        "\n",
        "# 1. Create the model\n",
        "insurance_model_2 = tf.keras.Sequential([\n",
        "    tf.keras.layers.Dense(100),\n",
        "    tf.keras.layers.Dense(10),\n",
        "    tf.keras.layers.Dense(1)\n",
        "])\n",
        "\n",
        "# 2. Compile the model\n",
        "insurance_model_2.compile(loss = tf.keras.losses.mae,\n",
        "                          optimizer = tf.keras.optimizers.Adam(),\n",
        "                          metrics = [\"mae\"])\n",
        "\n",
        "# 3. Fit the model\n",
        "insurance_model_2.fit(X_train, y_train, epochs = 100)"
      ],
      "metadata": {
        "colab": {
          "base_uri": "https://localhost:8080/"
        },
        "id": "nIQFWaaGQYe2",
        "outputId": "bb1f6fff-bdd9-429a-bdae-8522466b0262"
      },
      "execution_count": 87,
      "outputs": [
        {
          "output_type": "stream",
          "name": "stdout",
          "text": [
            "Epoch 1/100\n",
            "34/34 [==============================] - 2s 4ms/step - loss: 13294.8867 - mae: 13294.8867\n",
            "Epoch 2/100\n",
            "34/34 [==============================] - 0s 2ms/step - loss: 13139.0010 - mae: 13139.0010\n",
            "Epoch 3/100\n",
            "34/34 [==============================] - 0s 2ms/step - loss: 12810.6377 - mae: 12810.6377\n",
            "Epoch 4/100\n",
            "34/34 [==============================] - 0s 2ms/step - loss: 12157.4717 - mae: 12157.4717\n",
            "Epoch 5/100\n",
            "34/34 [==============================] - 0s 4ms/step - loss: 11043.8057 - mae: 11043.8057\n",
            "Epoch 6/100\n",
            "34/34 [==============================] - 0s 5ms/step - loss: 9593.1260 - mae: 9593.1260\n",
            "Epoch 7/100\n",
            "34/34 [==============================] - 0s 8ms/step - loss: 8243.6221 - mae: 8243.6221\n",
            "Epoch 8/100\n",
            "34/34 [==============================] - 0s 5ms/step - loss: 7562.6841 - mae: 7562.6841\n",
            "Epoch 9/100\n",
            "34/34 [==============================] - 0s 7ms/step - loss: 7444.1284 - mae: 7444.1284\n",
            "Epoch 10/100\n",
            "34/34 [==============================] - 0s 8ms/step - loss: 7422.3887 - mae: 7422.3887\n",
            "Epoch 11/100\n",
            "34/34 [==============================] - 0s 7ms/step - loss: 7403.2021 - mae: 7403.2021\n",
            "Epoch 12/100\n",
            "34/34 [==============================] - 0s 5ms/step - loss: 7380.5762 - mae: 7380.5762\n",
            "Epoch 13/100\n",
            "34/34 [==============================] - 0s 6ms/step - loss: 7359.6914 - mae: 7359.6914\n",
            "Epoch 14/100\n",
            "34/34 [==============================] - 0s 3ms/step - loss: 7336.9434 - mae: 7336.9434\n",
            "Epoch 15/100\n",
            "34/34 [==============================] - 0s 8ms/step - loss: 7317.2910 - mae: 7317.2910\n",
            "Epoch 16/100\n",
            "34/34 [==============================] - 0s 3ms/step - loss: 7294.4399 - mae: 7294.4399\n",
            "Epoch 17/100\n",
            "34/34 [==============================] - 0s 3ms/step - loss: 7273.4858 - mae: 7273.4858\n",
            "Epoch 18/100\n",
            "34/34 [==============================] - 0s 4ms/step - loss: 7249.8394 - mae: 7249.8394\n",
            "Epoch 19/100\n",
            "34/34 [==============================] - 0s 9ms/step - loss: 7226.8511 - mae: 7226.8511\n",
            "Epoch 20/100\n",
            "34/34 [==============================] - 0s 7ms/step - loss: 7202.8315 - mae: 7202.8315\n",
            "Epoch 21/100\n",
            "34/34 [==============================] - 0s 7ms/step - loss: 7183.1606 - mae: 7183.1606\n",
            "Epoch 22/100\n",
            "34/34 [==============================] - 0s 3ms/step - loss: 7155.4575 - mae: 7155.4575\n",
            "Epoch 23/100\n",
            "34/34 [==============================] - 0s 5ms/step - loss: 7129.6812 - mae: 7129.6812\n",
            "Epoch 24/100\n",
            "34/34 [==============================] - 0s 4ms/step - loss: 7104.2173 - mae: 7104.2173\n",
            "Epoch 25/100\n",
            "34/34 [==============================] - 0s 4ms/step - loss: 7085.5166 - mae: 7085.5166\n",
            "Epoch 26/100\n",
            "34/34 [==============================] - 0s 4ms/step - loss: 7052.9531 - mae: 7052.9531\n",
            "Epoch 27/100\n",
            "34/34 [==============================] - 0s 5ms/step - loss: 7023.3608 - mae: 7023.3608\n",
            "Epoch 28/100\n",
            "34/34 [==============================] - 0s 4ms/step - loss: 6994.3555 - mae: 6994.3555\n",
            "Epoch 29/100\n",
            "34/34 [==============================] - 0s 3ms/step - loss: 6965.4424 - mae: 6965.4424\n",
            "Epoch 30/100\n",
            "34/34 [==============================] - 0s 2ms/step - loss: 6936.7964 - mae: 6936.7964\n",
            "Epoch 31/100\n",
            "34/34 [==============================] - 0s 2ms/step - loss: 6904.6792 - mae: 6904.6792\n",
            "Epoch 32/100\n",
            "34/34 [==============================] - 0s 2ms/step - loss: 6875.0645 - mae: 6875.0645\n",
            "Epoch 33/100\n",
            "34/34 [==============================] - 0s 2ms/step - loss: 6842.2627 - mae: 6842.2627\n",
            "Epoch 34/100\n",
            "34/34 [==============================] - 0s 2ms/step - loss: 6809.9507 - mae: 6809.9507\n",
            "Epoch 35/100\n",
            "34/34 [==============================] - 0s 2ms/step - loss: 6773.9463 - mae: 6773.9463\n",
            "Epoch 36/100\n",
            "34/34 [==============================] - 0s 2ms/step - loss: 6737.8154 - mae: 6737.8154\n",
            "Epoch 37/100\n",
            "34/34 [==============================] - 0s 2ms/step - loss: 6700.4028 - mae: 6700.4028\n",
            "Epoch 38/100\n",
            "34/34 [==============================] - 0s 2ms/step - loss: 6667.5679 - mae: 6667.5679\n",
            "Epoch 39/100\n",
            "34/34 [==============================] - 0s 2ms/step - loss: 6628.5459 - mae: 6628.5459\n",
            "Epoch 40/100\n",
            "34/34 [==============================] - 0s 2ms/step - loss: 6591.8906 - mae: 6591.8906\n",
            "Epoch 41/100\n",
            "34/34 [==============================] - 0s 2ms/step - loss: 6561.2866 - mae: 6561.2866\n",
            "Epoch 42/100\n",
            "34/34 [==============================] - 0s 2ms/step - loss: 6534.0747 - mae: 6534.0747\n",
            "Epoch 43/100\n",
            "34/34 [==============================] - 0s 2ms/step - loss: 6506.9946 - mae: 6506.9946\n",
            "Epoch 44/100\n",
            "34/34 [==============================] - 0s 2ms/step - loss: 6485.3306 - mae: 6485.3306\n",
            "Epoch 45/100\n",
            "34/34 [==============================] - 0s 2ms/step - loss: 6476.0781 - mae: 6476.0781\n",
            "Epoch 46/100\n",
            "34/34 [==============================] - 0s 3ms/step - loss: 6455.8076 - mae: 6455.8076\n",
            "Epoch 47/100\n",
            "34/34 [==============================] - 0s 2ms/step - loss: 6439.8623 - mae: 6439.8623\n",
            "Epoch 48/100\n",
            "34/34 [==============================] - 0s 3ms/step - loss: 6425.4907 - mae: 6425.4907\n",
            "Epoch 49/100\n",
            "34/34 [==============================] - 0s 2ms/step - loss: 6413.0200 - mae: 6413.0200\n",
            "Epoch 50/100\n",
            "34/34 [==============================] - 0s 2ms/step - loss: 6398.5020 - mae: 6398.5020\n",
            "Epoch 51/100\n",
            "34/34 [==============================] - 0s 2ms/step - loss: 6384.6846 - mae: 6384.6846\n",
            "Epoch 52/100\n",
            "34/34 [==============================] - 0s 2ms/step - loss: 6372.6665 - mae: 6372.6665\n",
            "Epoch 53/100\n",
            "34/34 [==============================] - 0s 2ms/step - loss: 6357.3960 - mae: 6357.3960\n",
            "Epoch 54/100\n",
            "34/34 [==============================] - 0s 2ms/step - loss: 6342.7661 - mae: 6342.7661\n",
            "Epoch 55/100\n",
            "34/34 [==============================] - 0s 2ms/step - loss: 6329.0752 - mae: 6329.0752\n",
            "Epoch 56/100\n",
            "34/34 [==============================] - 0s 2ms/step - loss: 6314.9849 - mae: 6314.9849\n",
            "Epoch 57/100\n",
            "34/34 [==============================] - 0s 2ms/step - loss: 6301.1455 - mae: 6301.1455\n",
            "Epoch 58/100\n",
            "34/34 [==============================] - 0s 2ms/step - loss: 6287.0361 - mae: 6287.0361\n",
            "Epoch 59/100\n",
            "34/34 [==============================] - 0s 2ms/step - loss: 6270.2461 - mae: 6270.2461\n",
            "Epoch 60/100\n",
            "34/34 [==============================] - 0s 2ms/step - loss: 6259.1318 - mae: 6259.1318\n",
            "Epoch 61/100\n",
            "34/34 [==============================] - 0s 2ms/step - loss: 6238.6030 - mae: 6238.6030\n",
            "Epoch 62/100\n",
            "34/34 [==============================] - 0s 2ms/step - loss: 6225.6602 - mae: 6225.6602\n",
            "Epoch 63/100\n",
            "34/34 [==============================] - 0s 2ms/step - loss: 6206.5161 - mae: 6206.5161\n",
            "Epoch 64/100\n",
            "34/34 [==============================] - 0s 2ms/step - loss: 6188.1978 - mae: 6188.1978\n",
            "Epoch 65/100\n",
            "34/34 [==============================] - 0s 2ms/step - loss: 6170.0093 - mae: 6170.0093\n",
            "Epoch 66/100\n",
            "34/34 [==============================] - 0s 2ms/step - loss: 6151.5757 - mae: 6151.5757\n",
            "Epoch 67/100\n",
            "34/34 [==============================] - 0s 2ms/step - loss: 6139.2754 - mae: 6139.2754\n",
            "Epoch 68/100\n",
            "34/34 [==============================] - 0s 2ms/step - loss: 6114.9897 - mae: 6114.9897\n",
            "Epoch 69/100\n",
            "34/34 [==============================] - 0s 2ms/step - loss: 6097.0215 - mae: 6097.0215\n",
            "Epoch 70/100\n",
            "34/34 [==============================] - 0s 2ms/step - loss: 6075.6343 - mae: 6075.6343\n",
            "Epoch 71/100\n",
            "34/34 [==============================] - 0s 2ms/step - loss: 6055.3774 - mae: 6055.3774\n",
            "Epoch 72/100\n",
            "34/34 [==============================] - 0s 2ms/step - loss: 6032.9595 - mae: 6032.9595\n",
            "Epoch 73/100\n",
            "34/34 [==============================] - 0s 3ms/step - loss: 6019.1372 - mae: 6019.1372\n",
            "Epoch 74/100\n",
            "34/34 [==============================] - 0s 2ms/step - loss: 5988.4170 - mae: 5988.4170\n",
            "Epoch 75/100\n",
            "34/34 [==============================] - 0s 3ms/step - loss: 5966.3081 - mae: 5966.3081\n",
            "Epoch 76/100\n",
            "34/34 [==============================] - 0s 4ms/step - loss: 5948.7632 - mae: 5948.7632\n",
            "Epoch 77/100\n",
            "34/34 [==============================] - 0s 3ms/step - loss: 5915.1577 - mae: 5915.1577\n",
            "Epoch 78/100\n",
            "34/34 [==============================] - 0s 3ms/step - loss: 5890.2080 - mae: 5890.2080\n",
            "Epoch 79/100\n",
            "34/34 [==============================] - 0s 3ms/step - loss: 5864.0171 - mae: 5864.0171\n",
            "Epoch 80/100\n",
            "34/34 [==============================] - 0s 3ms/step - loss: 5833.9663 - mae: 5833.9663\n",
            "Epoch 81/100\n",
            "34/34 [==============================] - 0s 3ms/step - loss: 5806.7959 - mae: 5806.7959\n",
            "Epoch 82/100\n",
            "34/34 [==============================] - 0s 4ms/step - loss: 5775.1245 - mae: 5775.1245\n",
            "Epoch 83/100\n",
            "34/34 [==============================] - 0s 4ms/step - loss: 5745.2744 - mae: 5745.2744\n",
            "Epoch 84/100\n",
            "34/34 [==============================] - 0s 4ms/step - loss: 5710.0190 - mae: 5710.0190\n",
            "Epoch 85/100\n",
            "34/34 [==============================] - 0s 4ms/step - loss: 5681.6914 - mae: 5681.6914\n",
            "Epoch 86/100\n",
            "34/34 [==============================] - 0s 4ms/step - loss: 5644.5845 - mae: 5644.5845\n",
            "Epoch 87/100\n",
            "34/34 [==============================] - 0s 4ms/step - loss: 5604.8755 - mae: 5604.8755\n",
            "Epoch 88/100\n",
            "34/34 [==============================] - 0s 4ms/step - loss: 5566.8574 - mae: 5566.8574\n",
            "Epoch 89/100\n",
            "34/34 [==============================] - 0s 3ms/step - loss: 5524.3501 - mae: 5524.3501\n",
            "Epoch 90/100\n",
            "34/34 [==============================] - 0s 3ms/step - loss: 5479.3271 - mae: 5479.3271\n",
            "Epoch 91/100\n",
            "34/34 [==============================] - 0s 3ms/step - loss: 5437.5269 - mae: 5437.5269\n",
            "Epoch 92/100\n",
            "34/34 [==============================] - 0s 3ms/step - loss: 5387.5503 - mae: 5387.5503\n",
            "Epoch 93/100\n",
            "34/34 [==============================] - 0s 3ms/step - loss: 5341.5752 - mae: 5341.5752\n",
            "Epoch 94/100\n",
            "34/34 [==============================] - 0s 3ms/step - loss: 5291.0728 - mae: 5291.0728\n",
            "Epoch 95/100\n",
            "34/34 [==============================] - 0s 3ms/step - loss: 5236.3081 - mae: 5236.3081\n",
            "Epoch 96/100\n",
            "34/34 [==============================] - 0s 3ms/step - loss: 5187.2231 - mae: 5187.2231\n",
            "Epoch 97/100\n",
            "34/34 [==============================] - 0s 3ms/step - loss: 5130.7231 - mae: 5130.7231\n",
            "Epoch 98/100\n",
            "34/34 [==============================] - 0s 3ms/step - loss: 5063.6382 - mae: 5063.6382\n",
            "Epoch 99/100\n",
            "34/34 [==============================] - 0s 3ms/step - loss: 4999.4028 - mae: 4999.4028\n",
            "Epoch 100/100\n",
            "34/34 [==============================] - 0s 3ms/step - loss: 4941.2612 - mae: 4941.2612\n"
          ]
        },
        {
          "output_type": "execute_result",
          "data": {
            "text/plain": [
              "<keras.src.callbacks.History at 0x7e42eee3dab0>"
            ]
          },
          "metadata": {},
          "execution_count": 87
        }
      ]
    },
    {
      "cell_type": "code",
      "source": [
        "# Evaluate the model\n",
        "insurance_model_2.evaluate(X_test, y_test)"
      ],
      "metadata": {
        "colab": {
          "base_uri": "https://localhost:8080/"
        },
        "id": "n7kVQI1zQuNF",
        "outputId": "2f915861-6a50-4600-e107-3c03fee23b2a"
      },
      "execution_count": 88,
      "outputs": [
        {
          "output_type": "stream",
          "name": "stdout",
          "text": [
            "9/9 [==============================] - 0s 2ms/step - loss: 4811.7437 - mae: 4811.7437\n"
          ]
        },
        {
          "output_type": "execute_result",
          "data": {
            "text/plain": [
              "[4811.74365234375, 4811.74365234375]"
            ]
          },
          "metadata": {},
          "execution_count": 88
        }
      ]
    },
    {
      "cell_type": "code",
      "source": [
        "# Set the random seed\n",
        "tf.random.set_seed(42)\n",
        "\n",
        "# 1. Create the model\n",
        "insurance_model_3 = tf.keras.Sequential([\n",
        "    tf.keras.layers.Dense(100),\n",
        "    tf.keras.layers.Dense(10),\n",
        "    tf.keras.layers.Dense(1)\n",
        "])\n",
        "\n",
        "# 2. Compile the model\n",
        "insurance_model_3.compile(loss = tf.keras.losses.mae,\n",
        "                          optimizer = tf.keras.optimizers.Adam(),\n",
        "                          metrics = [\"mae\"])\n",
        "\n",
        "# 3. Fit the model\n",
        "history = insurance_model_3.fit(X_train, y_train, epochs = 200)"
      ],
      "metadata": {
        "colab": {
          "base_uri": "https://localhost:8080/"
        },
        "id": "kz3xhe_DRJnT",
        "outputId": "2981eec2-3e53-4943-d233-629133cda8dc"
      },
      "execution_count": 91,
      "outputs": [
        {
          "output_type": "stream",
          "name": "stdout",
          "text": [
            "Epoch 1/200\n",
            "34/34 [==============================] - 3s 7ms/step - loss: 13290.8232 - mae: 13290.8232\n",
            "Epoch 2/200\n",
            "34/34 [==============================] - 0s 3ms/step - loss: 13126.5840 - mae: 13126.5840\n",
            "Epoch 3/200\n",
            "34/34 [==============================] - 0s 3ms/step - loss: 12783.4004 - mae: 12783.4004\n",
            "Epoch 4/200\n",
            "34/34 [==============================] - 0s 3ms/step - loss: 12115.6953 - mae: 12115.6953\n",
            "Epoch 5/200\n",
            "34/34 [==============================] - 0s 4ms/step - loss: 11004.9902 - mae: 11004.9902\n",
            "Epoch 6/200\n",
            "34/34 [==============================] - 0s 4ms/step - loss: 9584.8896 - mae: 9584.8896\n",
            "Epoch 7/200\n",
            "34/34 [==============================] - 0s 3ms/step - loss: 8260.5645 - mae: 8260.5645\n",
            "Epoch 8/200\n",
            "34/34 [==============================] - 0s 3ms/step - loss: 7577.1494 - mae: 7577.1494\n",
            "Epoch 9/200\n",
            "34/34 [==============================] - 0s 3ms/step - loss: 7452.0596 - mae: 7452.0596\n",
            "Epoch 10/200\n",
            "34/34 [==============================] - 0s 3ms/step - loss: 7431.1006 - mae: 7431.1006\n",
            "Epoch 11/200\n",
            "34/34 [==============================] - 0s 4ms/step - loss: 7412.5063 - mae: 7412.5063\n",
            "Epoch 12/200\n",
            "34/34 [==============================] - 0s 4ms/step - loss: 7391.1245 - mae: 7391.1245\n",
            "Epoch 13/200\n",
            "34/34 [==============================] - 0s 3ms/step - loss: 7371.0737 - mae: 7371.0737\n",
            "Epoch 14/200\n",
            "34/34 [==============================] - 0s 3ms/step - loss: 7349.4443 - mae: 7349.4443\n",
            "Epoch 15/200\n",
            "34/34 [==============================] - 0s 3ms/step - loss: 7330.7729 - mae: 7330.7729\n",
            "Epoch 16/200\n",
            "34/34 [==============================] - 0s 3ms/step - loss: 7308.6323 - mae: 7308.6323\n",
            "Epoch 17/200\n",
            "34/34 [==============================] - 0s 3ms/step - loss: 7288.9824 - mae: 7288.9824\n",
            "Epoch 18/200\n",
            "34/34 [==============================] - 0s 4ms/step - loss: 7265.9834 - mae: 7265.9834\n",
            "Epoch 19/200\n",
            "34/34 [==============================] - 0s 4ms/step - loss: 7244.0317 - mae: 7244.0317\n",
            "Epoch 20/200\n",
            "34/34 [==============================] - 0s 3ms/step - loss: 7221.4712 - mae: 7221.4712\n",
            "Epoch 21/200\n",
            "34/34 [==============================] - 0s 4ms/step - loss: 7201.0073 - mae: 7201.0073\n",
            "Epoch 22/200\n",
            "34/34 [==============================] - 0s 3ms/step - loss: 7176.4512 - mae: 7176.4512\n",
            "Epoch 23/200\n",
            "34/34 [==============================] - 0s 3ms/step - loss: 7152.1538 - mae: 7152.1538\n",
            "Epoch 24/200\n",
            "34/34 [==============================] - 0s 4ms/step - loss: 7127.6992 - mae: 7127.6992\n",
            "Epoch 25/200\n",
            "34/34 [==============================] - 0s 2ms/step - loss: 7110.4292 - mae: 7110.4292\n",
            "Epoch 26/200\n",
            "34/34 [==============================] - 0s 2ms/step - loss: 7078.8442 - mae: 7078.8442\n",
            "Epoch 27/200\n",
            "34/34 [==============================] - 0s 2ms/step - loss: 7050.6421 - mae: 7050.6421\n",
            "Epoch 28/200\n",
            "34/34 [==============================] - 0s 3ms/step - loss: 7023.0405 - mae: 7023.0405\n",
            "Epoch 29/200\n",
            "34/34 [==============================] - 0s 2ms/step - loss: 6995.7393 - mae: 6995.7393\n",
            "Epoch 30/200\n",
            "34/34 [==============================] - 0s 2ms/step - loss: 6968.6484 - mae: 6968.6484\n",
            "Epoch 31/200\n",
            "34/34 [==============================] - 0s 2ms/step - loss: 6937.8965 - mae: 6937.8965\n",
            "Epoch 32/200\n",
            "34/34 [==============================] - 0s 2ms/step - loss: 6910.4053 - mae: 6910.4053\n",
            "Epoch 33/200\n",
            "34/34 [==============================] - 0s 2ms/step - loss: 6879.1377 - mae: 6879.1377\n",
            "Epoch 34/200\n",
            "34/34 [==============================] - 0s 2ms/step - loss: 6846.9907 - mae: 6846.9907\n",
            "Epoch 35/200\n",
            "34/34 [==============================] - 0s 2ms/step - loss: 6814.4897 - mae: 6814.4897\n",
            "Epoch 36/200\n",
            "34/34 [==============================] - 0s 2ms/step - loss: 6780.5498 - mae: 6780.5498\n",
            "Epoch 37/200\n",
            "34/34 [==============================] - 0s 2ms/step - loss: 6744.9644 - mae: 6744.9644\n",
            "Epoch 38/200\n",
            "34/34 [==============================] - 0s 2ms/step - loss: 6711.9404 - mae: 6711.9404\n",
            "Epoch 39/200\n",
            "34/34 [==============================] - 0s 2ms/step - loss: 6673.0908 - mae: 6673.0908\n",
            "Epoch 40/200\n",
            "34/34 [==============================] - 0s 2ms/step - loss: 6636.9805 - mae: 6636.9805\n",
            "Epoch 41/200\n",
            "34/34 [==============================] - 0s 2ms/step - loss: 6602.3442 - mae: 6602.3442\n",
            "Epoch 42/200\n",
            "34/34 [==============================] - 0s 2ms/step - loss: 6571.5957 - mae: 6571.5957\n",
            "Epoch 43/200\n",
            "34/34 [==============================] - 0s 2ms/step - loss: 6539.4629 - mae: 6539.4629\n",
            "Epoch 44/200\n",
            "34/34 [==============================] - 0s 2ms/step - loss: 6512.6357 - mae: 6512.6357\n",
            "Epoch 45/200\n",
            "34/34 [==============================] - 0s 3ms/step - loss: 6493.1265 - mae: 6493.1265\n",
            "Epoch 46/200\n",
            "34/34 [==============================] - 0s 2ms/step - loss: 6475.1016 - mae: 6475.1016\n",
            "Epoch 47/200\n",
            "34/34 [==============================] - 0s 2ms/step - loss: 6457.7778 - mae: 6457.7778\n",
            "Epoch 48/200\n",
            "34/34 [==============================] - 0s 2ms/step - loss: 6441.2793 - mae: 6441.2793\n",
            "Epoch 49/200\n",
            "34/34 [==============================] - 0s 2ms/step - loss: 6427.6304 - mae: 6427.6304\n",
            "Epoch 50/200\n",
            "34/34 [==============================] - 0s 2ms/step - loss: 6413.8364 - mae: 6413.8364\n",
            "Epoch 51/200\n",
            "34/34 [==============================] - 0s 2ms/step - loss: 6400.0459 - mae: 6400.0459\n",
            "Epoch 52/200\n",
            "34/34 [==============================] - 0s 2ms/step - loss: 6388.7393 - mae: 6388.7393\n",
            "Epoch 53/200\n",
            "34/34 [==============================] - 0s 2ms/step - loss: 6374.5366 - mae: 6374.5366\n",
            "Epoch 54/200\n",
            "34/34 [==============================] - 0s 2ms/step - loss: 6360.7500 - mae: 6360.7500\n",
            "Epoch 55/200\n",
            "34/34 [==============================] - 0s 2ms/step - loss: 6347.2402 - mae: 6347.2402\n",
            "Epoch 56/200\n",
            "34/34 [==============================] - 0s 2ms/step - loss: 6332.7920 - mae: 6332.7920\n",
            "Epoch 57/200\n",
            "34/34 [==============================] - 0s 2ms/step - loss: 6320.6626 - mae: 6320.6626\n",
            "Epoch 58/200\n",
            "34/34 [==============================] - 0s 2ms/step - loss: 6306.2100 - mae: 6306.2100\n",
            "Epoch 59/200\n",
            "34/34 [==============================] - 0s 2ms/step - loss: 6291.4927 - mae: 6291.4927\n",
            "Epoch 60/200\n",
            "34/34 [==============================] - 0s 2ms/step - loss: 6280.8066 - mae: 6280.8066\n",
            "Epoch 61/200\n",
            "34/34 [==============================] - 0s 2ms/step - loss: 6261.0576 - mae: 6261.0576\n",
            "Epoch 62/200\n",
            "34/34 [==============================] - 0s 2ms/step - loss: 6248.7148 - mae: 6248.7148\n",
            "Epoch 63/200\n",
            "34/34 [==============================] - 0s 2ms/step - loss: 6231.0688 - mae: 6231.0688\n",
            "Epoch 64/200\n",
            "34/34 [==============================] - 0s 2ms/step - loss: 6215.3120 - mae: 6215.3120\n",
            "Epoch 65/200\n",
            "34/34 [==============================] - 0s 2ms/step - loss: 6197.8555 - mae: 6197.8555\n",
            "Epoch 66/200\n",
            "34/34 [==============================] - 0s 2ms/step - loss: 6180.7793 - mae: 6180.7793\n",
            "Epoch 67/200\n",
            "34/34 [==============================] - 0s 2ms/step - loss: 6168.3359 - mae: 6168.3359\n",
            "Epoch 68/200\n",
            "34/34 [==============================] - 0s 2ms/step - loss: 6146.2490 - mae: 6146.2490\n",
            "Epoch 69/200\n",
            "34/34 [==============================] - 0s 2ms/step - loss: 6130.3335 - mae: 6130.3335\n",
            "Epoch 70/200\n",
            "34/34 [==============================] - 0s 2ms/step - loss: 6110.2300 - mae: 6110.2300\n",
            "Epoch 71/200\n",
            "34/34 [==============================] - 0s 2ms/step - loss: 6090.8994 - mae: 6090.8994\n",
            "Epoch 72/200\n",
            "34/34 [==============================] - 0s 2ms/step - loss: 6073.2446 - mae: 6073.2446\n",
            "Epoch 73/200\n",
            "34/34 [==============================] - 0s 2ms/step - loss: 6057.8013 - mae: 6057.8013\n",
            "Epoch 74/200\n",
            "34/34 [==============================] - 0s 2ms/step - loss: 6030.8076 - mae: 6030.8076\n",
            "Epoch 75/200\n",
            "34/34 [==============================] - 0s 2ms/step - loss: 6009.5396 - mae: 6009.5396\n",
            "Epoch 76/200\n",
            "34/34 [==============================] - 0s 2ms/step - loss: 5996.9912 - mae: 5996.9912\n",
            "Epoch 77/200\n",
            "34/34 [==============================] - 0s 2ms/step - loss: 5964.0200 - mae: 5964.0200\n",
            "Epoch 78/200\n",
            "34/34 [==============================] - 0s 2ms/step - loss: 5941.4229 - mae: 5941.4229\n",
            "Epoch 79/200\n",
            "34/34 [==============================] - 0s 2ms/step - loss: 5917.8013 - mae: 5917.8013\n",
            "Epoch 80/200\n",
            "34/34 [==============================] - 0s 2ms/step - loss: 5891.1816 - mae: 5891.1816\n",
            "Epoch 81/200\n",
            "34/34 [==============================] - 0s 2ms/step - loss: 5866.0381 - mae: 5866.0381\n",
            "Epoch 82/200\n",
            "34/34 [==============================] - 0s 2ms/step - loss: 5838.6323 - mae: 5838.6323\n",
            "Epoch 83/200\n",
            "34/34 [==============================] - 0s 2ms/step - loss: 5810.9448 - mae: 5810.9448\n",
            "Epoch 84/200\n",
            "34/34 [==============================] - 0s 2ms/step - loss: 5778.9219 - mae: 5778.9219\n",
            "Epoch 85/200\n",
            "34/34 [==============================] - 0s 2ms/step - loss: 5753.1997 - mae: 5753.1997\n",
            "Epoch 86/200\n",
            "34/34 [==============================] - 0s 2ms/step - loss: 5719.4351 - mae: 5719.4351\n",
            "Epoch 87/200\n",
            "34/34 [==============================] - 0s 2ms/step - loss: 5684.0312 - mae: 5684.0312\n",
            "Epoch 88/200\n",
            "34/34 [==============================] - 0s 2ms/step - loss: 5650.7944 - mae: 5650.7944\n",
            "Epoch 89/200\n",
            "34/34 [==============================] - 0s 2ms/step - loss: 5613.1489 - mae: 5613.1489\n",
            "Epoch 90/200\n",
            "34/34 [==============================] - 0s 2ms/step - loss: 5573.2773 - mae: 5573.2773\n",
            "Epoch 91/200\n",
            "34/34 [==============================] - 0s 3ms/step - loss: 5537.1201 - mae: 5537.1201\n",
            "Epoch 92/200\n",
            "34/34 [==============================] - 0s 2ms/step - loss: 5490.8208 - mae: 5490.8208\n",
            "Epoch 93/200\n",
            "34/34 [==============================] - 0s 2ms/step - loss: 5451.5029 - mae: 5451.5029\n",
            "Epoch 94/200\n",
            "34/34 [==============================] - 0s 2ms/step - loss: 5408.3530 - mae: 5408.3530\n",
            "Epoch 95/200\n",
            "34/34 [==============================] - 0s 2ms/step - loss: 5355.8223 - mae: 5355.8223\n",
            "Epoch 96/200\n",
            "34/34 [==============================] - 0s 2ms/step - loss: 5314.2056 - mae: 5314.2051\n",
            "Epoch 97/200\n",
            "34/34 [==============================] - 0s 2ms/step - loss: 5261.7988 - mae: 5261.7988\n",
            "Epoch 98/200\n",
            "34/34 [==============================] - 0s 2ms/step - loss: 5201.3672 - mae: 5201.3672\n",
            "Epoch 99/200\n",
            "34/34 [==============================] - 0s 2ms/step - loss: 5146.5762 - mae: 5146.5762\n",
            "Epoch 100/200\n",
            "34/34 [==============================] - 0s 2ms/step - loss: 5092.2539 - mae: 5092.2539\n",
            "Epoch 101/200\n",
            "34/34 [==============================] - 0s 2ms/step - loss: 5025.2119 - mae: 5025.2119\n",
            "Epoch 102/200\n",
            "34/34 [==============================] - 0s 2ms/step - loss: 4957.4546 - mae: 4957.4546\n",
            "Epoch 103/200\n",
            "34/34 [==============================] - 0s 3ms/step - loss: 4891.8730 - mae: 4891.8730\n",
            "Epoch 104/200\n",
            "34/34 [==============================] - 0s 2ms/step - loss: 4816.9761 - mae: 4816.9761\n",
            "Epoch 105/200\n",
            "34/34 [==============================] - 0s 2ms/step - loss: 4736.4258 - mae: 4736.4258\n",
            "Epoch 106/200\n",
            "34/34 [==============================] - 0s 2ms/step - loss: 4657.4810 - mae: 4657.4810\n",
            "Epoch 107/200\n",
            "34/34 [==============================] - 0s 2ms/step - loss: 4576.3179 - mae: 4576.3179\n",
            "Epoch 108/200\n",
            "34/34 [==============================] - 0s 2ms/step - loss: 4487.2598 - mae: 4487.2598\n",
            "Epoch 109/200\n",
            "34/34 [==============================] - 0s 2ms/step - loss: 4402.0171 - mae: 4402.0171\n",
            "Epoch 110/200\n",
            "34/34 [==============================] - 0s 2ms/step - loss: 4318.8721 - mae: 4318.8721\n",
            "Epoch 111/200\n",
            "34/34 [==============================] - 0s 3ms/step - loss: 4235.5444 - mae: 4235.5444\n",
            "Epoch 112/200\n",
            "34/34 [==============================] - 0s 2ms/step - loss: 4164.1177 - mae: 4164.1177\n",
            "Epoch 113/200\n",
            "34/34 [==============================] - 0s 2ms/step - loss: 4090.2908 - mae: 4090.2908\n",
            "Epoch 114/200\n",
            "34/34 [==============================] - 0s 2ms/step - loss: 4027.4805 - mae: 4027.4805\n",
            "Epoch 115/200\n",
            "34/34 [==============================] - 0s 3ms/step - loss: 3973.2598 - mae: 3973.2598\n",
            "Epoch 116/200\n",
            "34/34 [==============================] - 0s 2ms/step - loss: 3945.6865 - mae: 3945.6865\n",
            "Epoch 117/200\n",
            "34/34 [==============================] - 0s 2ms/step - loss: 3925.1973 - mae: 3925.1973\n",
            "Epoch 118/200\n",
            "34/34 [==============================] - 0s 2ms/step - loss: 3895.0315 - mae: 3895.0315\n",
            "Epoch 119/200\n",
            "34/34 [==============================] - 0s 2ms/step - loss: 3867.4807 - mae: 3867.4807\n",
            "Epoch 120/200\n",
            "34/34 [==============================] - 0s 2ms/step - loss: 3846.9302 - mae: 3846.9302\n",
            "Epoch 121/200\n",
            "34/34 [==============================] - 0s 2ms/step - loss: 3840.7007 - mae: 3840.7007\n",
            "Epoch 122/200\n",
            "34/34 [==============================] - 0s 2ms/step - loss: 3832.9905 - mae: 3832.9905\n",
            "Epoch 123/200\n",
            "34/34 [==============================] - 0s 2ms/step - loss: 3825.8848 - mae: 3825.8848\n",
            "Epoch 124/200\n",
            "34/34 [==============================] - 0s 2ms/step - loss: 3816.1394 - mae: 3816.1394\n",
            "Epoch 125/200\n",
            "34/34 [==============================] - 0s 2ms/step - loss: 3803.8494 - mae: 3803.8494\n",
            "Epoch 126/200\n",
            "34/34 [==============================] - 0s 3ms/step - loss: 3816.0898 - mae: 3816.0898\n",
            "Epoch 127/200\n",
            "34/34 [==============================] - 0s 2ms/step - loss: 3803.8748 - mae: 3803.8748\n",
            "Epoch 128/200\n",
            "34/34 [==============================] - 0s 2ms/step - loss: 3798.3445 - mae: 3798.3445\n",
            "Epoch 129/200\n",
            "34/34 [==============================] - 0s 2ms/step - loss: 3805.2576 - mae: 3805.2576\n",
            "Epoch 130/200\n",
            "34/34 [==============================] - 0s 2ms/step - loss: 3793.1411 - mae: 3793.1411\n",
            "Epoch 131/200\n",
            "34/34 [==============================] - 0s 3ms/step - loss: 3786.6453 - mae: 3786.6453\n",
            "Epoch 132/200\n",
            "34/34 [==============================] - 0s 2ms/step - loss: 3780.1050 - mae: 3780.1050\n",
            "Epoch 133/200\n",
            "34/34 [==============================] - 0s 2ms/step - loss: 3776.2410 - mae: 3776.2410\n",
            "Epoch 134/200\n",
            "34/34 [==============================] - 0s 2ms/step - loss: 3775.1426 - mae: 3775.1426\n",
            "Epoch 135/200\n",
            "34/34 [==============================] - 0s 2ms/step - loss: 3771.4653 - mae: 3771.4653\n",
            "Epoch 136/200\n",
            "34/34 [==============================] - 0s 2ms/step - loss: 3770.6492 - mae: 3770.6492\n",
            "Epoch 137/200\n",
            "34/34 [==============================] - 0s 2ms/step - loss: 3777.8281 - mae: 3777.8281\n",
            "Epoch 138/200\n",
            "34/34 [==============================] - 0s 2ms/step - loss: 3788.3877 - mae: 3788.3877\n",
            "Epoch 139/200\n",
            "34/34 [==============================] - 0s 2ms/step - loss: 3766.2153 - mae: 3766.2153\n",
            "Epoch 140/200\n",
            "34/34 [==============================] - 0s 2ms/step - loss: 3768.5383 - mae: 3768.5383\n",
            "Epoch 141/200\n",
            "34/34 [==============================] - 0s 2ms/step - loss: 3767.7126 - mae: 3767.7126\n",
            "Epoch 142/200\n",
            "34/34 [==============================] - 0s 2ms/step - loss: 3768.3696 - mae: 3768.3696\n",
            "Epoch 143/200\n",
            "34/34 [==============================] - 0s 3ms/step - loss: 3759.6008 - mae: 3759.6008\n",
            "Epoch 144/200\n",
            "34/34 [==============================] - 0s 4ms/step - loss: 3754.8599 - mae: 3754.8599\n",
            "Epoch 145/200\n",
            "34/34 [==============================] - 0s 4ms/step - loss: 3755.5271 - mae: 3755.5271\n",
            "Epoch 146/200\n",
            "34/34 [==============================] - 0s 4ms/step - loss: 3760.1199 - mae: 3760.1199\n",
            "Epoch 147/200\n",
            "34/34 [==============================] - 0s 4ms/step - loss: 3756.0613 - mae: 3756.0613\n",
            "Epoch 148/200\n",
            "34/34 [==============================] - 0s 4ms/step - loss: 3759.9551 - mae: 3759.9551\n",
            "Epoch 149/200\n",
            "34/34 [==============================] - 0s 4ms/step - loss: 3747.8384 - mae: 3747.8384\n",
            "Epoch 150/200\n",
            "34/34 [==============================] - 0s 3ms/step - loss: 3742.4824 - mae: 3742.4824\n",
            "Epoch 151/200\n",
            "34/34 [==============================] - 0s 4ms/step - loss: 3746.4199 - mae: 3746.4199\n",
            "Epoch 152/200\n",
            "34/34 [==============================] - 0s 3ms/step - loss: 3748.0955 - mae: 3748.0955\n",
            "Epoch 153/200\n",
            "34/34 [==============================] - 0s 3ms/step - loss: 3746.8235 - mae: 3746.8235\n",
            "Epoch 154/200\n",
            "34/34 [==============================] - 0s 4ms/step - loss: 3740.9832 - mae: 3740.9832\n",
            "Epoch 155/200\n",
            "34/34 [==============================] - 0s 4ms/step - loss: 3743.7463 - mae: 3743.7463\n",
            "Epoch 156/200\n",
            "34/34 [==============================] - 0s 3ms/step - loss: 3738.8740 - mae: 3738.8740\n",
            "Epoch 157/200\n",
            "34/34 [==============================] - 0s 3ms/step - loss: 3737.4707 - mae: 3737.4707\n",
            "Epoch 158/200\n",
            "34/34 [==============================] - 0s 3ms/step - loss: 3733.3469 - mae: 3733.3469\n",
            "Epoch 159/200\n",
            "34/34 [==============================] - 0s 4ms/step - loss: 3729.3638 - mae: 3729.3638\n",
            "Epoch 160/200\n",
            "34/34 [==============================] - 0s 4ms/step - loss: 3737.4053 - mae: 3737.4053\n",
            "Epoch 161/200\n",
            "34/34 [==============================] - 0s 4ms/step - loss: 3731.9963 - mae: 3731.9963\n",
            "Epoch 162/200\n",
            "34/34 [==============================] - 0s 4ms/step - loss: 3727.9634 - mae: 3727.9634\n",
            "Epoch 163/200\n",
            "34/34 [==============================] - 0s 4ms/step - loss: 3726.7756 - mae: 3726.7756\n",
            "Epoch 164/200\n",
            "34/34 [==============================] - 0s 4ms/step - loss: 3730.6978 - mae: 3730.6978\n",
            "Epoch 165/200\n",
            "34/34 [==============================] - 0s 4ms/step - loss: 3719.9832 - mae: 3719.9832\n",
            "Epoch 166/200\n",
            "34/34 [==============================] - 0s 4ms/step - loss: 3724.8391 - mae: 3724.8391\n",
            "Epoch 167/200\n",
            "34/34 [==============================] - 0s 4ms/step - loss: 3722.2410 - mae: 3722.2410\n",
            "Epoch 168/200\n",
            "34/34 [==============================] - 0s 4ms/step - loss: 3719.0071 - mae: 3719.0071\n",
            "Epoch 169/200\n",
            "34/34 [==============================] - 0s 3ms/step - loss: 3719.2148 - mae: 3719.2148\n",
            "Epoch 170/200\n",
            "34/34 [==============================] - 0s 4ms/step - loss: 3712.8230 - mae: 3712.8230\n",
            "Epoch 171/200\n",
            "34/34 [==============================] - 0s 3ms/step - loss: 3712.1436 - mae: 3712.1436\n",
            "Epoch 172/200\n",
            "34/34 [==============================] - 0s 4ms/step - loss: 3712.9204 - mae: 3712.9204\n",
            "Epoch 173/200\n",
            "34/34 [==============================] - 0s 4ms/step - loss: 3709.7498 - mae: 3709.7498\n",
            "Epoch 174/200\n",
            "34/34 [==============================] - 0s 3ms/step - loss: 3713.0569 - mae: 3713.0569\n",
            "Epoch 175/200\n",
            "34/34 [==============================] - 0s 3ms/step - loss: 3715.2971 - mae: 3715.2971\n",
            "Epoch 176/200\n",
            "34/34 [==============================] - 0s 3ms/step - loss: 3710.8982 - mae: 3710.8982\n",
            "Epoch 177/200\n",
            "34/34 [==============================] - 0s 4ms/step - loss: 3704.7893 - mae: 3704.7893\n",
            "Epoch 178/200\n",
            "34/34 [==============================] - 0s 3ms/step - loss: 3701.6223 - mae: 3701.6223\n",
            "Epoch 179/200\n",
            "34/34 [==============================] - 0s 3ms/step - loss: 3712.0498 - mae: 3712.0498\n",
            "Epoch 180/200\n",
            "34/34 [==============================] - 0s 4ms/step - loss: 3714.6211 - mae: 3714.6211\n",
            "Epoch 181/200\n",
            "34/34 [==============================] - 0s 2ms/step - loss: 3700.8477 - mae: 3700.8477\n",
            "Epoch 182/200\n",
            "34/34 [==============================] - 0s 2ms/step - loss: 3698.5808 - mae: 3698.5808\n",
            "Epoch 183/200\n",
            "34/34 [==============================] - 0s 2ms/step - loss: 3697.5549 - mae: 3697.5549\n",
            "Epoch 184/200\n",
            "34/34 [==============================] - 0s 2ms/step - loss: 3702.1711 - mae: 3702.1711\n",
            "Epoch 185/200\n",
            "34/34 [==============================] - 0s 2ms/step - loss: 3697.2859 - mae: 3697.2859\n",
            "Epoch 186/200\n",
            "34/34 [==============================] - 0s 2ms/step - loss: 3699.6304 - mae: 3699.6304\n",
            "Epoch 187/200\n",
            "34/34 [==============================] - 0s 2ms/step - loss: 3693.4404 - mae: 3693.4404\n",
            "Epoch 188/200\n",
            "34/34 [==============================] - 0s 2ms/step - loss: 3698.7354 - mae: 3698.7354\n",
            "Epoch 189/200\n",
            "34/34 [==============================] - 0s 2ms/step - loss: 3689.0247 - mae: 3689.0247\n",
            "Epoch 190/200\n",
            "34/34 [==============================] - 0s 2ms/step - loss: 3688.8276 - mae: 3688.8276\n",
            "Epoch 191/200\n",
            "34/34 [==============================] - 0s 2ms/step - loss: 3703.6494 - mae: 3703.6494\n",
            "Epoch 192/200\n",
            "34/34 [==============================] - 0s 2ms/step - loss: 3690.0498 - mae: 3690.0498\n",
            "Epoch 193/200\n",
            "34/34 [==============================] - 0s 2ms/step - loss: 3679.0645 - mae: 3679.0645\n",
            "Epoch 194/200\n",
            "34/34 [==============================] - 0s 2ms/step - loss: 3679.3638 - mae: 3679.3638\n",
            "Epoch 195/200\n",
            "34/34 [==============================] - 0s 2ms/step - loss: 3678.8328 - mae: 3678.8328\n",
            "Epoch 196/200\n",
            "34/34 [==============================] - 0s 2ms/step - loss: 3686.0217 - mae: 3686.0217\n",
            "Epoch 197/200\n",
            "34/34 [==============================] - 0s 2ms/step - loss: 3670.9858 - mae: 3670.9858\n",
            "Epoch 198/200\n",
            "34/34 [==============================] - 0s 2ms/step - loss: 3676.4888 - mae: 3676.4888\n",
            "Epoch 199/200\n",
            "34/34 [==============================] - 0s 2ms/step - loss: 3685.3689 - mae: 3685.3689\n",
            "Epoch 200/200\n",
            "34/34 [==============================] - 0s 2ms/step - loss: 3671.6958 - mae: 3671.6958\n"
          ]
        }
      ]
    },
    {
      "cell_type": "code",
      "source": [
        "# Evaluating the third model\n",
        "insurance_model_3.evaluate(X_test, y_test)"
      ],
      "metadata": {
        "colab": {
          "base_uri": "https://localhost:8080/"
        },
        "id": "ORSii1vWSSBR",
        "outputId": "9fdfc776-f9c9-49c1-e2cd-83bfc49e773a"
      },
      "execution_count": 92,
      "outputs": [
        {
          "output_type": "stream",
          "name": "stdout",
          "text": [
            "9/9 [==============================] - 0s 4ms/step - loss: 3503.1758 - mae: 3503.1758\n"
          ]
        },
        {
          "output_type": "execute_result",
          "data": {
            "text/plain": [
              "[3503.17578125, 3503.17578125]"
            ]
          },
          "metadata": {},
          "execution_count": 92
        }
      ]
    },
    {
      "cell_type": "code",
      "source": [
        "# Plot history (also known as the loss curve or training curve)\n",
        "pd.DataFrame(history.history).plot()\n",
        "plt.ylabel(\"loss\")\n",
        "plt.xlabel(\"epochs\")"
      ],
      "metadata": {
        "colab": {
          "base_uri": "https://localhost:8080/",
          "height": 466
        },
        "id": "tlOIUojBScLF",
        "outputId": "c4bc2fa7-5c6a-4c53-b46d-ef4337ecdffe"
      },
      "execution_count": 94,
      "outputs": [
        {
          "output_type": "execute_result",
          "data": {
            "text/plain": [
              "Text(0.5, 0, 'epochs')"
            ]
          },
          "metadata": {},
          "execution_count": 94
        },
        {
          "output_type": "display_data",
          "data": {
            "text/plain": [
              "<Figure size 640x480 with 1 Axes>"
            ],
            "image/png": "[encoded data removed]"
          },
          "metadata": {}
        }
      ]
    },
    {
      "cell_type": "markdown",
      "source": [
        "## Preprocessing Data (normalization and standardization)\n",
        "\n",
        "In terms of scaling values, neural networks tends to prefer normalization."
      ],
      "metadata": {
        "id": "22bc7YZ7S_CU"
      }
    },
    {
      "cell_type": "code",
      "source": [
        "import pandas as pd\n",
        "import matplotlib.pyplot as plt\n",
        "import tensorflow as tf\n",
        "\n",
        "# Read the insurance DataFrame\n",
        "insurance = pd.read_csv(\"https://raw.githubusercontent.com/stedy/Machine-Learning-with-R-datasets/master/insurance.csv\")\n",
        "insurance"
      ],
      "metadata": {
        "colab": {
          "base_uri": "https://localhost:8080/",
          "height": 423
        },
        "id": "HNHUS2n4YFiX",
        "outputId": "f10bc24a-701a-429e-9ab2-f8b575f18560"
      },
      "execution_count": 99,
      "outputs": [
        {
          "output_type": "execute_result",
          "data": {
            "text/plain": [
              "      age     sex     bmi  children smoker     region      charges\n",
              "0      19  female  27.900         0    yes  southwest  16884.92400\n",
              "1      18    male  33.770         1     no  southeast   1725.55230\n",
              "2      28    male  33.000         3     no  southeast   4449.46200\n",
              "3      33    male  22.705         0     no  northwest  21984.47061\n",
              "4      32    male  28.880         0     no  northwest   3866.85520\n",
              "...   ...     ...     ...       ...    ...        ...          ...\n",
              "1333   50    male  30.970         3     no  northwest  10600.54830\n",
              "1334   18  female  31.920         0     no  northeast   2205.98080\n",
              "1335   18  female  36.850         0     no  southeast   1629.83350\n",
              "1336   21  female  25.800         0     no  southwest   2007.94500\n",
              "1337   61  female  29.070         0    yes  northwest  29141.36030\n",
              "\n",
              "[1338 rows x 7 columns]"
            ],
            "text/html": [
              "\n",
              "  <div id=\"df-b3a8bc08-57dd-47e3-ac6d-8eda16926368\" class=\"colab-df-container\">\n",
              "    <div>\n",
              "<style scoped>\n",
              "    .dataframe tbody tr th:only-of-type {\n",
              "        vertical-align: middle;\n",
              "    }\n",
              "\n",
              "    .dataframe tbody tr th {\n",
              "        vertical-align: top;\n",
              "    }\n",
              "\n",
              "    .dataframe thead th {\n",
              "        text-align: right;\n",
              "    }\n",
              "</style>\n",
              "<table border=\"1\" class=\"dataframe\">\n",
              "  <thead>\n",
              "    <tr style=\"text-align: right;\">\n",
              "      <th></th>\n",
              "      <th>age</th>\n",
              "      <th>sex</th>\n",
              "      <th>bmi</th>\n",
              "      <th>children</th>\n",
              "      <th>smoker</th>\n",
              "      <th>region</th>\n",
              "      <th>charges</th>\n",
              "    </tr>\n",
              "  </thead>\n",
              "  <tbody>\n",
              "    <tr>\n",
              "      <th>0</th>\n",
              "      <td>19</td>\n",
              "      <td>female</td>\n",
              "      <td>27.900</td>\n",
              "      <td>0</td>\n",
              "      <td>yes</td>\n",
              "      <td>southwest</td>\n",
              "      <td>16884.92400</td>\n",
              "    </tr>\n",
              "    <tr>\n",
              "      <th>1</th>\n",
              "      <td>18</td>\n",
              "      <td>male</td>\n",
              "      <td>33.770</td>\n",
              "      <td>1</td>\n",
              "      <td>no</td>\n",
              "      <td>southeast</td>\n",
              "      <td>1725.55230</td>\n",
              "    </tr>\n",
              "    <tr>\n",
              "      <th>2</th>\n",
              "      <td>28</td>\n",
              "      <td>male</td>\n",
              "      <td>33.000</td>\n",
              "      <td>3</td>\n",
              "      <td>no</td>\n",
              "      <td>southeast</td>\n",
              "      <td>4449.46200</td>\n",
              "    </tr>\n",
              "    <tr>\n",
              "      <th>3</th>\n",
              "      <td>33</td>\n",
              "      <td>male</td>\n",
              "      <td>22.705</td>\n",
              "      <td>0</td>\n",
              "      <td>no</td>\n",
              "      <td>northwest</td>\n",
              "      <td>21984.47061</td>\n",
              "    </tr>\n",
              "    <tr>\n",
              "      <th>4</th>\n",
              "      <td>32</td>\n",
              "      <td>male</td>\n",
              "      <td>28.880</td>\n",
              "      <td>0</td>\n",
              "      <td>no</td>\n",
              "      <td>northwest</td>\n",
              "      <td>3866.85520</td>\n",
              "    </tr>\n",
              "    <tr>\n",
              "      <th>...</th>\n",
              "      <td>...</td>\n",
              "      <td>...</td>\n",
              "      <td>...</td>\n",
              "      <td>...</td>\n",
              "      <td>...</td>\n",
              "      <td>...</td>\n",
              "      <td>...</td>\n",
              "    </tr>\n",
              "    <tr>\n",
              "      <th>1333</th>\n",
              "      <td>50</td>\n",
              "      <td>male</td>\n",
              "      <td>30.970</td>\n",
              "      <td>3</td>\n",
              "      <td>no</td>\n",
              "      <td>northwest</td>\n",
              "      <td>10600.54830</td>\n",
              "    </tr>\n",
              "    <tr>\n",
              "      <th>1334</th>\n",
              "      <td>18</td>\n",
              "      <td>female</td>\n",
              "      <td>31.920</td>\n",
              "      <td>0</td>\n",
              "      <td>no</td>\n",
              "      <td>northeast</td>\n",
              "      <td>2205.98080</td>\n",
              "    </tr>\n",
              "    <tr>\n",
              "      <th>1335</th>\n",
              "      <td>18</td>\n",
              "      <td>female</td>\n",
              "      <td>36.850</td>\n",
              "      <td>0</td>\n",
              "      <td>no</td>\n",
              "      <td>southeast</td>\n",
              "      <td>1629.83350</td>\n",
              "    </tr>\n",
              "    <tr>\n",
              "      <th>1336</th>\n",
              "      <td>21</td>\n",
              "      <td>female</td>\n",
              "      <td>25.800</td>\n",
              "      <td>0</td>\n",
              "      <td>no</td>\n",
              "      <td>southwest</td>\n",
              "      <td>2007.94500</td>\n",
              "    </tr>\n",
              "    <tr>\n",
              "      <th>1337</th>\n",
              "      <td>61</td>\n",
              "      <td>female</td>\n",
              "      <td>29.070</td>\n",
              "      <td>0</td>\n",
              "      <td>yes</td>\n",
              "      <td>northwest</td>\n",
              "      <td>29141.36030</td>\n",
              "    </tr>\n",
              "  </tbody>\n",
              "</table>\n",
              "<p>1338 rows × 7 columns</p>\n",
              "</div>\n",
              "    <div class=\"colab-df-buttons\">\n",
              "\n",
              "  <div class=\"colab-df-container\">\n",
              "    <button class=\"colab-df-convert\" onclick=\"convertToInteractive('df-b3a8bc08-57dd-47e3-ac6d-8eda16926368')\"\n",
              "            title=\"Convert this dataframe to an interactive table.\"\n",
              "            style=\"display:none;\">\n",
              "\n",
              "  <svg xmlns=\"http://www.w3.org/2000/svg\" height=\"24px\" viewBox=\"0 -960 960 960\">\n",
              "    <path d=\"M120-120v-720h720v720H120Zm60-500h600v-160H180v160Zm220 220h160v-160H400v160Zm0 220h160v-160H400v160ZM180-400h160v-160H180v160Zm440 0h160v-160H620v160ZM180-180h160v-160H180v160Zm440 0h160v-160H620v160Z\"/>\n",
              "  </svg>\n",
              "    </button>\n",
              "\n",
              "  <style>\n",
              "    .colab-df-container {\n",
              "      display:flex;\n",
              "      gap: 12px;\n",
              "    }\n",
              "\n",
              "    .colab-df-convert {\n",
              "      background-color: #E8F0FE;\n",
              "      border: none;\n",
              "      border-radius: 50%;\n",
              "      cursor: pointer;\n",
              "      display: none;\n",
              "      fill: #1967D2;\n",
              "      height: 32px;\n",
              "      padding: 0 0 0 0;\n",
              "      width: 32px;\n",
              "    }\n",
              "\n",
              "    .colab-df-convert:hover {\n",
              "      background-color: #E2EBFA;\n",
              "      box-shadow: 0px 1px 2px rgba(60, 64, 67, 0.3), 0px 1px 3px 1px rgba(60, 64, 67, 0.15);\n",
              "      fill: #174EA6;\n",
              "    }\n",
              "\n",
              "    .colab-df-buttons div {\n",
              "      margin-bottom: 4px;\n",
              "    }\n",
              "\n",
              "    [theme=dark] .colab-df-convert {\n",
              "      background-color: #3B4455;\n",
              "      fill: #D2E3FC;\n",
              "    }\n",
              "\n",
              "    [theme=dark] .colab-df-convert:hover {\n",
              "      background-color: #434B5C;\n",
              "      box-shadow: 0px 1px 3px 1px rgba(0, 0, 0, 0.15);\n",
              "      filter: drop-shadow(0px 1px 2px rgba(0, 0, 0, 0.3));\n",
              "      fill: #FFFFFF;\n",
              "    }\n",
              "  </style>\n",
              "\n",
              "    <script>\n",
              "      const buttonEl =\n",
              "        document.querySelector('#df-b3a8bc08-57dd-47e3-ac6d-8eda16926368 button.colab-df-convert');\n",
              "      buttonEl.style.display =\n",
              "        google.colab.kernel.accessAllowed ? 'block' : 'none';\n",
              "\n",
              "      async function convertToInteractive(key) {\n",
              "        const element = document.querySelector('#df-b3a8bc08-57dd-47e3-ac6d-8eda16926368');\n",
              "        const dataTable =\n",
              "          await google.colab.kernel.invokeFunction('convertToInteractive',\n",
              "                                                    [key], {});\n",
              "        if (!dataTable) return;\n",
              "\n",
              "        const docLinkHtml = 'Like what you see? Visit the ' +\n",
              "          '<a target=\"_blank\" href=https://colab.research.google.com/notebooks/data_table.ipynb>data table notebook</a>'\n",
              "          + ' to learn more about interactive tables.';\n",
              "        element.innerHTML = '';\n",
              "        dataTable['output_type'] = 'display_data';\n",
              "        await google.colab.output.renderOutput(dataTable, element);\n",
              "        const docLink = document.createElement('div');\n",
              "        docLink.innerHTML = docLinkHtml;\n",
              "        element.appendChild(docLink);\n",
              "      }\n",
              "    </script>\n",
              "  </div>\n",
              "\n",
              "\n",
              "<div id=\"df-6a0388a7-9dc2-4757-83d1-d26876193189\">\n",
              "  <button class=\"colab-df-quickchart\" onclick=\"quickchart('df-6a0388a7-9dc2-4757-83d1-d26876193189')\"\n",
              "            title=\"Suggest charts\"\n",
              "            style=\"display:none;\">\n",
              "\n",
              "<svg xmlns=\"http://www.w3.org/2000/svg\" height=\"24px\"viewBox=\"0 0 24 24\"\n",
              "     width=\"24px\">\n",
              "    <g>\n",
              "        <path d=\"M19 3H5c-1.1 0-2 .9-2 2v14c0 1.1.9 2 2 2h14c1.1 0 2-.9 2-2V5c0-1.1-.9-2-2-2zM9 17H7v-7h2v7zm4 0h-2V7h2v10zm4 0h-2v-4h2v4z\"/>\n",
              "    </g>\n",
              "</svg>\n",
              "  </button>\n",
              "\n",
              "<style>\n",
              "  .colab-df-quickchart {\n",
              "      --bg-color: #E8F0FE;\n",
              "      --fill-color: #1967D2;\n",
              "      --hover-bg-color: #E2EBFA;\n",
              "      --hover-fill-color: #174EA6;\n",
              "      --disabled-fill-color: #AAA;\n",
              "      --disabled-bg-color: #DDD;\n",
              "  }\n",
              "\n",
              "  [theme=dark] .colab-df-quickchart {\n",
              "      --bg-color: #3B4455;\n",
              "      --fill-color: #D2E3FC;\n",
              "      --hover-bg-color: #434B5C;\n",
              "      --hover-fill-color: #FFFFFF;\n",
              "      --disabled-bg-color: #3B4455;\n",
              "      --disabled-fill-color: #666;\n",
              "  }\n",
              "\n",
              "  .colab-df-quickchart {\n",
              "    background-color: var(--bg-color);\n",
              "    border: none;\n",
              "    border-radius: 50%;\n",
              "    cursor: pointer;\n",
              "    display: none;\n",
              "    fill: var(--fill-color);\n",
              "    height: 32px;\n",
              "    padding: 0;\n",
              "    width: 32px;\n",
              "  }\n",
              "\n",
              "  .colab-df-quickchart:hover {\n",
              "    background-color: var(--hover-bg-color);\n",
              "    box-shadow: 0 1px 2px rgba(60, 64, 67, 0.3), 0 1px 3px 1px rgba(60, 64, 67, 0.15);\n",
              "    fill: var(--button-hover-fill-color);\n",
              "  }\n",
              "\n",
              "  .colab-df-quickchart-complete:disabled,\n",
              "  .colab-df-quickchart-complete:disabled:hover {\n",
              "    background-color: var(--disabled-bg-color);\n",
              "    fill: var(--disabled-fill-color);\n",
              "    box-shadow: none;\n",
              "  }\n",
              "\n",
              "  .colab-df-spinner {\n",
              "    border: 2px solid var(--fill-color);\n",
              "    border-color: transparent;\n",
              "    border-bottom-color: var(--fill-color);\n",
              "    animation:\n",
              "      spin 1s steps(1) infinite;\n",
              "  }\n",
              "\n",
              "  @keyframes spin {\n",
              "    0% {\n",
              "      border-color: transparent;\n",
              "      border-bottom-color: var(--fill-color);\n",
              "      border-left-color: var(--fill-color);\n",
              "    }\n",
              "    20% {\n",
              "      border-color: transparent;\n",
              "      border-left-color: var(--fill-color);\n",
              "      border-top-color: var(--fill-color);\n",
              "    }\n",
              "    30% {\n",
              "      border-color: transparent;\n",
              "      border-left-color: var(--fill-color);\n",
              "      border-top-color: var(--fill-color);\n",
              "      border-right-color: var(--fill-color);\n",
              "    }\n",
              "    40% {\n",
              "      border-color: transparent;\n",
              "      border-right-color: var(--fill-color);\n",
              "      border-top-color: var(--fill-color);\n",
              "    }\n",
              "    60% {\n",
              "      border-color: transparent;\n",
              "      border-right-color: var(--fill-color);\n",
              "    }\n",
              "    80% {\n",
              "      border-color: transparent;\n",
              "      border-right-color: var(--fill-color);\n",
              "      border-bottom-color: var(--fill-color);\n",
              "    }\n",
              "    90% {\n",
              "      border-color: transparent;\n",
              "      border-bottom-color: var(--fill-color);\n",
              "    }\n",
              "  }\n",
              "</style>\n",
              "\n",
              "  <script>\n",
              "    async function quickchart(key) {\n",
              "      const quickchartButtonEl =\n",
              "        document.querySelector('#' + key + ' button');\n",
              "      quickchartButtonEl.disabled = true;  // To prevent multiple clicks.\n",
              "      quickchartButtonEl.classList.add('colab-df-spinner');\n",
              "      try {\n",
              "        const charts = await google.colab.kernel.invokeFunction(\n",
              "            'suggestCharts', [key], {});\n",
              "      } catch (error) {\n",
              "        console.error('Error during call to suggestCharts:', error);\n",
              "      }\n",
              "      quickchartButtonEl.classList.remove('colab-df-spinner');\n",
              "      quickchartButtonEl.classList.add('colab-df-quickchart-complete');\n",
              "    }\n",
              "    (() => {\n",
              "      let quickchartButtonEl =\n",
              "        document.querySelector('#df-6a0388a7-9dc2-4757-83d1-d26876193189 button');\n",
              "      quickchartButtonEl.style.display =\n",
              "        google.colab.kernel.accessAllowed ? 'block' : 'none';\n",
              "    })();\n",
              "  </script>\n",
              "</div>\n",
              "    </div>\n",
              "  </div>\n"
            ]
          },
          "metadata": {},
          "execution_count": 99
        }
      ]
    },
    {
      "cell_type": "code",
      "source": [
        "from sklearn.compose import make_column_transformer\n",
        "from sklearn.preprocessing import MinMaxScaler, OneHotEncoder\n",
        "from sklearn.model_selection import train_test_split\n",
        "\n",
        "# Create a column transformer\n",
        "ct =  make_column_transformer(\n",
        "    (MinMaxScaler(), [\"age\", \"bmi\", \"children\"]), # Turning all values in these columns between 0-1\n",
        "    (OneHotEncoder(handle_unknown=\"ignore\"), [\"sex\",\"smoker\",\"region\"])\n",
        ")\n",
        "\n",
        "# Create X & y\n",
        "X = insurance.drop(\"charges\", axis = 1)\n",
        "y = insurance[\"charges\"]\n",
        "\n",
        "# Building train and test splits\n",
        "X_train, X_test, y_train, y_test = train_test_split(X, y, test_size = 0.2, random_state = 42)\n",
        "\n",
        "# Fit the column transformer to the training data\n",
        "ct.fit(X_train)\n",
        "\n",
        "# Transform training and testing data with normalization (MinMaxScalar) and OneHotEncoder\n",
        "X_train_normal = ct.transform(X_train)\n",
        "X_test_normal = ct.transform(X_test)"
      ],
      "metadata": {
        "id": "knjoBGz4Y5pb"
      },
      "execution_count": 106,
      "outputs": []
    },
    {
      "cell_type": "code",
      "source": [
        "X_train.loc[0]"
      ],
      "metadata": {
        "colab": {
          "base_uri": "https://localhost:8080/"
        },
        "id": "VwoDFer9bdhf",
        "outputId": "856faff6-5a3a-472b-d76c-f48b60e632f9"
      },
      "execution_count": 108,
      "outputs": [
        {
          "output_type": "execute_result",
          "data": {
            "text/plain": [
              "age                19\n",
              "sex            female\n",
              "bmi              27.9\n",
              "children            0\n",
              "smoker            yes\n",
              "region      southwest\n",
              "Name: 0, dtype: object"
            ]
          },
          "metadata": {},
          "execution_count": 108
        }
      ]
    },
    {
      "cell_type": "code",
      "source": [
        "X_train_normal[0]"
      ],
      "metadata": {
        "colab": {
          "base_uri": "https://localhost:8080/"
        },
        "id": "Q092sybJZcym",
        "outputId": "e263eafe-050b-44d2-8780-e7a0728cb367"
      },
      "execution_count": 107,
      "outputs": [
        {
          "output_type": "execute_result",
          "data": {
            "text/plain": [
              "array([0.60869565, 0.10734463, 0.4       , 1.        , 0.        ,\n",
              "       1.        , 0.        , 0.        , 1.        , 0.        ,\n",
              "       0.        ])"
            ]
          },
          "metadata": {},
          "execution_count": 107
        }
      ]
    },
    {
      "cell_type": "code",
      "source": [
        "X_train.shape ,X_train_normal.shape"
      ],
      "metadata": {
        "colab": {
          "base_uri": "https://localhost:8080/"
        },
        "id": "zpd5Xxf1bb58",
        "outputId": "7545cf37-aa80-48b0-88f5-0c0180dd1db0"
      },
      "execution_count": 110,
      "outputs": [
        {
          "output_type": "execute_result",
          "data": {
            "text/plain": [
              "((1070, 6), (1070, 11))"
            ]
          },
          "metadata": {},
          "execution_count": 110
        }
      ]
    },
    {
      "cell_type": "code",
      "source": [
        "# Build a neural network model to fit on the normalized data\n",
        "tf.random.set_seed(42)\n",
        "\n",
        "# 1. Create a model\n",
        "insurance_model_4 = tf.keras.Sequential([\n",
        "    tf.keras.layers.Dense(100),\n",
        "    tf.keras.layers.Dense(10),\n",
        "    tf.keras.layers.Dense(1)\n",
        "])\n",
        "\n",
        "# 2. Compile the model\n",
        "insurance_model_4.compile(loss = tf.keras.losses.mae,\n",
        "                          optimizer = tf.keras.optimizers.Adam(),\n",
        "                          metrics = [\"mae\"])\n",
        "\n",
        "# 3. Fit the model\n",
        "insurance_model_4.fit(X_train_normal, y_train, epochs = 100)"
      ],
      "metadata": {
        "colab": {
          "base_uri": "https://localhost:8080/"
        },
        "id": "5VDkdqw3bhxH",
        "outputId": "401cbc98-f31c-4575-8983-f22f77f54bcd"
      },
      "execution_count": 111,
      "outputs": [
        {
          "output_type": "stream",
          "name": "stdout",
          "text": [
            "Epoch 1/100\n",
            "34/34 [==============================] - 3s 6ms/step - loss: 13344.7559 - mae: 13344.7559\n",
            "Epoch 2/100\n",
            "34/34 [==============================] - 0s 7ms/step - loss: 13339.0391 - mae: 13339.0391\n",
            "Epoch 3/100\n",
            "34/34 [==============================] - 0s 6ms/step - loss: 13323.3330 - mae: 13323.3330\n",
            "Epoch 4/100\n",
            "34/34 [==============================] - 0s 5ms/step - loss: 13288.0869 - mae: 13288.0869\n",
            "Epoch 5/100\n",
            "34/34 [==============================] - 0s 6ms/step - loss: 13222.6230 - mae: 13222.6230\n",
            "Epoch 6/100\n",
            "34/34 [==============================] - 0s 5ms/step - loss: 13115.5586 - mae: 13115.5586\n",
            "Epoch 7/100\n",
            "34/34 [==============================] - 0s 5ms/step - loss: 12956.0010 - mae: 12956.0010\n",
            "Epoch 8/100\n",
            "34/34 [==============================] - 0s 6ms/step - loss: 12733.4814 - mae: 12733.4814\n",
            "Epoch 9/100\n",
            "34/34 [==============================] - 0s 4ms/step - loss: 12437.5254 - mae: 12437.5254\n",
            "Epoch 10/100\n",
            "34/34 [==============================] - 0s 6ms/step - loss: 12059.8184 - mae: 12059.8184\n",
            "Epoch 11/100\n",
            "34/34 [==============================] - 0s 5ms/step - loss: 11605.3262 - mae: 11605.3262\n",
            "Epoch 12/100\n",
            "34/34 [==============================] - 0s 6ms/step - loss: 11098.9492 - mae: 11098.9492\n",
            "Epoch 13/100\n",
            "34/34 [==============================] - 0s 7ms/step - loss: 10594.5732 - mae: 10594.5732\n",
            "Epoch 14/100\n",
            "34/34 [==============================] - 0s 6ms/step - loss: 10092.7705 - mae: 10092.7705\n",
            "Epoch 15/100\n",
            "34/34 [==============================] - 0s 5ms/step - loss: 9612.8418 - mae: 9612.8418\n",
            "Epoch 16/100\n",
            "34/34 [==============================] - 0s 6ms/step - loss: 9174.4912 - mae: 9174.4912\n",
            "Epoch 17/100\n",
            "34/34 [==============================] - 0s 7ms/step - loss: 8805.3809 - mae: 8805.3809\n",
            "Epoch 18/100\n",
            "34/34 [==============================] - 0s 7ms/step - loss: 8508.2227 - mae: 8508.2227\n",
            "Epoch 19/100\n",
            "34/34 [==============================] - 0s 8ms/step - loss: 8276.7061 - mae: 8276.7061\n",
            "Epoch 20/100\n",
            "34/34 [==============================] - 0s 10ms/step - loss: 8117.9028 - mae: 8117.9028\n",
            "Epoch 21/100\n",
            "34/34 [==============================] - 0s 7ms/step - loss: 7999.0391 - mae: 7999.0391\n",
            "Epoch 22/100\n",
            "34/34 [==============================] - 0s 4ms/step - loss: 7916.1777 - mae: 7916.1777\n",
            "Epoch 23/100\n",
            "34/34 [==============================] - 0s 3ms/step - loss: 7854.3208 - mae: 7854.3208\n",
            "Epoch 24/100\n",
            "34/34 [==============================] - 0s 4ms/step - loss: 7800.6938 - mae: 7800.6938\n",
            "Epoch 25/100\n",
            "34/34 [==============================] - 0s 3ms/step - loss: 7762.1128 - mae: 7762.1128\n",
            "Epoch 26/100\n",
            "34/34 [==============================] - 0s 3ms/step - loss: 7711.0029 - mae: 7711.0029\n",
            "Epoch 27/100\n",
            "34/34 [==============================] - 0s 3ms/step - loss: 7669.9292 - mae: 7669.9292\n",
            "Epoch 28/100\n",
            "34/34 [==============================] - 0s 3ms/step - loss: 7628.4458 - mae: 7628.4458\n",
            "Epoch 29/100\n",
            "34/34 [==============================] - 0s 3ms/step - loss: 7586.6724 - mae: 7586.6724\n",
            "Epoch 30/100\n",
            "34/34 [==============================] - 0s 4ms/step - loss: 7544.3750 - mae: 7544.3750\n",
            "Epoch 31/100\n",
            "34/34 [==============================] - 0s 3ms/step - loss: 7501.8208 - mae: 7501.8208\n",
            "Epoch 32/100\n",
            "34/34 [==============================] - 0s 3ms/step - loss: 7459.0264 - mae: 7459.0264\n",
            "Epoch 33/100\n",
            "34/34 [==============================] - 0s 3ms/step - loss: 7416.0811 - mae: 7416.0811\n",
            "Epoch 34/100\n",
            "34/34 [==============================] - 0s 4ms/step - loss: 7369.4351 - mae: 7369.4351\n",
            "Epoch 35/100\n",
            "34/34 [==============================] - 0s 2ms/step - loss: 7324.3101 - mae: 7324.3101\n",
            "Epoch 36/100\n",
            "34/34 [==============================] - 0s 2ms/step - loss: 7276.0044 - mae: 7276.0044\n",
            "Epoch 37/100\n",
            "34/34 [==============================] - 0s 2ms/step - loss: 7227.4688 - mae: 7227.4688\n",
            "Epoch 38/100\n",
            "34/34 [==============================] - 0s 2ms/step - loss: 7178.2988 - mae: 7178.2988\n",
            "Epoch 39/100\n",
            "34/34 [==============================] - 0s 2ms/step - loss: 7125.6265 - mae: 7125.6265\n",
            "Epoch 40/100\n",
            "34/34 [==============================] - 0s 3ms/step - loss: 7072.4521 - mae: 7072.4521\n",
            "Epoch 41/100\n",
            "34/34 [==============================] - 0s 2ms/step - loss: 7018.0771 - mae: 7018.0771\n",
            "Epoch 42/100\n",
            "34/34 [==============================] - 0s 2ms/step - loss: 6961.8540 - mae: 6961.8540\n",
            "Epoch 43/100\n",
            "34/34 [==============================] - 0s 2ms/step - loss: 6901.8618 - mae: 6901.8618\n",
            "Epoch 44/100\n",
            "34/34 [==============================] - 0s 2ms/step - loss: 6838.6831 - mae: 6838.6831\n",
            "Epoch 45/100\n",
            "34/34 [==============================] - 0s 2ms/step - loss: 6774.7651 - mae: 6774.7651\n",
            "Epoch 46/100\n",
            "34/34 [==============================] - 0s 2ms/step - loss: 6708.7891 - mae: 6708.7891\n",
            "Epoch 47/100\n",
            "34/34 [==============================] - 0s 2ms/step - loss: 6641.6548 - mae: 6641.6548\n",
            "Epoch 48/100\n",
            "34/34 [==============================] - 0s 2ms/step - loss: 6566.5718 - mae: 6566.5718\n",
            "Epoch 49/100\n",
            "34/34 [==============================] - 0s 2ms/step - loss: 6491.8535 - mae: 6491.8535\n",
            "Epoch 50/100\n",
            "34/34 [==============================] - 0s 2ms/step - loss: 6410.2676 - mae: 6410.2676\n",
            "Epoch 51/100\n",
            "34/34 [==============================] - 0s 2ms/step - loss: 6330.8662 - mae: 6330.8662\n",
            "Epoch 52/100\n",
            "34/34 [==============================] - 0s 2ms/step - loss: 6242.1401 - mae: 6242.1401\n",
            "Epoch 53/100\n",
            "34/34 [==============================] - 0s 2ms/step - loss: 6151.4951 - mae: 6151.4951\n",
            "Epoch 54/100\n",
            "34/34 [==============================] - 0s 2ms/step - loss: 6058.3457 - mae: 6058.3457\n",
            "Epoch 55/100\n",
            "34/34 [==============================] - 0s 2ms/step - loss: 5956.6904 - mae: 5956.6904\n",
            "Epoch 56/100\n",
            "34/34 [==============================] - 0s 2ms/step - loss: 5854.2583 - mae: 5854.2583\n",
            "Epoch 57/100\n",
            "34/34 [==============================] - 0s 2ms/step - loss: 5744.5020 - mae: 5744.5020\n",
            "Epoch 58/100\n",
            "34/34 [==============================] - 0s 2ms/step - loss: 5630.1079 - mae: 5630.1079\n",
            "Epoch 59/100\n",
            "34/34 [==============================] - 0s 2ms/step - loss: 5515.9971 - mae: 5515.9971\n",
            "Epoch 60/100\n",
            "34/34 [==============================] - 0s 2ms/step - loss: 5400.3037 - mae: 5400.3037\n",
            "Epoch 61/100\n",
            "34/34 [==============================] - 0s 2ms/step - loss: 5277.1211 - mae: 5277.1211\n",
            "Epoch 62/100\n",
            "34/34 [==============================] - 0s 2ms/step - loss: 5152.6455 - mae: 5152.6455\n",
            "Epoch 63/100\n",
            "34/34 [==============================] - 0s 2ms/step - loss: 5027.9517 - mae: 5027.9517\n",
            "Epoch 64/100\n",
            "34/34 [==============================] - 0s 2ms/step - loss: 4897.0605 - mae: 4897.0605\n",
            "Epoch 65/100\n",
            "34/34 [==============================] - 0s 2ms/step - loss: 4769.9902 - mae: 4769.9902\n",
            "Epoch 66/100\n",
            "34/34 [==============================] - 0s 2ms/step - loss: 4640.4482 - mae: 4640.4482\n",
            "Epoch 67/100\n",
            "34/34 [==============================] - 0s 2ms/step - loss: 4520.6050 - mae: 4520.6050\n",
            "Epoch 68/100\n",
            "34/34 [==============================] - 0s 2ms/step - loss: 4406.4712 - mae: 4406.4712\n",
            "Epoch 69/100\n",
            "34/34 [==============================] - 0s 2ms/step - loss: 4300.5166 - mae: 4300.5166\n",
            "Epoch 70/100\n",
            "34/34 [==============================] - 0s 2ms/step - loss: 4200.0156 - mae: 4200.0156\n",
            "Epoch 71/100\n",
            "34/34 [==============================] - 0s 2ms/step - loss: 4105.9692 - mae: 4105.9692\n",
            "Epoch 72/100\n",
            "34/34 [==============================] - 0s 2ms/step - loss: 4020.0701 - mae: 4020.0701\n",
            "Epoch 73/100\n",
            "34/34 [==============================] - 0s 2ms/step - loss: 3943.8823 - mae: 3943.8823\n",
            "Epoch 74/100\n",
            "34/34 [==============================] - 0s 2ms/step - loss: 3878.1816 - mae: 3878.1816\n",
            "Epoch 75/100\n",
            "34/34 [==============================] - 0s 3ms/step - loss: 3826.7478 - mae: 3826.7478\n",
            "Epoch 76/100\n",
            "34/34 [==============================] - 0s 2ms/step - loss: 3784.8181 - mae: 3784.8181\n",
            "Epoch 77/100\n",
            "34/34 [==============================] - 0s 3ms/step - loss: 3750.3655 - mae: 3750.3655\n",
            "Epoch 78/100\n",
            "34/34 [==============================] - 0s 2ms/step - loss: 3726.0847 - mae: 3726.0847\n",
            "Epoch 79/100\n",
            "34/34 [==============================] - 0s 2ms/step - loss: 3707.1287 - mae: 3707.1287\n",
            "Epoch 80/100\n",
            "34/34 [==============================] - 0s 2ms/step - loss: 3694.3416 - mae: 3694.3416\n",
            "Epoch 81/100\n",
            "34/34 [==============================] - 0s 2ms/step - loss: 3685.5625 - mae: 3685.5625\n",
            "Epoch 82/100\n",
            "34/34 [==============================] - 0s 2ms/step - loss: 3680.3750 - mae: 3680.3750\n",
            "Epoch 83/100\n",
            "34/34 [==============================] - 0s 2ms/step - loss: 3672.4167 - mae: 3672.4167\n",
            "Epoch 84/100\n",
            "34/34 [==============================] - 0s 2ms/step - loss: 3668.7317 - mae: 3668.7317\n",
            "Epoch 85/100\n",
            "34/34 [==============================] - 0s 2ms/step - loss: 3666.0964 - mae: 3666.0964\n",
            "Epoch 86/100\n",
            "34/34 [==============================] - 0s 2ms/step - loss: 3663.1316 - mae: 3663.1316\n",
            "Epoch 87/100\n",
            "34/34 [==============================] - 0s 2ms/step - loss: 3660.0359 - mae: 3660.0359\n",
            "Epoch 88/100\n",
            "34/34 [==============================] - 0s 2ms/step - loss: 3657.4199 - mae: 3657.4199\n",
            "Epoch 89/100\n",
            "34/34 [==============================] - 0s 2ms/step - loss: 3655.4534 - mae: 3655.4534\n",
            "Epoch 90/100\n",
            "34/34 [==============================] - 0s 2ms/step - loss: 3653.8391 - mae: 3653.8391\n",
            "Epoch 91/100\n",
            "34/34 [==============================] - 0s 2ms/step - loss: 3651.0098 - mae: 3651.0098\n",
            "Epoch 92/100\n",
            "34/34 [==============================] - 0s 2ms/step - loss: 3650.0869 - mae: 3650.0869\n",
            "Epoch 93/100\n",
            "34/34 [==============================] - 0s 2ms/step - loss: 3647.9014 - mae: 3647.9014\n",
            "Epoch 94/100\n",
            "34/34 [==============================] - 0s 2ms/step - loss: 3646.2732 - mae: 3646.2732\n",
            "Epoch 95/100\n",
            "34/34 [==============================] - 0s 2ms/step - loss: 3647.2827 - mae: 3647.2827\n",
            "Epoch 96/100\n",
            "34/34 [==============================] - 0s 2ms/step - loss: 3644.1780 - mae: 3644.1780\n",
            "Epoch 97/100\n",
            "34/34 [==============================] - 0s 2ms/step - loss: 3641.7751 - mae: 3641.7751\n",
            "Epoch 98/100\n",
            "34/34 [==============================] - 0s 2ms/step - loss: 3639.7295 - mae: 3639.7295\n",
            "Epoch 99/100\n",
            "34/34 [==============================] - 0s 2ms/step - loss: 3639.1438 - mae: 3639.1438\n",
            "Epoch 100/100\n",
            "34/34 [==============================] - 0s 2ms/step - loss: 3637.6851 - mae: 3637.6851\n"
          ]
        },
        {
          "output_type": "execute_result",
          "data": {
            "text/plain": [
              "<keras.src.callbacks.History at 0x7e42eefedba0>"
            ]
          },
          "metadata": {},
          "execution_count": 111
        }
      ]
    },
    {
      "cell_type": "code",
      "source": [
        "# Evaluate the insurance model trained on normalized data\n",
        "insurance_model_4.evaluate(X_test_normal, y_test)"
      ],
      "metadata": {
        "colab": {
          "base_uri": "https://localhost:8080/"
        },
        "id": "z3LUn0A7cXyP",
        "outputId": "d1c4f637-3d4f-422a-8bce-bf79665bace9"
      },
      "execution_count": 112,
      "outputs": [
        {
          "output_type": "stream",
          "name": "stdout",
          "text": [
            "9/9 [==============================] - 0s 4ms/step - loss: 3442.8350 - mae: 3442.8350\n"
          ]
        },
        {
          "output_type": "execute_result",
          "data": {
            "text/plain": [
              "[3442.8349609375, 3442.8349609375]"
            ]
          },
          "metadata": {},
          "execution_count": 112
        }
      ]
    },
    {
      "cell_type": "code",
      "source": [],
      "metadata": {
        "id": "lYHaVUWrcjwi"
      },
      "execution_count": null,
      "outputs": []
    }
  ]
}